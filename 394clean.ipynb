{
 "cells": [
  {
   "cell_type": "code",
   "execution_count": 1,
   "metadata": {},
   "outputs": [],
   "source": [
    "from pulp import *\n",
    "from itertools import product\n",
    "import numpy as np\n",
    "import pandas as pd\n",
    "from scipy.optimize import minimize\n",
    "from tqdm import tqdm"
   ]
  },
  {
   "cell_type": "markdown",
   "metadata": {},
   "source": [
    "#### Sets"
   ]
  },
  {
   "cell_type": "code",
   "execution_count": 2,
   "metadata": {},
   "outputs": [
    {
     "name": "stdout",
     "output_type": "stream",
     "text": [
      "CPU times: user 84.4 ms, sys: 11.1 ms, total: 95.5 ms\n",
      "Wall time: 2.29 s\n"
     ]
    }
   ],
   "source": [
    "%%time\n",
    "#import files from github\n",
    "\n",
    "V = pd.read_csv('https://raw.githubusercontent.com/saif1457/iems394/master/data/V.csv') #vehicle types\n",
    "F = pd.read_csv('https://raw.githubusercontent.com/saif1457/iems394/master/data/F.csv') #fuel types\n",
    "E = pd.read_csv('https://raw.githubusercontent.com/saif1457/iems394/master/data/E.csv') #driving env\n",
    "R = pd.read_csv('https://raw.githubusercontent.com/saif1457/iems394/master/data/R.csv') #counties\n",
    "M = pd.read_csv('https://raw.githubusercontent.com/saif1457/iems394/master/data/M.csv') #charging stations\n",
    "S = pd.read_csv('https://raw.githubusercontent.com/saif1457/iems394/master/data/S.csv') #states\n",
    "\n",
    "F['fuel_type'] = F['fuel_type'].apply(lambda x: x.replace('electricity','Electricity'))"
   ]
  },
  {
   "cell_type": "code",
   "execution_count": 27,
   "metadata": {},
   "outputs": [],
   "source": [
    "VEHICLE_TYPES = list(V['vehicle_type'])\n",
    "FUEL_TYPES = list(F['fuel_type'])\n",
    "DRIVING_ENV = list(E['driving_environment'])\n",
    "COUNTIES = list(R['county'])\n",
    "CHARGING_STATIONS = list(M['filling_stations'])\n",
    "STATES = list(S['state'])"
   ]
  },
  {
   "cell_type": "markdown",
   "metadata": {},
   "source": [
    "#### Parameters\n",
    "Parameters describe objects statically, and is constant in a single simulation. Parameters are only changed to adjust model behaviour."
   ]
  },
  {
   "cell_type": "code",
   "execution_count": 16,
   "metadata": {},
   "outputs": [
    {
     "name": "stdout",
     "output_type": "stream",
     "text": [
      "CPU times: user 123 ms, sys: 8.46 ms, total: 131 ms\n",
      "Wall time: 1.23 s\n"
     ]
    }
   ],
   "source": [
    "%%time\n",
    "#EF(f,s): Emission factor for fuel type f in state s, in gallons/mile  \n",
    "EF = pd.read_csv('https://raw.githubusercontent.com/saif1457/iems394/master/data/EF(f%2Cs).csv')\n",
    "EF['fuel_type'] = EF['fuel_type'].apply(lambda x: x.replace('electricity','Electricity'))\n",
    "#FE(v,f):Average fuel economy for vehicle type v using fuel f\n",
    "FE = pd.read_csv('https://raw.githubusercontent.com/saif1457/iems394/master/data/FE(v%2Cf).csv')\n",
    "FE['fuel_type'] = FE['fuel_type'].apply(lambda x: x.replace('electricity','Electricity'))\n",
    "#C(f): Cost of fuel type f \n",
    "C = pd.read_csv('https://raw.githubusercontent.com/saif1457/iems394/master/data/C(F).csv')\n",
    "#CC (v,s): Capital cost of vehicle type v in state s\n",
    "CC = pd.read_csv('https://raw.githubusercontent.com/saif1457/iems394/master/data/CC(v%2Cs).csv') \n",
    "CC['yearly_cost'] = np.where(CC['vehicle_type']=='BEV', CC['cost_minus_rebate']/8.5,  CC['cost_minus_rebate']/5.5)\n",
    "#BEVs are paid off in approx. 8-9 years, SIDI_ICE and FFV in avg 5.5 years\n",
    "# CC['cost_minus_rebate'] = CC['cost_minus_rebate']/5.5\n",
    "#CG: cost of fuel/gallon\n",
    "CG = pd.read_csv('https://raw.githubusercontent.com/saif1457/iems394/master/data/CG(F).csv')\n",
    "CG['fuel_type'] = CG['fuel_type'].apply(lambda x: x.replace('electricity','Electricity'))\n",
    "#D: Emission decrease goals per year\n",
    "D = 0.25\n",
    "#W(s):Current yearly GHG emissions per state\n",
    "W = pd.read_csv('https://raw.githubusercontent.com/saif1457/iems394/master/data/W(s).csv')\n",
    "#TM (v, f, r): Total miles for vehicle v using fuel f in county r\n",
    "TM = pd.read_csv('https://raw.githubusercontent.com/saif1457/iems394/master/data/TM(f%2Cs).csv')\n",
    "# # TM.drop(['household_income_ID'],axis=1,inplace=True)\n",
    "#N(r): Average income per county  \n",
    "N = pd.read_csv('https://raw.githubusercontent.com/saif1457/iems394/master/data/N(r).csv')\n",
    "# N.drop(['household_income_ID'],axis=1,inplace=True)\n",
    "#B(r) county + state linking table\n",
    "B = pd.read_csv('https://raw.githubusercontent.com/saif1457/iems394/master/data/B(r).csv')\n",
    "#CF(v,f): Fuel consumption for vehicle type v using fuel f (1/fuel economy)\n",
    "CF = FE\n",
    "CF['fuel_consumption'] = (1 / CF['fuel_economy'])\n"
   ]
  },
  {
   "cell_type": "code",
   "execution_count": 26,
   "metadata": {},
   "outputs": [
    {
     "data": {
      "text/html": [
       "<div>\n",
       "<style scoped>\n",
       "    .dataframe tbody tr th:only-of-type {\n",
       "        vertical-align: middle;\n",
       "    }\n",
       "\n",
       "    .dataframe tbody tr th {\n",
       "        vertical-align: top;\n",
       "    }\n",
       "\n",
       "    .dataframe thead th {\n",
       "        text-align: right;\n",
       "    }\n",
       "</style>\n",
       "<table border=\"1\" class=\"dataframe\">\n",
       "  <thead>\n",
       "    <tr style=\"text-align: right;\">\n",
       "      <th></th>\n",
       "      <th>state</th>\n",
       "      <th>vehicle_type</th>\n",
       "      <th>capital_cost</th>\n",
       "      <th>state_rebate</th>\n",
       "      <th>federal_rebate</th>\n",
       "      <th>cost_minus_rebate</th>\n",
       "      <th>yearly_cost</th>\n",
       "    </tr>\n",
       "  </thead>\n",
       "  <tbody>\n",
       "    <tr>\n",
       "      <th>0</th>\n",
       "      <td>CA</td>\n",
       "      <td>BEV</td>\n",
       "      <td>55000</td>\n",
       "      <td>2000</td>\n",
       "      <td>5000</td>\n",
       "      <td>48000</td>\n",
       "      <td>5647.058824</td>\n",
       "    </tr>\n",
       "    <tr>\n",
       "      <th>1</th>\n",
       "      <td>CA</td>\n",
       "      <td>SIDI_ICE</td>\n",
       "      <td>36000</td>\n",
       "      <td>0</td>\n",
       "      <td>0</td>\n",
       "      <td>36000</td>\n",
       "      <td>6545.454545</td>\n",
       "    </tr>\n",
       "    <tr>\n",
       "      <th>2</th>\n",
       "      <td>CA</td>\n",
       "      <td>FFV</td>\n",
       "      <td>36000</td>\n",
       "      <td>0</td>\n",
       "      <td>0</td>\n",
       "      <td>36000</td>\n",
       "      <td>6545.454545</td>\n",
       "    </tr>\n",
       "    <tr>\n",
       "      <th>3</th>\n",
       "      <td>MN</td>\n",
       "      <td>BEV</td>\n",
       "      <td>55000</td>\n",
       "      <td>250</td>\n",
       "      <td>5000</td>\n",
       "      <td>49750</td>\n",
       "      <td>5852.941176</td>\n",
       "    </tr>\n",
       "    <tr>\n",
       "      <th>4</th>\n",
       "      <td>MN</td>\n",
       "      <td>SIDI_ICE</td>\n",
       "      <td>36000</td>\n",
       "      <td>0</td>\n",
       "      <td>0</td>\n",
       "      <td>36000</td>\n",
       "      <td>6545.454545</td>\n",
       "    </tr>\n",
       "    <tr>\n",
       "      <th>5</th>\n",
       "      <td>MN</td>\n",
       "      <td>FFV</td>\n",
       "      <td>36000</td>\n",
       "      <td>0</td>\n",
       "      <td>0</td>\n",
       "      <td>36000</td>\n",
       "      <td>6545.454545</td>\n",
       "    </tr>\n",
       "    <tr>\n",
       "      <th>6</th>\n",
       "      <td>TX</td>\n",
       "      <td>BEV</td>\n",
       "      <td>55000</td>\n",
       "      <td>2500</td>\n",
       "      <td>5000</td>\n",
       "      <td>47500</td>\n",
       "      <td>5588.235294</td>\n",
       "    </tr>\n",
       "    <tr>\n",
       "      <th>7</th>\n",
       "      <td>TX</td>\n",
       "      <td>SIDI_ICE</td>\n",
       "      <td>36000</td>\n",
       "      <td>0</td>\n",
       "      <td>0</td>\n",
       "      <td>36000</td>\n",
       "      <td>6545.454545</td>\n",
       "    </tr>\n",
       "    <tr>\n",
       "      <th>8</th>\n",
       "      <td>TX</td>\n",
       "      <td>FFV</td>\n",
       "      <td>36000</td>\n",
       "      <td>0</td>\n",
       "      <td>0</td>\n",
       "      <td>36000</td>\n",
       "      <td>6545.454545</td>\n",
       "    </tr>\n",
       "  </tbody>\n",
       "</table>\n",
       "</div>"
      ],
      "text/plain": [
       "  state vehicle_type  capital_cost  state_rebate  federal_rebate  \\\n",
       "0    CA          BEV         55000          2000            5000   \n",
       "1    CA     SIDI_ICE         36000             0               0   \n",
       "2    CA          FFV         36000             0               0   \n",
       "3    MN          BEV         55000           250            5000   \n",
       "4    MN     SIDI_ICE         36000             0               0   \n",
       "5    MN          FFV         36000             0               0   \n",
       "6    TX          BEV         55000          2500            5000   \n",
       "7    TX     SIDI_ICE         36000             0               0   \n",
       "8    TX          FFV         36000             0               0   \n",
       "\n",
       "   cost_minus_rebate  yearly_cost  \n",
       "0              48000  5647.058824  \n",
       "1              36000  6545.454545  \n",
       "2              36000  6545.454545  \n",
       "3              49750  5852.941176  \n",
       "4              36000  6545.454545  \n",
       "5              36000  6545.454545  \n",
       "6              47500  5588.235294  \n",
       "7              36000  6545.454545  \n",
       "8              36000  6545.454545  "
      ]
     },
     "execution_count": 26,
     "metadata": {},
     "output_type": "execute_result"
    }
   ],
   "source": []
  },
  {
   "cell_type": "markdown",
   "metadata": {},
   "source": [
    "# Variables\n",
    "Variables represent a model state and may change during simulation."
   ]
  },
  {
   "cell_type": "code",
   "execution_count": 5,
   "metadata": {},
   "outputs": [],
   "source": [
    "v = V['vehicle_type']\n",
    "f = F['fuel_type']\n",
    "r = R['county']\n",
    "\n",
    "def variable_n():\n",
    "    '''\n",
    "    n(r,v,f) total optimal count of vehicle v using fuel type f in county r\n",
    "    '''\n",
    "    n = pd.DataFrame(list(product(r,v,f)), columns=['county', 'vehicle_type','fuel_type'])\n",
    "    n['count'] = 0\n",
    "    \n",
    "    bev_elec = n[(n['vehicle_type']== 'BEV') & (n['fuel_type']== 'Electricity')]\n",
    "    gas_e10 = n[(n['vehicle_type']== 'SIDI_ICE') & (n['fuel_type']== 'E10')]\n",
    "    ffv_e85 = n[(n['vehicle_type']== 'FFV') & (n['fuel_type']== 'E85')]\n",
    "\n",
    "    result = pd.concat([bev_elec,gas_e10,ffv_e85])\n",
    "    result.sort_values(by=['county','vehicle_type'],inplace=True)\n",
    "    result.reset_index(drop=True, inplace=True)\n",
    "    return result\n",
    "\n",
    "def variable_fc():\n",
    "    '''\n",
    "    fc(r,v,f) Total fuel consumption by vehicle v using fuel type f in county r\n",
    "    '''\n",
    "    fc = pd.DataFrame(list(product(r,v,f)), columns=['county','vehicle_type','fuel_type'])\n",
    "    fc['fuel_consumption'] = 0\n",
    "    \n",
    "    bev_elec = fc[(fc['vehicle_type']== 'BEV') & (fc['fuel_type']== 'Electricity')]\n",
    "    gas_e10 = fc[(fc['vehicle_type']== 'SIDI_ICE') & (fc['fuel_type']== 'E10')]\n",
    "    ffv_e85 = fc[(fc['vehicle_type']== 'FFV') & (fc['fuel_type']== 'E85')]\n",
    "\n",
    "    result = pd.concat([bev_elec,gas_e10,ffv_e85])\n",
    "    result.sort_values(by=['county'],inplace=True)\n",
    "    result.reset_index(drop=True, inplace=True)\n",
    "    return result\n",
    "\n",
    "def variable_oc():\n",
    "    '''\n",
    "    oc(r,v,f) Operating cost per mile for vehicle v using fuel type f in county r \n",
    "    '''\n",
    "    oc = pd.DataFrame(list(product(r,v,f)), columns=['county', 'vehicle_type','fuel_type'])\n",
    "    oc['operating_cost'] = 0\n",
    "    \n",
    "    bev_elec = oc[(oc['vehicle_type']== 'BEV') & (oc['fuel_type']== 'Electricity')]\n",
    "    gas_e10 = oc[(oc['vehicle_type']== 'SIDI_ICE') & (oc['fuel_type']== 'E10')]\n",
    "    ffv_e85 = oc[(oc['vehicle_type']== 'FFV') & (oc['fuel_type']== 'E85')]\n",
    "\n",
    "    result = pd.concat([bev_elec,gas_e10,ffv_e85])\n",
    "    result.sort_values(by=['county'],inplace=True)\n",
    "    result.reset_index(drop=True, inplace=True)\n",
    "    return result \n",
    "\n",
    "def variable_tac():\n",
    "    '''\n",
    "    tac(r,v,f) Total annual cost of vehicle v using fuel type f in county r \n",
    "    '''\n",
    "    tac = pd.DataFrame(list(product(r,v,f)), columns=['county', 'vehicle_type','fuel_type'])\n",
    "    tac['total_annual_vehicle_cost'] = 0\n",
    "    \n",
    "    bev_elec = tac[(tac['vehicle_type']== 'BEV') & (tac['fuel_type']== 'Electricity')]\n",
    "    gas_e10 = tac[(tac['vehicle_type']== 'SIDI_ICE') & (tac['fuel_type']== 'E10')]\n",
    "    ffv_e85 = tac[(tac['vehicle_type']== 'FFV') & (tac['fuel_type']== 'E85')]\n",
    "\n",
    "    result = pd.concat([bev_elec,gas_e10,ffv_e85])\n",
    "    result.sort_values(by=['county'],inplace=True)\n",
    "    result.reset_index(drop=True, inplace=True)\n",
    "    return result\n",
    "\n",
    "def variable_ce():\n",
    "    '''\n",
    "    ce(r,v,f)  GHG emission per year of vehicle v using fuel type f in county r \n",
    "    '''\n",
    "    ce = pd.DataFrame(list(product(r,v,f)), columns=['county', 'vehicle_type','fuel_type'])\n",
    "    ce['emission_per_year'] = 0\n",
    "    \n",
    "    bev_elec = ce[(ce['vehicle_type']== 'BEV') & (ce['fuel_type']== 'Electricity')]\n",
    "    gas_e10 = ce[(ce['vehicle_type']== 'SIDI_ICE') & (ce['fuel_type']== 'E10')]\n",
    "    ffv_e85 = ce[(ce['vehicle_type']== 'FFV') & (ce['fuel_type']== 'E85')]\n",
    "\n",
    "    result = pd.concat([bev_elec,gas_e10,ffv_e85])\n",
    "    result.sort_values(by=['county'],inplace=True)\n",
    "    result.reset_index(drop=True, inplace=True)\n",
    "    return result\n",
    "\n",
    "n = variable_n()\n",
    "fc = variable_fc()\n",
    "tac = variable_tac()\n",
    "oc = variable_oc()\n",
    "ce = variable_ce()"
   ]
  },
  {
   "cell_type": "markdown",
   "metadata": {},
   "source": [
    "## IEMS 394 - Biofuels Optimisation Model\n",
    "\n",
    "Running list of assumptions:\n",
    "- Some county name recurr within the set of states we have selected. Such counties have had their respective 2-letter state code appended to their name. They are enumerated below.\n",
    "    1. Orange - CA,TX \n",
    "    2. Cass - MN, TX\n",
    "    3. Lake - CA, MN\n",
    "    4. Trinty - CA, TX\n",
    "    5. Houston - MN, TX\n",
    "    6. Polk - MN,TX\n",
    "    7. Brown - MN,TX\n",
    "    8. Clay - MN, TX\n",
    "    9. Jackson - TX,MN\n",
    "    10. Washington - MN, TX\n",
    "    11. Martin - MN,TX\n",
    "    \n",
    "- future proofing changes:\n",
    "    - Decision variable `n` assumes that vehicle types use a single type of fuel (it's not written in at all)"
   ]
  },
  {
   "cell_type": "code",
   "execution_count": 6,
   "metadata": {},
   "outputs": [],
   "source": [
    "n1 = n.merge(B)\n",
    "n2 = n1.merge(CG)\n",
    "n3 = n2.merge(oc)\n",
    "n4 = n3.merge(ce)\n",
    "n5 = n4.merge(fc)\n",
    "n6 = n5.merge(tac)\n",
    "n6 = n6.sort_values(by=['county','vehicle_type'], ascending=True)\n",
    "n6.reset_index(drop=True, inplace=True)"
   ]
  },
  {
   "cell_type": "code",
   "execution_count": 7,
   "metadata": {},
   "outputs": [],
   "source": [
    "N_B = B.merge(N)\n",
    "number_one = N_B.merge(TM, left_on=['household_income_ID','state'],right_on=['household_income_ID','state'])\n",
    "number_one.drop(['household_income','household_income_ID'],axis=1,inplace=True)\n",
    "n6 = n6.merge(number_one)\n",
    "total_miles_df = n6[['county','vehicle_type','annual_miles_driven']]"
   ]
  },
  {
   "cell_type": "markdown",
   "metadata": {},
   "source": [
    "# Parameters"
   ]
  },
  {
   "cell_type": "code",
   "execution_count": 10,
   "metadata": {},
   "outputs": [
    {
     "ename": "KeyError",
     "evalue": "('cost_minus_rebate', 'BEV')",
     "output_type": "error",
     "traceback": [
      "\u001b[0;31m---------------------------------------------------------------------------\u001b[0m",
      "\u001b[0;31mKeyError\u001b[0m                                  Traceback (most recent call last)",
      "\u001b[0;32m~/anaconda3/lib/python3.6/site-packages/pandas/core/indexes/base.py\u001b[0m in \u001b[0;36mget_loc\u001b[0;34m(self, key, method, tolerance)\u001b[0m\n\u001b[1;32m   2645\u001b[0m             \u001b[0;32mtry\u001b[0m\u001b[0;34m:\u001b[0m\u001b[0;34m\u001b[0m\u001b[0m\n\u001b[0;32m-> 2646\u001b[0;31m                 \u001b[0;32mreturn\u001b[0m \u001b[0mself\u001b[0m\u001b[0;34m.\u001b[0m\u001b[0m_engine\u001b[0m\u001b[0;34m.\u001b[0m\u001b[0mget_loc\u001b[0m\u001b[0;34m(\u001b[0m\u001b[0mkey\u001b[0m\u001b[0;34m)\u001b[0m\u001b[0;34m\u001b[0m\u001b[0m\n\u001b[0m\u001b[1;32m   2647\u001b[0m             \u001b[0;32mexcept\u001b[0m \u001b[0mKeyError\u001b[0m\u001b[0;34m:\u001b[0m\u001b[0;34m\u001b[0m\u001b[0m\n",
      "\u001b[0;32mpandas/_libs/index.pyx\u001b[0m in \u001b[0;36mpandas._libs.index.IndexEngine.get_loc\u001b[0;34m()\u001b[0m\n",
      "\u001b[0;32mpandas/_libs/index.pyx\u001b[0m in \u001b[0;36mpandas._libs.index.IndexEngine.get_loc\u001b[0;34m()\u001b[0m\n",
      "\u001b[0;32mpandas/_libs/hashtable_class_helper.pxi\u001b[0m in \u001b[0;36mpandas._libs.hashtable.PyObjectHashTable.get_item\u001b[0;34m()\u001b[0m\n",
      "\u001b[0;32mpandas/_libs/hashtable_class_helper.pxi\u001b[0m in \u001b[0;36mpandas._libs.hashtable.PyObjectHashTable.get_item\u001b[0;34m()\u001b[0m\n",
      "\u001b[0;31mKeyError\u001b[0m: ('cost_minus_rebate', 'BEV')",
      "\nDuring handling of the above exception, another exception occurred:\n",
      "\u001b[0;31mKeyError\u001b[0m                                  Traceback (most recent call last)",
      "\u001b[0;32m<ipython-input-10-c8a37f4064d0>\u001b[0m in \u001b[0;36m<module>\u001b[0;34m\u001b[0m\n\u001b[1;32m     42\u001b[0m \u001b[0;31m# access using T['total_vehicles_registered'][r]...\u001b[0m\u001b[0;34m\u001b[0m\u001b[0;34m\u001b[0m\u001b[0m\n\u001b[1;32m     43\u001b[0m \u001b[0;34m\u001b[0m\u001b[0m\n\u001b[0;32m---> 44\u001b[0;31m \u001b[0mCC\u001b[0m\u001b[0;34m[\u001b[0m\u001b[0;34m'cost_minus_rebate'\u001b[0m\u001b[0;34m,\u001b[0m\u001b[0;34m'BEV'\u001b[0m\u001b[0;34m]\u001b[0m\u001b[0;34m\u001b[0m\u001b[0m\n\u001b[0m",
      "\u001b[0;32m~/anaconda3/lib/python3.6/site-packages/pandas/core/frame.py\u001b[0m in \u001b[0;36m__getitem__\u001b[0;34m(self, key)\u001b[0m\n\u001b[1;32m   2798\u001b[0m             \u001b[0;32mif\u001b[0m \u001b[0mself\u001b[0m\u001b[0;34m.\u001b[0m\u001b[0mcolumns\u001b[0m\u001b[0;34m.\u001b[0m\u001b[0mnlevels\u001b[0m \u001b[0;34m>\u001b[0m \u001b[0;36m1\u001b[0m\u001b[0;34m:\u001b[0m\u001b[0;34m\u001b[0m\u001b[0m\n\u001b[1;32m   2799\u001b[0m                 \u001b[0;32mreturn\u001b[0m \u001b[0mself\u001b[0m\u001b[0;34m.\u001b[0m\u001b[0m_getitem_multilevel\u001b[0m\u001b[0;34m(\u001b[0m\u001b[0mkey\u001b[0m\u001b[0;34m)\u001b[0m\u001b[0;34m\u001b[0m\u001b[0m\n\u001b[0;32m-> 2800\u001b[0;31m             \u001b[0mindexer\u001b[0m \u001b[0;34m=\u001b[0m \u001b[0mself\u001b[0m\u001b[0;34m.\u001b[0m\u001b[0mcolumns\u001b[0m\u001b[0;34m.\u001b[0m\u001b[0mget_loc\u001b[0m\u001b[0;34m(\u001b[0m\u001b[0mkey\u001b[0m\u001b[0;34m)\u001b[0m\u001b[0;34m\u001b[0m\u001b[0m\n\u001b[0m\u001b[1;32m   2801\u001b[0m             \u001b[0;32mif\u001b[0m \u001b[0mis_integer\u001b[0m\u001b[0;34m(\u001b[0m\u001b[0mindexer\u001b[0m\u001b[0;34m)\u001b[0m\u001b[0;34m:\u001b[0m\u001b[0;34m\u001b[0m\u001b[0m\n\u001b[1;32m   2802\u001b[0m                 \u001b[0mindexer\u001b[0m \u001b[0;34m=\u001b[0m \u001b[0;34m[\u001b[0m\u001b[0mindexer\u001b[0m\u001b[0;34m]\u001b[0m\u001b[0;34m\u001b[0m\u001b[0m\n",
      "\u001b[0;32m~/anaconda3/lib/python3.6/site-packages/pandas/core/indexes/base.py\u001b[0m in \u001b[0;36mget_loc\u001b[0;34m(self, key, method, tolerance)\u001b[0m\n\u001b[1;32m   2646\u001b[0m                 \u001b[0;32mreturn\u001b[0m \u001b[0mself\u001b[0m\u001b[0;34m.\u001b[0m\u001b[0m_engine\u001b[0m\u001b[0;34m.\u001b[0m\u001b[0mget_loc\u001b[0m\u001b[0;34m(\u001b[0m\u001b[0mkey\u001b[0m\u001b[0;34m)\u001b[0m\u001b[0;34m\u001b[0m\u001b[0m\n\u001b[1;32m   2647\u001b[0m             \u001b[0;32mexcept\u001b[0m \u001b[0mKeyError\u001b[0m\u001b[0;34m:\u001b[0m\u001b[0;34m\u001b[0m\u001b[0m\n\u001b[0;32m-> 2648\u001b[0;31m                 \u001b[0;32mreturn\u001b[0m \u001b[0mself\u001b[0m\u001b[0;34m.\u001b[0m\u001b[0m_engine\u001b[0m\u001b[0;34m.\u001b[0m\u001b[0mget_loc\u001b[0m\u001b[0;34m(\u001b[0m\u001b[0mself\u001b[0m\u001b[0;34m.\u001b[0m\u001b[0m_maybe_cast_indexer\u001b[0m\u001b[0;34m(\u001b[0m\u001b[0mkey\u001b[0m\u001b[0;34m)\u001b[0m\u001b[0;34m)\u001b[0m\u001b[0;34m\u001b[0m\u001b[0m\n\u001b[0m\u001b[1;32m   2649\u001b[0m         \u001b[0mindexer\u001b[0m \u001b[0;34m=\u001b[0m \u001b[0mself\u001b[0m\u001b[0;34m.\u001b[0m\u001b[0mget_indexer\u001b[0m\u001b[0;34m(\u001b[0m\u001b[0;34m[\u001b[0m\u001b[0mkey\u001b[0m\u001b[0;34m]\u001b[0m\u001b[0;34m,\u001b[0m \u001b[0mmethod\u001b[0m\u001b[0;34m=\u001b[0m\u001b[0mmethod\u001b[0m\u001b[0;34m,\u001b[0m \u001b[0mtolerance\u001b[0m\u001b[0;34m=\u001b[0m\u001b[0mtolerance\u001b[0m\u001b[0;34m)\u001b[0m\u001b[0;34m\u001b[0m\u001b[0m\n\u001b[1;32m   2650\u001b[0m         \u001b[0;32mif\u001b[0m \u001b[0mindexer\u001b[0m\u001b[0;34m.\u001b[0m\u001b[0mndim\u001b[0m \u001b[0;34m>\u001b[0m \u001b[0;36m1\u001b[0m \u001b[0;32mor\u001b[0m \u001b[0mindexer\u001b[0m\u001b[0;34m.\u001b[0m\u001b[0msize\u001b[0m \u001b[0;34m>\u001b[0m \u001b[0;36m1\u001b[0m\u001b[0;34m:\u001b[0m\u001b[0;34m\u001b[0m\u001b[0m\n",
      "\u001b[0;32mpandas/_libs/index.pyx\u001b[0m in \u001b[0;36mpandas._libs.index.IndexEngine.get_loc\u001b[0;34m()\u001b[0m\n",
      "\u001b[0;32mpandas/_libs/index.pyx\u001b[0m in \u001b[0;36mpandas._libs.index.IndexEngine.get_loc\u001b[0;34m()\u001b[0m\n",
      "\u001b[0;32mpandas/_libs/hashtable_class_helper.pxi\u001b[0m in \u001b[0;36mpandas._libs.hashtable.PyObjectHashTable.get_item\u001b[0;34m()\u001b[0m\n",
      "\u001b[0;32mpandas/_libs/hashtable_class_helper.pxi\u001b[0m in \u001b[0;36mpandas._libs.hashtable.PyObjectHashTable.get_item\u001b[0;34m()\u001b[0m\n",
      "\u001b[0;31mKeyError\u001b[0m: ('cost_minus_rebate', 'BEV')"
     ]
    }
   ],
   "source": [
    "EF_param = {k: f.groupby('fuel_type')['emission_factor'].apply(list).to_dict()\n",
    "     for k, f in EF.groupby('state')}\n",
    "\n",
    "FE_param = {k: f.groupby('fuel_type')['fuel_economy'].apply(list).to_dict()\n",
    "     for k, f in FE.groupby('vehicle_type')}\n",
    "\n",
    "C_param = {k: f.groupby('fuel_type')['fuel_cost_per_mile'].apply(list).to_dict()\n",
    "     for k, f in C.groupby('state')}\n",
    "# CC_param = {k: f.groupby('vehicle_type')['cost_minus_rebate'].apply(list).to_dict()\n",
    "#      for k, f in CC.groupby('state')}\n",
    "improve = CC.merge(B)\n",
    "CC_param = {k: f.groupby('vehicle_type')['cost_minus_rebate'].apply(list).to_dict()\n",
    "     for k, f in improve.groupby('county')}\n",
    "CC_param\n",
    "\n",
    "CG_param = {k: f.groupby('fuel_type')['fuel_cost_per_gal'].apply(list).to_dict()\n",
    "     for k, f in CG.groupby('state')}\n",
    "D_param = 0.25\n",
    "\n",
    "W_param = {'CA': [3.610000e+14],\n",
    " 'MN': [8.930000e+13],\n",
    " 'TX': [6.540000e+14]}\n",
    "TM_param = {k: f.groupby('vehicle_type')['annual_miles_driven'].apply(list).to_dict()\n",
    "     for k, f in total_miles_df.groupby('county')}\n",
    "# CF_param = {k: f.groupby('fuel_type')['fuel_economy'].apply(list).to_dict()\n",
    "#      for k, f in CF.groupby('vehicle_type')}\n",
    "CFnew = CF.merge(n6,left_on=\"vehicle_type\",right_on=\"vehicle_type\")\n",
    "CFnew.sort_values(by=['county'],inplace=True)\n",
    "CFnew.reset_index(drop=True, inplace=True)\n",
    "CFnew = CFnew[['county','vehicle_type','fuel_consumption_x']]\n",
    "CFnew_param = {k: f.groupby('vehicle_type')['fuel_consumption_x'].apply(list).to_dict()\n",
    "     for k, f in CFnew.groupby('county')}\n",
    "\n",
    "CGnew_param = n6[['county','vehicle_type','fuel_cost_per_gal']]\n",
    "CGnew_param = {k: f.groupby('vehicle_type')['fuel_cost_per_gal'].apply(list).to_dict()\n",
    "     for k, f in CGnew_param.groupby('county')}\n",
    "\n",
    "T = pd.read_csv('https://raw.githubusercontent.com/saif1457/iems394/master/data/T(r).csv')\n",
    "T['total_vehicles_registered'] = T['total_vehicles_registered'].apply(lambda x: x.replace(',',''))\n",
    "T['total_vehicles_registered'] = T['total_vehicles_registered'].apply(pd.to_numeric)\n",
    "T = T.set_index('county').T.to_dict('int')\n",
    "# access using T['total_vehicles_registered'][r]...\n",
    "\n"
   ]
  },
  {
   "cell_type": "code",
   "execution_count": 9,
   "metadata": {},
   "outputs": [],
   "source": [
    "#decision variables\n",
    "#n (v, f, r) \n",
    "#Projected number of vehicles of vehicle type v using fuel type f that should be in county r\n",
    "n = LpVariable.dicts(\"vehicle_count\", (COUNTIES, VEHICLE_TYPES), )\n",
    "\n",
    "#fc(r,v,f) \n",
    "#Total fuel consumption by vehicle v using fuel type f in county r\n",
    "# fc = LpVariable.dicts('total_fuel_use',[(r,f) for r in COUNTIES for f in VEHICLE_TYPES], cat = 'Integer')\n",
    "fc = LpVariable.dicts(\"total_fuel_use\", (COUNTIES, VEHICLE_TYPES), 0)\n",
    "\n",
    "#oc(r,v,f) \n",
    "#Operating cost per mile for vehicle v using fuel type f in county r \n",
    "# oc = LpVariable.dicts('operating_cost_permile',[(r,f) for r in COUNTIES for f in VEHICLE_TYPES], cat = 'Integer')\n",
    "oc = LpVariable.dicts(\"operating_cost_permile\", (COUNTIES, VEHICLE_TYPES), 0)\n",
    "\n",
    "#tac(r,v,f) \n",
    "#Total annual cost of vehicle v using fuel type f in county r \n",
    "# tac = LpVariable.dicts('total_annual_cost',[(r,f) for r in COUNTIES for f in VEHICLE_TYPES], cat = 'Integer')\n",
    "tac = LpVariable.dicts(\"total_annual_cost\", (COUNTIES, VEHICLE_TYPES), 0)\n",
    "\n",
    "#ce(r,v,f)  \n",
    "#GHG emission per year of vehicle v using fuel type f in county r\n",
    "# ce = LpVariable.dicts('GHG_emissions_new',[(r,f) for r in COUNTIES for f in VEHICLE_TYPES], cat = \"Integer\")\n",
    "ce = LpVariable.dicts(\"GHG_emissions_new\", (COUNTIES, VEHICLE_TYPES), 0)"
   ]
  },
  {
   "cell_type": "markdown",
   "metadata": {},
   "source": [
    "# Objective Function"
   ]
  },
  {
   "cell_type": "code",
   "execution_count": 10,
   "metadata": {},
   "outputs": [],
   "source": [
    "# def objective():\n",
    "#     '''\n",
    "#     Minimize the total cost per mile driven in all of US (which includes the capital cost and operating cost)\n",
    "    \n",
    "#     capital fuel cost + ((cost of fuel per gallon of vehicle)(fuel consumption of vehicle/per mile))*(total miles traveled)\n",
    "#     Sum this over counties and then over states\n",
    "#     '''    \n",
    "#     result = []\n",
    "#     for i in tqdm(range(n6.shape[0])):\n",
    "#         result.append((n6['count'][i] * (n6['fuel_consumption'][i] * n6['fuel_cost_per_gal'][i] * n6['annual_miles_driven'][i])))\n",
    "#     return list(np.add.reduceat(result, np.arange(0, len(result), 3)))\n",
    "# # for each county\n",
    "# # for each vehicle type\n",
    "# # compute capital cost + ((cost of fuel/gallon) * fuel consumption 1/mpg * miles_driven)\n",
    "# # so this comes out to CC + (CG * CF * miles_driven)\n",
    "# # cost vector = vehicle type * (CC +(CG * CF * miles_driven))\n",
    "\n",
    "\n",
    "\n",
    "#OBJECTIVE FUNCTION: minimise cost, determine car allocation (mixed integer)\n",
    "# prob += lpSum(CC_param[r][f] * n[(r,f)] for r in COUNTIES for f in VEHICLE_TYPES)\n",
    "#SET PROBLEM VARIABLE\n",
    "prob = LpProblem('Biofuels',LpMinimize)\n",
    "\n",
    "# for r in COUNTIES:\n",
    "#     prob += lpSum(((CFnew_param[r][f][0] * CGnew_param[r][f][0] * TM_param[r][f][0]) + CC_param[r][f][0]) * n[r][f] for f in VEHICLE_TYPES)\n",
    "prob += lpSum(((CFnew_param[r][f][0] * CGnew_param[r][f][0] * TM_param[r][f][0]) + CC_param[r][f][0]) * n[r][f] for f in VEHICLE_TYPES for r in COUNTIES)"
   ]
  },
  {
   "cell_type": "code",
   "execution_count": 11,
   "metadata": {},
   "outputs": [
    {
     "data": {
      "text/plain": [
       "399"
      ]
     },
     "execution_count": 11,
     "metadata": {},
     "output_type": "execute_result"
    }
   ],
   "source": [
    "len(COUNTIES)"
   ]
  },
  {
   "cell_type": "markdown",
   "metadata": {},
   "source": [
    "# Constraints"
   ]
  },
  {
   "cell_type": "code",
   "execution_count": 12,
   "metadata": {},
   "outputs": [],
   "source": [
    "v = V['vehicle_type']\n",
    "f = F['fuel_type']\n",
    "r = R['county']\n",
    "CE = variable_ce()\n",
    "ce_update = CE.merge(B)\n",
    "ce = {k: f.groupby('county')['emission_per_year'].apply(list).to_dict()\n",
    "     for k, f in ce_update.groupby('state')}"
   ]
  },
  {
   "cell_type": "code",
   "execution_count": 13,
   "metadata": {},
   "outputs": [],
   "source": [
    "#Constraint 0: Non-negative vehicles assigned to each county r \n",
    "for r in COUNTIES:\n",
    "    prob += lpSum(n[r][f] for f in VEHICLE_TYPES) >= 0"
   ]
  },
  {
   "cell_type": "code",
   "execution_count": 14,
   "metadata": {},
   "outputs": [],
   "source": [
    "#Constraint 1: Annual emission by total of vehicle v in county f with a given fuel ce(v,f) equals emission per mile * total miles driven  \n",
    "#This needs to run before Constraint 2 in the final compilation\n",
    "Nnew = N.merge(B)\n",
    "EFnew = pd.merge(TM, Nnew,  how='left', left_on=['state','household_income_ID'], right_on = ['state','household_income_ID']).dropna()\n",
    "EFnew = EFnew.merge(EF).merge(FE)\n",
    "EFnew.sort_values(by=['county'],inplace=True)\n",
    "EFnew.reset_index(drop=True, inplace=True)\n",
    "EFnew['TotalEmission'] = EFnew['annual_miles_driven']*EFnew['emission_factor']\n",
    "EFnew\n",
    "#action items: change it to columns of three\n",
    "#change fuel type to vehicle type\n",
    "#change units to grams/mile\n",
    "\n",
    "#EF_param = {k: f.groupby('vehicle_type')['emission_factor'].apply(list).to_dict()\n",
    "#     for k, f in EF.groupby('state')}\n",
    "#EF_param\n",
    "EFnew_param = {k: f.groupby('vehicle_type')['TotalEmission'].apply(list).to_dict()\n",
    "     for k, f in EFnew.groupby('county')}\n",
    "# EFnew_param\n",
    "\n",
    "# for r in COUNTIES:\n",
    "#     for f in VEHICLE_TYPES:\n",
    "#         prob +=  ce[r][f] == EFnew_param[r][f][0] * n[r][f]"
   ]
  },
  {
   "cell_type": "code",
   "execution_count": 15,
   "metadata": {},
   "outputs": [],
   "source": [
    "#Constraint 2: Decrease total emissions by D(s) for each state\n",
    "\n",
    "value_states = []\n",
    "for i in STATES:\n",
    "    value_states.append(list(ce[i].values())) #value_states is a list of lists of states and their counties \n",
    "    \n",
    "states_ghg = []\n",
    "for i in range(len(value_states)): #for each state\n",
    "    state_sum = [] #set it so zero to start a new count for each state\n",
    "    for j in range(len(value_states[i])): #for each county\n",
    "        state_sum.append(sum(value_states[i][j]))\n",
    "    states_ghg.append(sum(state_sum))\n",
    "\n",
    "statesghg_dict = dict(zip(('CA', 'MN','TX'), states_ghg))\n",
    "statesghg_dict['CA']\n",
    "\n",
    "for i in STATES:\n",
    "    prob += lpSum(statesghg_dict[i]) <= W_param[i][0]*(1-D)"
   ]
  },
  {
   "cell_type": "code",
   "execution_count": 16,
   "metadata": {},
   "outputs": [],
   "source": [
    "#Constraints 3: E85 Viability index\n",
    "#Constraint 4: EV Viability index"
   ]
  },
  {
   "cell_type": "code",
   "execution_count": 17,
   "metadata": {},
   "outputs": [
    {
     "data": {
      "text/plain": [
       "0.009167863554173324"
      ]
     },
     "execution_count": 17,
     "metadata": {},
     "output_type": "execute_result"
    }
   ],
   "source": [
    "CFnew_param['Alameda']['BEV'][0]"
   ]
  },
  {
   "cell_type": "code",
   "execution_count": 18,
   "metadata": {},
   "outputs": [],
   "source": [
    "#Constraint 5: Total annual fuel consumption per county equals fuel consumption of each vehicle in that county\n",
    "for r in COUNTIES:\n",
    "    for f in VEHICLE_TYPES:\n",
    "        prob += fc[r][f]  - (CFnew_param[r][f][0] * n[r][f] * TM_param[r][f][0]) == 0\n",
    "    "
   ]
  },
  {
   "cell_type": "code",
   "execution_count": 19,
   "metadata": {},
   "outputs": [],
   "source": [
    "#Constraint 6: Operating cost= cost of fuel * sum of fuel consumption\n",
    "for r in COUNTIES:\n",
    "    for f in VEHICLE_TYPES:\n",
    "        prob += oc[r][f] - (CGnew_param[r][f][0] * fc[r][f]) == 0"
   ]
  },
  {
   "cell_type": "code",
   "execution_count": 20,
   "metadata": {},
   "outputs": [],
   "source": [
    "# Constraint 7: Total of number of all vehicle types v should be equal to the total of all vehicles in the county\n"
   ]
  },
  {
   "cell_type": "code",
   "execution_count": 22,
   "metadata": {},
   "outputs": [
    {
     "data": {
      "text/plain": [
       "1"
      ]
     },
     "execution_count": 22,
     "metadata": {},
     "output_type": "execute_result"
    }
   ],
   "source": [
    "prob.solve() #1 if it works"
   ]
  },
  {
   "cell_type": "code",
   "execution_count": 31,
   "metadata": {},
   "outputs": [],
   "source": [
    "# print(\"The Min Value = \",value(prob.objective))\n",
    "# print(prob)\n",
    "# # print(n)\n",
    "# cost vector = vehicle type * (CC +(CG * CF * miles_driven))"
   ]
  },
  {
   "cell_type": "code",
   "execution_count": null,
   "metadata": {},
   "outputs": [],
   "source": []
  },
  {
   "cell_type": "markdown",
   "metadata": {},
   "source": [
    "- Flesh out the objective function with additional parameters\n",
    "    - why only 1 county?\n",
    "    - cost vector = vehicle type * (CC +(CG * CF * miles_driven)) # saif\n",
    "- Develop constraints\n",
    "    - infrastructure constraints?\n",
    "    - "
   ]
  },
  {
   "cell_type": "code",
   "execution_count": null,
   "metadata": {},
   "outputs": [],
   "source": [
    "for i in STATES:\n",
    "    prob += lpSum(variable_ce[r][i] for r in COUNTIES) <= (1-D)*W[i]"
   ]
  },
  {
   "cell_type": "code",
   "execution_count": null,
   "metadata": {},
   "outputs": [],
   "source": [
    "# convert b into dictionary where it's state:county as key:value\n",
    "#for i in STATES: ... where STATES = ['CA','MN','TX']\n",
    "#B_dict[i] # all of CA's counties ... MN... TX\n",
    "B_dict = B.to_dict('records')\n",
    "\n",
    "# for i in range(len(COUNTIES)):\n",
    "#     print(B_dict[i]['county'])\n",
    "#     print(B_dict[i]['state'])"
   ]
  },
  {
   "cell_type": "code",
   "execution_count": null,
   "metadata": {},
   "outputs": [],
   "source": []
  }
 ],
 "metadata": {
  "kernelspec": {
   "display_name": "Python 3",
   "language": "python",
   "name": "python3"
  },
  "language_info": {
   "codemirror_mode": {
    "name": "ipython",
    "version": 3
   },
   "file_extension": ".py",
   "mimetype": "text/x-python",
   "name": "python",
   "nbconvert_exporter": "python",
   "pygments_lexer": "ipython3",
   "version": "3.6.3"
  }
 },
 "nbformat": 4,
 "nbformat_minor": 4
}
