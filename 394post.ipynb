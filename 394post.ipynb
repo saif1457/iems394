{
 "cells": [
  {
   "cell_type": "code",
   "execution_count": null,
   "metadata": {},
   "outputs": [],
   "source": [
    "%%time\n",
    "import os, geojson, multiprocessing, datetime, time, geog, json, folium\n",
    "from shapely.geometry import shape, Point, Polygon\n",
    "from shapely.ops import cascaded_union\n",
    "from geopandas import GeoDataFrame\n",
    "import matplotlib.pyplot as plt\n",
    "import branca.colormap as cm\n",
    "import concurrent.futures\n",
    "from geojson import dump\n",
    "import geopandas as gpd\n",
    "import shapely.geometry\n",
    "from tqdm import tqdm\n",
    "import pandas as pd\n",
    "import numpy as np\n",
    "\n",
    "with open('preprocessed_data/us_counties_2010.json', encoding= \"ISO-8859-1\") as f:\n",
    "    gj = geojson.load(f)\n",
    "selected_states = ['CA','MN','TX'] #for the purposes of this model, only three states were considered.\n",
    "selected_states_fips = ['06','27','48'] #corresponding state FIPS codes\n",
    "selected_states_dict = {'06':'CA','27':'MN','48':'TX'}"
   ]
  },
  {
   "cell_type": "code",
   "execution_count": null,
   "metadata": {},
   "outputs": [],
   "source": [
    "visual_df = pd.read_csv('optimisation_data/visual_df.csv')\n",
    "visual_df.drop(visual_df.columns[0], axis=1,inplace=True)\n",
    "# visual_df['county'] = visual_df['County'].str.split('_').apply(lambda x: x[0])"
   ]
  },
  {
   "cell_type": "code",
   "execution_count": null,
   "metadata": {},
   "outputs": [],
   "source": [
    "selected_states_pattern = '|'.join(selected_states)\n",
    "selected_states_pattern"
   ]
  },
  {
   "cell_type": "code",
   "execution_count": null,
   "metadata": {},
   "outputs": [],
   "source": [
    "visual_df['County']=np.where(visual_df['County'].str.contains(selected_states_pattern) ,visual_df['County'].str.replace(\" \", \"_\"), visual_df['County'] + '_' + visual_df['State'])"
   ]
  },
  {
   "cell_type": "code",
   "execution_count": null,
   "metadata": {},
   "outputs": [],
   "source": [
    "with open('preprocessed_data/us_counties_2010.json', encoding = \"ISO-8859-1\") as f:\n",
    "    gj = geojson.load(f)"
   ]
  },
  {
   "cell_type": "code",
   "execution_count": null,
   "metadata": {},
   "outputs": [],
   "source": [
    "cookie = gpd.GeoDataFrame(gj['features'])\n",
    "for i in tqdm(range(cookie.shape[0])):\n",
    "    cookie['properties'][i]['NAME'] = cookie['properties'][i]['NAME'].replace('_',' ')\n",
    "    cookie['properties'][i]['STATE'] = cookie['properties'][i]['STATE'].replace('06','CA')\n",
    "    cookie['properties'][i]['STATE'] = cookie['properties'][i]['STATE'].replace('27','MN')\n",
    "    cookie['properties'][i]['STATE'] = cookie['properties'][i]['STATE'].replace('48','TX')\n",
    "    if cookie['properties'][i]['STATE'] in selected_states:\n",
    "        cookie['properties'][i]['NAME'] = cookie['properties'][i]['NAME'] + '_' + cookie['properties'][i]['STATE']"
   ]
  },
  {
   "cell_type": "code",
   "execution_count": null,
   "metadata": {},
   "outputs": [],
   "source": [
    "visual_dict = visual_df.set_index('County').T.to_dict()"
   ]
  },
  {
   "cell_type": "code",
   "execution_count": null,
   "metadata": {},
   "outputs": [],
   "source": [
    "counties_list = list(visual_df['County'])"
   ]
  },
  {
   "cell_type": "code",
   "execution_count": null,
   "metadata": {},
   "outputs": [],
   "source": [
    "counter = []\n",
    "for i,j in tqdm(enumerate(gj['features'])):\n",
    "    if gj['features'][i]['properties']['NAME'] in counties_list:\n",
    "        counter.append(1)\n",
    "        gj['features'][i]['properties'].update(visual_dict[gj['features'][i]['properties']['NAME']])\n",
    "        \n"
   ]
  },
  {
   "cell_type": "code",
   "execution_count": null,
   "metadata": {},
   "outputs": [],
   "source": [
    "print('10th quantile: {}'.format(visual_df.annual_ghg_emissions.quantile(0.1)))\n",
    "print('20th quantile: {}'.format(visual_df.annual_ghg_emissions.quantile(0.2)))\n",
    "print('30th quantile: {}'.format(visual_df.annual_ghg_emissions.quantile(0.3)))\n",
    "print('40th quantile: {}'.format(visual_df.annual_ghg_emissions.quantile(0.4)))\n",
    "print('50th quantile: {}'.format(visual_df.annual_ghg_emissions.quantile(0.5)))\n",
    "print('60th quantile: {}'.format(visual_df.annual_ghg_emissions.quantile(0.6)))\n",
    "print('70th quantile: {}'.format(visual_df.annual_ghg_emissions.quantile(0.7)))\n",
    "print('80th quantile: {}'.format(visual_df.annual_ghg_emissions.quantile(0.8)))\n",
    "print('90th quantile: {}'.format(visual_df.annual_ghg_emissions.quantile(0.9)))"
   ]
  },
  {
   "cell_type": "code",
   "execution_count": null,
   "metadata": {},
   "outputs": [],
   "source": [
    "visual_df.groupby('State').sum()"
   ]
  },
  {
   "cell_type": "code",
   "execution_count": null,
   "metadata": {},
   "outputs": [],
   "source": [
    "with open(\"state_output.js\", 'w') as file:\n",
    "    file.write('var statesData = ' +  str(gj))"
   ]
  },
  {
   "cell_type": "code",
   "execution_count": null,
   "metadata": {},
   "outputs": [],
   "source": []
  },
  {
   "cell_type": "code",
   "execution_count": null,
   "metadata": {},
   "outputs": [],
   "source": []
  }
 ],
 "metadata": {
  "kernelspec": {
   "display_name": "Python 3",
   "language": "python",
   "name": "python3"
  },
  "language_info": {
   "codemirror_mode": {
    "name": "ipython",
    "version": 3
   },
   "file_extension": ".py",
   "mimetype": "text/x-python",
   "name": "python",
   "nbconvert_exporter": "python",
   "pygments_lexer": "ipython3",
   "version": "3.6.3"
  }
 },
 "nbformat": 4,
 "nbformat_minor": 4
}
