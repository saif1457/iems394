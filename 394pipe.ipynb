{
 "cells": [
  {
   "cell_type": "markdown",
   "metadata": {},
   "source": [
    "### IEMS 394\n",
    "\n",
    "#### Data Pipeline\n",
    "\n",
    "<img src=\"proposal.png\" alt=\"drawing\" heigh=\"500\" width=\"600\"/>"
   ]
  },
  {
   "cell_type": "code",
   "execution_count": 44,
   "metadata": {},
   "outputs": [],
   "source": [
    "import pandas as pd"
   ]
  },
  {
   "cell_type": "markdown",
   "metadata": {},
   "source": [
    "#### Import and Clean Vehicle Data"
   ]
  },
  {
   "cell_type": "code",
   "execution_count": 37,
   "metadata": {},
   "outputs": [],
   "source": [
    "df = pd.read_csv('client-data/Vehicle data/Hybrid_ Electric_ vehicle_ sales_ by_ model.csv',skiprows=1,thousands=',')\n",
    "df.drop('Total',axis=1,inplace=True)\n",
    "df.drop(df.index[df.shape[0]-1],inplace=True)\n",
    "df.set_index(df['Vehicle'],inplace=True)\n",
    "df.drop('Vehicle',axis=1,inplace=True)\n",
    "# df.replace(to_replace='-',value=';')\n",
    "df = df.applymap(lambda x: x.replace('-','0'))\n",
    "df = df.applymap(lambda x: x.replace(\",\", \"\"))\n",
    "# df = df.applymap(lambda x: x=int(x))\n",
    "cols=[i for i in df.columns]\n",
    "for col in cols:\n",
    "    df[col]=pd.to_numeric(df[col])\n",
    "hybrid_df = df\n",
    "# hybrid_df"
   ]
  },
  {
   "cell_type": "code",
   "execution_count": 45,
   "metadata": {},
   "outputs": [],
   "source": [
    "df = pd.read_csv('client-data/Vehicle data/Plug-in_ Electric _vehicle _sales _by _model.csv',skiprows=1,thousands=',')\n",
    "df.drop('Total',axis=1,inplace=True)\n",
    "df.drop(df.index[df.shape[0]-1],inplace=True)\n",
    "df.set_index(df['Vehicle'],inplace=True)\n",
    "df.drop('Vehicle',axis=1,inplace=True)\n",
    "# df.replace(to_replace='-',value=';')\n",
    "df = df.applymap(lambda x: x.replace('-','0'))\n",
    "df = df.applymap(lambda x: x.replace(\",\", \"\"))\n",
    "cols=[i for i in df.columns if i not in ['Type']]\n",
    "for col in cols:\n",
    "    df[col]=pd.to_numeric(df[col])\n",
    "electric_df = df"
   ]
  },
  {
   "cell_type": "code",
   "execution_count": 53,
   "metadata": {},
   "outputs": [
    {
     "data": {
      "text/html": [
       "<div>\n",
       "<style scoped>\n",
       "    .dataframe tbody tr th:only-of-type {\n",
       "        vertical-align: middle;\n",
       "    }\n",
       "\n",
       "    .dataframe tbody tr th {\n",
       "        vertical-align: top;\n",
       "    }\n",
       "\n",
       "    .dataframe thead th {\n",
       "        text-align: right;\n",
       "    }\n",
       "</style>\n",
       "<table border=\"1\" class=\"dataframe\">\n",
       "  <thead>\n",
       "    <tr style=\"text-align: right;\">\n",
       "      <th></th>\n",
       "      <th>Model Year</th>\n",
       "      <th>Make</th>\n",
       "      <th>Model</th>\n",
       "      <th>Range</th>\n",
       "    </tr>\n",
       "  </thead>\n",
       "  <tbody>\n",
       "    <tr>\n",
       "      <th>0</th>\n",
       "      <td>2011</td>\n",
       "      <td>BMW</td>\n",
       "      <td>Active E</td>\n",
       "      <td>94</td>\n",
       "    </tr>\n",
       "    <tr>\n",
       "      <th>1</th>\n",
       "      <td>2011</td>\n",
       "      <td>Nissan</td>\n",
       "      <td>Leaf</td>\n",
       "      <td>73</td>\n",
       "    </tr>\n",
       "    <tr>\n",
       "      <th>2</th>\n",
       "      <td>2011</td>\n",
       "      <td>smart</td>\n",
       "      <td>fortwo</td>\n",
       "      <td>63</td>\n",
       "    </tr>\n",
       "    <tr>\n",
       "      <th>3</th>\n",
       "      <td>2012</td>\n",
       "      <td>Azure Dynamics</td>\n",
       "      <td>Transit Connect E</td>\n",
       "      <td>56</td>\n",
       "    </tr>\n",
       "    <tr>\n",
       "      <th>4</th>\n",
       "      <td>2012</td>\n",
       "      <td>Ford</td>\n",
       "      <td>Focus</td>\n",
       "      <td>76</td>\n",
       "    </tr>\n",
       "    <tr>\n",
       "      <th>...</th>\n",
       "      <td>...</td>\n",
       "      <td>...</td>\n",
       "      <td>...</td>\n",
       "      <td>...</td>\n",
       "    </tr>\n",
       "    <tr>\n",
       "      <th>60</th>\n",
       "      <td>2017</td>\n",
       "      <td>smart</td>\n",
       "      <td>fortwo*</td>\n",
       "      <td>58</td>\n",
       "    </tr>\n",
       "    <tr>\n",
       "      <th>61</th>\n",
       "      <td>2017</td>\n",
       "      <td>Tesla</td>\n",
       "      <td>Model 3</td>\n",
       "      <td>310</td>\n",
       "    </tr>\n",
       "    <tr>\n",
       "      <th>62</th>\n",
       "      <td>2017</td>\n",
       "      <td>Tesla</td>\n",
       "      <td>Model S*</td>\n",
       "      <td>267</td>\n",
       "    </tr>\n",
       "    <tr>\n",
       "      <th>63</th>\n",
       "      <td>2017</td>\n",
       "      <td>Tesla</td>\n",
       "      <td>Model X*</td>\n",
       "      <td>255</td>\n",
       "    </tr>\n",
       "    <tr>\n",
       "      <th>64</th>\n",
       "      <td>2017</td>\n",
       "      <td>Volkswagen</td>\n",
       "      <td>e-Golf</td>\n",
       "      <td>125</td>\n",
       "    </tr>\n",
       "  </tbody>\n",
       "</table>\n",
       "<p>65 rows × 4 columns</p>\n",
       "</div>"
      ],
      "text/plain": [
       "    Model Year            Make              Model  Range\n",
       "0         2011             BMW           Active E     94\n",
       "1         2011          Nissan               Leaf     73\n",
       "2         2011           smart             fortwo     63\n",
       "3         2012  Azure Dynamics  Transit Connect E     56\n",
       "4         2012            Ford              Focus     76\n",
       "..         ...             ...                ...    ...\n",
       "60        2017           smart            fortwo*     58\n",
       "61        2017           Tesla            Model 3    310\n",
       "62        2017           Tesla           Model S*    267\n",
       "63        2017           Tesla           Model X*    255\n",
       "64        2017      Volkswagen             e-Golf    125\n",
       "\n",
       "[65 rows x 4 columns]"
      ]
     },
     "execution_count": 53,
     "metadata": {},
     "output_type": "execute_result"
    }
   ],
   "source": [
    "df =  pd.read_csv('client-data/Vehicle data/US_ Electric _vehicles _ and_ corresponding_ range.csv')\n",
    "df\n",
    "# df.set_index('Make',inplace=True)\n",
    "# df"
   ]
  },
  {
   "attachments": {
    "image.png": {
     "image/png": "[encoded data removed]"
    }
   },
   "cell_type": "markdown",
   "metadata": {},
   "source": [
    "![image.png](attachment:image.png)"
   ]
  },
  {
   "cell_type": "code",
   "execution_count": null,
   "metadata": {},
   "outputs": [],
   "source": []
  }
 ],
 "metadata": {
  "kernelspec": {
   "display_name": "Python 3",
   "language": "python",
   "name": "python3"
  },
  "language_info": {
   "codemirror_mode": {
    "name": "ipython",
    "version": 3
   },
   "file_extension": ".py",
   "mimetype": "text/x-python",
   "name": "python",
   "nbconvert_exporter": "python",
   "pygments_lexer": "ipython3",
   "version": "3.6.3"
  }
 },
 "nbformat": 4,
 "nbformat_minor": 4
}
