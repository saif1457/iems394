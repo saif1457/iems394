{
 "cells": [
  {
   "cell_type": "markdown",
   "metadata": {},
   "source": [
    "### IEMS 394\n",
    "\n",
    "#### Complete Data Pipeline\n",
    "\n",
    "The order of operations is as follows:\n",
    "- 394pre.py takes all csv data that needs to be cleaned, and stores it locally in `preprocessed_data`. Specifically for the Viability Indices, it uses a precomputed value unless the user enters a new value. Runtimes for preprocessed values (6 miles, 10 miles) are near instantaneous, whereas runtimes for new values can be up to `4 minutes`.\n",
    "    - Compiling Electric Fueling Stations by county.\n",
    "    - Converting zipcode-level data to county-level data.\n",
    "    - E85 Fueling Stations and Viability Index Computations.\n",
    "\n",
    "- 394opt.py is the optimisation model which takes in all preprocessed data, and produces an optimised result.\n",
    "- 394post.py takes all optimised output and combines it together into post-processing, producing a `state_output.js` file which updates the `iems394.html` visualisation. Running this notebook in its entirety will automatically open this webpage in a new tab."
   ]
  },
  {
   "cell_type": "code",
   "execution_count": 1,
   "metadata": {},
   "outputs": [],
   "source": [
    "import ipywidgets as widgets\n",
    "import webbrowser\n",
    "import os"
   ]
  },
  {
   "cell_type": "code",
   "execution_count": 2,
   "metadata": {},
   "outputs": [],
   "source": [
    "ghg_reductions = widgets.IntSlider(min=0, max=100, step=1,description='GHG Goal:', value=25)\n",
    "# display(ghg_reductions)"
   ]
  },
  {
   "cell_type": "code",
   "execution_count": 30,
   "metadata": {},
   "outputs": [],
   "source": [
    "radius = widgets.IntSlider(min=0, max=20, step=1, description='Radius:',value=6)\n",
    "# display(radius)"
   ]
  },
  {
   "cell_type": "code",
   "execution_count": 31,
   "metadata": {},
   "outputs": [
    {
     "name": "stdout",
     "output_type": "stream",
     "text": [
      "GHG Emission Reduction Goal (%): 0.25\n",
      "E85/EV Station Driving Radius (miles): 6\n"
     ]
    }
   ],
   "source": [
    "D = (ghg_reductions.value/100)\n",
    "distance_KM = (radius.value*1.609)\n",
    "print('GHG Emission Reduction Goal (%): {}'.format(D))\n",
    "print('E85/EV Station Driving Radius (miles): {}'.format(radius.value))\n"
   ]
  },
  {
   "cell_type": "code",
   "execution_count": 32,
   "metadata": {},
   "outputs": [
    {
     "data": {
      "text/plain": [
       "'/Users/saifbhatti/Desktop/Northwestern/sy1920/s20/iems394/client-data/iems394'"
      ]
     },
     "execution_count": 32,
     "metadata": {},
     "output_type": "execute_result"
    }
   ],
   "source": [
    "os.getcwd()"
   ]
  },
  {
   "cell_type": "code",
   "execution_count": 36,
   "metadata": {},
   "outputs": [
    {
     "name": "stdout",
     "output_type": "stream",
     "text": [
      "10\n",
      "/Users/saifbhatti/Desktop/Northwestern/sy1920/s20/iems394/client-data/iems394\n",
      "e85_vi_6.pkl\n",
      "CPU times: user 681 ms, sys: 18.1 ms, total: 700 ms\n",
      "Wall time: 702 ms\n"
     ]
    }
   ],
   "source": [
    "%%time\n",
    "%run -i '394quick.py'"
   ]
  },
  {
   "cell_type": "code",
   "execution_count": 37,
   "metadata": {},
   "outputs": [
    {
     "name": "stdout",
     "output_type": "stream",
     "text": [
      "The Min Value = $ 396364813738.7345\n",
      "-0.7513762575801718\n",
      "-0.6495751307335722\n",
      "-0.8641249164855941\n",
      "CPU times: user 4.58 s, sys: 67.1 ms, total: 4.65 s\n",
      "Wall time: 10.2 s\n"
     ]
    }
   ],
   "source": [
    "%%time\n",
    "%run -i '394opt.py'"
   ]
  },
  {
   "cell_type": "code",
   "execution_count": 40,
   "metadata": {},
   "outputs": [
    {
     "name": "stderr",
     "output_type": "stream",
     "text": [
      "100%|██████████| 3221/3221 [00:00<00:00, 4622.02it/s]\n",
      "3221it [00:00, 153374.66it/s]\n"
     ]
    },
    {
     "name": "stdout",
     "output_type": "stream",
     "text": [
      "10th quantile: 16136493600.000008\n",
      "20th quantile: 30814078100.0\n",
      "30th quantile: 45893078720.0\n",
      "40th quantile: 67246579886.000015\n",
      "50th quantile: 97800137400.0\n",
      "60th quantile: 141861024799.99997\n",
      "70th quantile: 219092160810.79993\n",
      "80th quantile: 395885674000.00055\n",
      "90th quantile: 1089150639999.9996\n",
      "CPU times: user 5.67 s, sys: 184 ms, total: 5.85 s\n",
      "Wall time: 6.09 s\n"
     ]
    },
    {
     "data": {
      "text/plain": [
       "True"
      ]
     },
     "execution_count": 40,
     "metadata": {},
     "output_type": "execute_result"
    }
   ],
   "source": [
    "%%time\n",
    "%run -i '394refresh.py'\n",
    "#Change path to reflect file location\n",
    "filename = 'file:///'+os.getcwd()+'/' + 'iems394.html'\n",
    "webbrowser.open_new_tab(filename)"
   ]
  },
  {
   "cell_type": "code",
   "execution_count": null,
   "metadata": {},
   "outputs": [],
   "source": [
    "#Change path to reflect file location\n",
    "filename = 'file:///'+os.getcwd()+'/' + 'iems394.html'\n",
    "webbrowser.open_new_tab(filename)"
   ]
  },
  {
   "cell_type": "code",
   "execution_count": 43,
   "metadata": {},
   "outputs": [],
   "source": [
    "visual_df[['County','vehicle_pc_BEV','vehicle_pc_FFV','vehicle_pc_SIDI']].to_csv('model_results.csv')"
   ]
  },
  {
   "cell_type": "code",
   "execution_count": null,
   "metadata": {},
   "outputs": [],
   "source": []
  }
 ],
 "metadata": {
  "kernelspec": {
   "display_name": "Python 3",
   "language": "python",
   "name": "python3"
  },
  "language_info": {
   "codemirror_mode": {
    "name": "ipython",
    "version": 3
   },
   "file_extension": ".py",
   "mimetype": "text/x-python",
   "name": "python",
   "nbconvert_exporter": "python",
   "pygments_lexer": "ipython3",
   "version": "3.6.3"
  }
 },
 "nbformat": 4,
 "nbformat_minor": 4
}
