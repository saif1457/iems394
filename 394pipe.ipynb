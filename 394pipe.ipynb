{
 "cells": [
  {
   "cell_type": "markdown",
   "metadata": {},
   "source": [
    "### IEMS 394\n",
    "\n",
    "#### Data Pipeline\n",
    "Objective: Load and clean data, save as pickle."
   ]
  },
  {
   "cell_type": "code",
   "execution_count": 36,
   "metadata": {},
   "outputs": [
    {
     "name": "stdout",
     "output_type": "stream",
     "text": [
      "CPU times: user 2.05 s, sys: 379 ms, total: 2.43 s\n",
      "Wall time: 2.59 s\n"
     ]
    }
   ],
   "source": [
    "%%time\n",
    "import matplotlib.pyplot as plt\n",
    "from shapely.geometry import shape, Point, Polygon\n",
    "import pandas as pd\n",
    "from tqdm import tqdm\n",
    "import os, geojson, multiprocessing, datetime, time\n",
    "import concurrent.futures\n",
    "# %matplotlib tk\n",
    "\n",
    "os.chdir('/Users/saifbhatti/Desktop/Northwestern/sy1920/s20/iems394/client-data/cleaned_data')\n",
    "\n",
    "with open('us_counties_2010.json', encoding = \"ISO-8859-1\") as f:\n",
    "    gj = geojson.load(f)\n",
    "    \n",
    "    \n",
    "selected_states = ['TX','CA','MN']"
   ]
  },
  {
   "cell_type": "markdown",
   "metadata": {},
   "source": [
    "### Vision (end goals)\n",
    "\n",
    "- Data Cleaning (python file) \n",
    "    - read in appropriate csv files that have been cleaned\n",
    "    - convert to dataframe\n",
    "    - pickle\n",
    "- AMPL szn (python file)\n",
    "    - unpickle\n",
    "    - AMPLpy code that uses the dataframes as decision parameters\n",
    "- Visualisation (ipynb)\n",
    "    - either "
   ]
  },
  {
   "cell_type": "markdown",
   "metadata": {},
   "source": [
    "### Files\n",
    "\n",
    "Vehicle Data:\n",
    "- EV_Ranges.csv\n",
    "- vehicle_ages.csv\n",
    "- vehicles_available.csv\n",
    "- trip_purpose_miles.csv\n",
    "- HI_vehicles.csv\n",
    "- HEV_model-sales.csv\n",
    "- PEV_model-sales.csv\n",
    "- Distance.csv\n",
    "\n"
   ]
  },
  {
   "cell_type": "markdown",
   "metadata": {},
   "source": [
    "#### Import and Clean Vehicle Data"
   ]
  },
  {
   "cell_type": "code",
   "execution_count": null,
   "metadata": {},
   "outputs": [],
   "source": [
    "df = pd.read_csv('HEV_model-sales.csv',skiprows=1,thousands=',')\n",
    "df.drop('Total',axis=1,inplace=True)\n",
    "df.drop(df.index[df.shape[0]-1],inplace=True)\n",
    "df.set_index(df['Vehicle'],inplace=True)\n",
    "df.drop('Vehicle',axis=1,inplace=True)\n",
    "df = df.applymap(lambda x: x.replace('-','0'))\n",
    "df = df.applymap(lambda x: x.replace(\",\", \"\"))\n",
    "# df = df.applymap(lambda x: x=int(x))\n",
    "cols=[i for i in df.columns if i not in ['Vehicle']]\n",
    "for col in cols:\n",
    "    df[col]=pd.to_numeric(df[col])\n",
    "hybrid_df = df"
   ]
  },
  {
   "cell_type": "code",
   "execution_count": null,
   "metadata": {},
   "outputs": [],
   "source": [
    "hybrid_df['total']= hybrid_df.sum(axis=1) #total sum per column\n",
    "# hybrid_df['total'].plot(kind='bar',x='name',y='sales volume')\n",
    "# hybrid_df"
   ]
  },
  {
   "cell_type": "code",
   "execution_count": null,
   "metadata": {},
   "outputs": [],
   "source": [
    "df = pd.read_csv('PEV_model-sales.csv',skiprows=1,thousands=',')\n",
    "df.drop('Total',axis=1,inplace=True)\n",
    "df.drop(df.index[df.shape[0]-1],inplace=True)\n",
    "df.set_index(df['Vehicle'],inplace=True)\n",
    "df.drop('Vehicle',axis=1,inplace=True)\n",
    "# df.replace(to_replace='-',value=';')\n",
    "df = df.applymap(lambda x: x.replace('-','0'))\n",
    "df = df.applymap(lambda x: x.replace(\",\", \"\"))\n",
    "cols=[i for i in df.columns if i not in ['Type']]\n",
    "for col in cols:\n",
    "    df[col]=pd.to_numeric(df[col])\n",
    "electric_df = df"
   ]
  },
  {
   "cell_type": "code",
   "execution_count": null,
   "metadata": {},
   "outputs": [],
   "source": [
    "EV_ranges_df =  pd.read_csv('EV_ranges.csv')"
   ]
  },
  {
   "attachments": {
    "image.png": {
     "image/png": "[encoded data removed]"
    }
   },
   "cell_type": "markdown",
   "metadata": {},
   "source": [
    "![image.png](attachment:image.png)"
   ]
  },
  {
   "cell_type": "code",
   "execution_count": null,
   "metadata": {},
   "outputs": [],
   "source": [
    "df = pd.read_csv('electric_fuel_stations.csv')\n",
    "electric_fuel_df = df\n",
    "df.head()"
   ]
  },
  {
   "cell_type": "code",
   "execution_count": null,
   "metadata": {},
   "outputs": [],
   "source": [
    "# df['point'] = df['Longitude'] + df['Latitude']\n",
    "df['Points'] = list(zip(df['Longitude'], df['Latitude']))\n",
    "# df.tail(20)\n",
    "df.head()"
   ]
  },
  {
   "cell_type": "code",
   "execution_count": null,
   "metadata": {},
   "outputs": [],
   "source": [
    "def geo_map(x):\n",
    "    '''\n",
    "    geo_map takes pandas Series object constructed in the format (longitude, latitude).\n",
    "    Taking this as the point, a geo.json file is imported containing all US counties from the 2010 census as polygons.\n",
    "    It computes whether the point is within a polygon, and returns a list of all matches. \n",
    "    If a point is not matched, it returns None.\n",
    "    '''\n",
    "    point = Point(x)\n",
    "    for i in range(len(gj['features'])):\n",
    "        polygon = shape(gj['features'][i]['geometry'])\n",
    "        if polygon.contains(point):\n",
    "            return gj['features'][i]['properties']['NAME']"
   ]
  },
  {
   "cell_type": "code",
   "execution_count": null,
   "metadata": {},
   "outputs": [],
   "source": [
    "def geo_two(x):\n",
    "    '''\n",
    "    geo_map takes pandas Series object constructed in the format (longitude, latitude).\n",
    "    Taking this as the point, a geo.json file is imported containing all US counties from the 2010 census as polygons.\n",
    "    It computes whether the point is within a polygon, and returns a list of all matches. \n",
    "    If a point is not matched, it returns None.\n",
    "    '''\n",
    "    counties = []\n",
    "    for i in tqdm(x):\n",
    "        point = Point(x)\n",
    "        for i in range(len(gj['features'])):\n",
    "            polygon = shape(gj['features'][i]['geometry'])\n",
    "            if polygon.contains(point):\n",
    "                counties.append(gj['features'][i]['properties']['NAME'])"
   ]
  },
  {
   "cell_type": "code",
   "execution_count": null,
   "metadata": {},
   "outputs": [],
   "source": [
    "counties = []\n",
    "points_list = list(df['Points'])\n",
    "# for i in tqdm(points_list):\n",
    "#     counties.append(geo_map(i))"
   ]
  },
  {
   "cell_type": "code",
   "execution_count": null,
   "metadata": {},
   "outputs": [],
   "source": [
    "# electric_fuel_df['County'] = counties"
   ]
  },
  {
   "cell_type": "code",
   "execution_count": null,
   "metadata": {},
   "outputs": [],
   "source": [
    "# electric_fuel_df.to_csv('electric_fuel_stations.csv')"
   ]
  },
  {
   "cell_type": "code",
   "execution_count": null,
   "metadata": {},
   "outputs": [],
   "source": [
    "# electric_fuel_df"
   ]
  },
  {
   "cell_type": "code",
   "execution_count": null,
   "metadata": {},
   "outputs": [],
   "source": [
    "electric_df.to_pickle(\"./dummy.pkl\")"
   ]
  },
  {
   "cell_type": "markdown",
   "metadata": {},
   "source": [
    "### Convert data from zipcode to county."
   ]
  },
  {
   "cell_type": "code",
   "execution_count": null,
   "metadata": {},
   "outputs": [],
   "source": [
    "tx_ev_vehicle_registered = pd.read_csv('vehicle_reg/tx_ev_registrations_public.csv')\n",
    "print(len(tx_ev_vehicle_registered['ZIP Code'].unique()))\n",
    "print(len(tx_ev_vehicle_registered))\n",
    "tx_ev_vehicle_registered.head()"
   ]
  },
  {
   "cell_type": "code",
   "execution_count": null,
   "metadata": {},
   "outputs": [],
   "source": [
    "mn_ev_vehicle_registered = pd.read_csv('vehicle_reg/mn_ev_registrations_public.csv')\n",
    "mn_ev_vehicle_registered.drop(['VIN Prefix','VIN Model Year'],inplace=True,axis=1)\n",
    "print(len(mn_ev_vehicle_registered['ZIP Code'].unique()))\n",
    "print(len(mn_ev_vehicle_registered))\n",
    "mn_ev_vehicle_registered.head()"
   ]
  },
  {
   "cell_type": "code",
   "execution_count": null,
   "metadata": {},
   "outputs": [],
   "source": [
    "result = pd.concat([mn_ev_vehicle_registered, tx_ev_vehicle_registered], axis=0)\n",
    "print(len(result['ZIP Code'].unique()))\n",
    "print(result.shape)\n",
    "result.head()"
   ]
  },
  {
   "cell_type": "code",
   "execution_count": null,
   "metadata": {},
   "outputs": [],
   "source": [
    "us_zips = pd.read_csv('uszips.csv')\n",
    "print(us_zips.shape)\n",
    "us_zips.head()"
   ]
  },
  {
   "cell_type": "code",
   "execution_count": null,
   "metadata": {},
   "outputs": [],
   "source": [
    "# len(us_zips[(us_zips['zip'] > 70000) & (us_zips['zip'] < 90000)])"
   ]
  },
  {
   "cell_type": "code",
   "execution_count": null,
   "metadata": {},
   "outputs": [],
   "source": [
    "us_zips.columns"
   ]
  },
  {
   "cell_type": "code",
   "execution_count": null,
   "metadata": {},
   "outputs": [],
   "source": [
    "new = pd.merge(result, us_zips, how='inner', left_on='ZIP Code', right_on='zip')"
   ]
  },
  {
   "cell_type": "code",
   "execution_count": null,
   "metadata": {},
   "outputs": [],
   "source": [
    "new['state_id'].unique()"
   ]
  },
  {
   "cell_type": "code",
   "execution_count": null,
   "metadata": {},
   "outputs": [],
   "source": [
    "len(new[(new['state_id'] == 'TX') | (new['state_id'] == 'MN')])"
   ]
  },
  {
   "cell_type": "code",
   "execution_count": null,
   "metadata": {},
   "outputs": [],
   "source": [
    "new.shape[0]"
   ]
  },
  {
   "cell_type": "code",
   "execution_count": null,
   "metadata": {},
   "outputs": [],
   "source": [
    "new = new[(new['state_id'] == 'TX') | (new['state_id'] == 'MN')]\n",
    "new['state_id'].unique()"
   ]
  },
  {
   "cell_type": "code",
   "execution_count": null,
   "metadata": {},
   "outputs": [],
   "source": [
    "new.columns"
   ]
  },
  {
   "cell_type": "code",
   "execution_count": null,
   "metadata": {},
   "outputs": [],
   "source": [
    "new.groupby('state_id').count()"
   ]
  },
  {
   "cell_type": "code",
   "execution_count": null,
   "metadata": {},
   "outputs": [],
   "source": [
    "new.columns"
   ]
  },
  {
   "cell_type": "code",
   "execution_count": null,
   "metadata": {},
   "outputs": [],
   "source": [
    "new.to_csv('ev_registration_county.csv')"
   ]
  },
  {
   "cell_type": "code",
   "execution_count": null,
   "metadata": {},
   "outputs": [],
   "source": [
    "cali = pd.read_csv('california_car_data.csv')\n",
    "cali['Fuel'].unique()"
   ]
  },
  {
   "cell_type": "code",
   "execution_count": null,
   "metadata": {},
   "outputs": [],
   "source": [
    "cali.head()"
   ]
  },
  {
   "cell_type": "markdown",
   "metadata": {},
   "source": [
    "Within the `IRS Individual Tax Income` dataset, the following columns are extracted:\n",
    "- `STATE`: the relevant state the form was filed in.\n",
    "- `zipcode`: the relevant zipcode the form was filed in.\n",
    "- `NI`: Number of Returns.\n",
    "- `A02650`: Total Income Amount.\n",
    "\n",
    "Run `!curl https://www.irs.gov/pub/irs-soi/17zpallagi.csv -o irs.csv` to download."
   ]
  },
  {
   "cell_type": "code",
   "execution_count": null,
   "metadata": {},
   "outputs": [],
   "source": [
    "irs = pd.read_csv('irs.csv') #read in the csv\n",
    "irs = irs[['STATE','zipcode','A02650','N1']] #only keep a few columns (detailed above)\n",
    "irs = irs.rename(columns={'A02650': 'total_income_amt', 'N1': 'return_count'})\n",
    "irs.columns"
   ]
  },
  {
   "cell_type": "code",
   "execution_count": null,
   "metadata": {},
   "outputs": [],
   "source": [
    "irs['avg_income_amt'] = irs['total_income_amt'] / irs['return_count']"
   ]
  },
  {
   "cell_type": "code",
   "execution_count": null,
   "metadata": {},
   "outputs": [],
   "source": [
    "ranked_irs = irs.groupby('STATE').sum()\n",
    "ranked_irs.sort_values(by='avg_income_amt', ascending=False).head()"
   ]
  },
  {
   "cell_type": "code",
   "execution_count": null,
   "metadata": {},
   "outputs": [],
   "source": [
    "irs = irs[irs['STATE'].isin(selected_states)] #keep only relevant states\n",
    "irs.groupby('STATE').sum()"
   ]
  },
  {
   "cell_type": "code",
   "execution_count": null,
   "metadata": {},
   "outputs": [],
   "source": [
    "irs.to_csv('income_levels_state.csv')"
   ]
  },
  {
   "cell_type": "code",
   "execution_count": null,
   "metadata": {},
   "outputs": [],
   "source": [
    "irs_county = pd.merge(irs, us_zips, how='inner', left_on='zipcode', right_on='zip')"
   ]
  },
  {
   "cell_type": "code",
   "execution_count": null,
   "metadata": {},
   "outputs": [],
   "source": [
    "irs_county.drop(['county_weights','county_fips_all','imprecise','military'],axis=1,inplace=True)"
   ]
  },
  {
   "cell_type": "code",
   "execution_count": null,
   "metadata": {},
   "outputs": [],
   "source": [
    "irs_county.to_csv('irs_income_levels_county.csv')"
   ]
  },
  {
   "cell_type": "code",
   "execution_count": null,
   "metadata": {},
   "outputs": [],
   "source": [
    "print(irs_county.columns) #irs_income_levels_county.csv\n",
    "print(irs.columns) #income_levels_state.csv\n",
    "print(new.columns) #ev_registration_county.csv\n",
    "print(electric_fuel_df.columns) #electric_fuel_stations.csv"
   ]
  },
  {
   "cell_type": "code",
   "execution_count": null,
   "metadata": {},
   "outputs": [],
   "source": [
    "e85 = pd.read_csv('e85_fuel_stations.csv')"
   ]
  },
  {
   "cell_type": "code",
   "execution_count": null,
   "metadata": {},
   "outputs": [],
   "source": [
    "e85['Points'] = list(zip(e85['Longitude'], e85['Latitude']))\n",
    "e85"
   ]
  },
  {
   "cell_type": "code",
   "execution_count": null,
   "metadata": {},
   "outputs": [],
   "source": [
    "# counties = []\n",
    "# points_list = list(e85['Points'])\n",
    "# for i in tqdm(points_list): \n",
    "#     counties.append(geo_map(i))\n",
    "# e85['County'] = counties\n",
    "# e85.to_csv('e85_fuel_stations.csv')"
   ]
  },
  {
   "cell_type": "code",
   "execution_count": null,
   "metadata": {},
   "outputs": [],
   "source": [
    "e85.groupby('County').count().sort_values(by='City', ascending=False).head(5)"
   ]
  },
  {
   "cell_type": "code",
   "execution_count": null,
   "metadata": {},
   "outputs": [],
   "source": [
    "# e85[e85['County']==\"Los Angeles\"]\n",
    "e85.groupby('State').count().sort_values(by='Fuel Type Code', ascending=False).head(10)"
   ]
  },
  {
   "cell_type": "code",
   "execution_count": null,
   "metadata": {},
   "outputs": [],
   "source": [
    "centroids = pd.read_csv('county_centroids.csv')"
   ]
  },
  {
   "cell_type": "code",
   "execution_count": null,
   "metadata": {},
   "outputs": [],
   "source": [
    "centroids['Latitude'] = centroids['Latitude'].apply(lambda x: x.strip('°'))\n",
    "centroids['Longitude'] = centroids['Longitude'].apply(lambda x: x.strip('°'))\n",
    "centroids['Longitude'] = centroids['Longitude'].apply(lambda x: x.replace('–','-'))\n",
    "centroids['Latitude'] = centroids['Latitude'].apply(lambda x: x.replace('+',''))"
   ]
  },
  {
   "cell_type": "code",
   "execution_count": null,
   "metadata": {},
   "outputs": [],
   "source": [
    "centroids['Points'] = list(zip(centroids['Longitude'], centroids['Latitude']))"
   ]
  },
  {
   "cell_type": "code",
   "execution_count": null,
   "metadata": {},
   "outputs": [],
   "source": [
    "selected_centroids = centroids[centroids['State'].isin(selected_states)]"
   ]
  },
  {
   "cell_type": "code",
   "execution_count": null,
   "metadata": {},
   "outputs": [],
   "source": [
    "selected_centroids"
   ]
  },
  {
   "cell_type": "markdown",
   "metadata": {},
   "source": [
    "stuff to do today:\n",
    "    \n",
    "- focus on 394, clean up this file, solve the problem, make a new document\n",
    "- then focus on renoster, create a list of tasks we have to do. pick 1 simple format and stick to it."
   ]
  },
  {
   "cell_type": "code",
   "execution_count": null,
   "metadata": {},
   "outputs": [],
   "source": [
    "def create_circles(x,rad):\n",
    "    '''\n",
    "    county_scanner takes pandas Series object constructed in the format (longitude, latitude).\n",
    "    Taking a point (which is the fuelling station) and constructs a circle of radius 'rad'.\n",
    "    This is stored to a geojson file.???\n",
    "    '''\n",
    "    point = Point(x)\n",
    "    return point.buffer(rad)\n",
    "    "
   ]
  },
  {
   "cell_type": "code",
   "execution_count": null,
   "metadata": {},
   "outputs": [],
   "source": [
    "e85_points = e85['Points']\n",
    "circles = []\n",
    "for i in tqdm(e85_points):\n",
    "    circles.append(create_circles(i,10000))"
   ]
  },
  {
   "cell_type": "code",
   "execution_count": null,
   "metadata": {},
   "outputs": [],
   "source": [
    "print(circles[1].centroid)"
   ]
  },
  {
   "cell_type": "code",
   "execution_count": null,
   "metadata": {},
   "outputs": [],
   "source": [
    "import numpy as np\n",
    "import json\n",
    "import geog\n",
    "import shapely.geometry\n",
    "# p = shapely.geometry.Point([-80.966548, 35.030458])\n",
    "e85_points = e85['Points']\n",
    "geo_df = pd.DataFrame()\n",
    "geo_df['points'] = e85_points\n",
    "geometry_string = []\n",
    "\n",
    "for i,j in tqdm(list(enumerate(e85_points))):\n",
    "    p = Point(j)\n",
    "    n_points = 20\n",
    "    d = 10 * 1000 # meters\n",
    "    angles = np.linspace(0, 360, n_points)\n",
    "    polygon = geog.propagate(p, angles, d)\n",
    "#     print(json.dumps(shapely.geometry.mapping(shapely.geometry.Polygon(polygon))) + '\\n')\n",
    "#     geometry_list.append(json.dumps(shapely.geometry.mapping(shapely.geometry.Polygon(polygon))))\n",
    "    geometry_string.append(shapely.geometry.Polygon(polygon))\n",
    "\n",
    "geo_df['coordinates'] = geometry_string\n",
    "geo_df['name'] = e85['County']\n",
    "desc = []\n",
    "for i in range(geo_df.shape[0]): desc.append('e85 station')\n",
    "geo_df['description'] = desc"
   ]
  },
  {
   "cell_type": "code",
   "execution_count": null,
   "metadata": {},
   "outputs": [],
   "source": [
    "type(geo_df)"
   ]
  },
  {
   "cell_type": "code",
   "execution_count": null,
   "metadata": {},
   "outputs": [],
   "source": [
    "geometry_list[0]"
   ]
  },
  {
   "cell_type": "code",
   "execution_count": null,
   "metadata": {},
   "outputs": [],
   "source": [
    "def data2geojson(df):\n",
    "    features = []\n",
    "    insert_features = lambda x: features.append(\n",
    "            geojson.Feature(geometry=x['coordinates'],\n",
    "                            properties=dict(name=x[\"name\"],\n",
    "                                            description=x[\"description\"])))\n",
    "    df.apply(insert_features, axis=1)\n",
    "    with open('map1.geojson', 'w', encoding='utf8') as fp:\n",
    "        geojson.dump(geojson.FeatureCollection(features), fp, sort_keys=True, ensure_ascii=False)\n",
    "data2geojson(geo_df)\n"
   ]
  },
  {
   "cell_type": "code",
   "execution_count": 22,
   "metadata": {},
   "outputs": [
    {
     "name": "stderr",
     "output_type": "stream",
     "text": [
      "3233it [01:01, 52.69it/s]\n"
     ]
    }
   ],
   "source": [
    "import fiona\n",
    "from tqdm import tqdm\n",
    "from shapely.geometry import shape\n",
    "\n",
    "path1 = '/Users/saifbhatti/Downloads/cb_2018_us_county_500k/cb_2018_us_county_500k.shp' #US county shapefile\n",
    "path2 = '/Users/saifbhatti/Downloads/mygeodata/map1-polygon.shp' #e85 stations\n",
    "\n",
    "polygon1 = fiona.open(path1) #us counties\n",
    "polygon8 = fiona.open(path2) #e85 stations\n",
    "\n",
    "geom_p1 = [ shape(feat[\"geometry\"]) for feat in polygon1 ] #us counties\n",
    "geom_p8 = [ shape(feat[\"geometry\"]) for feat in polygon8 ] #e85 stations\n",
    "\n",
    "e85_viability_index = pd.DataFrame(columns = ['county','e85 station','area'])\n",
    "\n",
    "for i, g1 in tqdm(enumerate(geom_p1)): #for each county\n",
    "    for j, g8 in enumerate(geom_p8): #for each e85 station\n",
    "        if g1.intersects(g8): #check if e85 station is within US county\n",
    "#             print (i, j, ()\n",
    "            df1 = pd.DataFrame([[i,j,(g1.intersection(g8).area/g1.area)*100]],columns = ['county','e85 station','area'])\n",
    "            e85_viability_index = e85_viability_index.append(df1)\n",
    "            "
   ]
  },
  {
   "cell_type": "code",
   "execution_count": 35,
   "metadata": {},
   "outputs": [
    {
     "data": {
      "text/html": [
       "<div>\n",
       "<style scoped>\n",
       "    .dataframe tbody tr th:only-of-type {\n",
       "        vertical-align: middle;\n",
       "    }\n",
       "\n",
       "    .dataframe tbody tr th {\n",
       "        vertical-align: top;\n",
       "    }\n",
       "\n",
       "    .dataframe thead th {\n",
       "        text-align: right;\n",
       "    }\n",
       "</style>\n",
       "<table border=\"1\" class=\"dataframe\">\n",
       "  <thead>\n",
       "    <tr style=\"text-align: right;\">\n",
       "      <th></th>\n",
       "      <th>area</th>\n",
       "    </tr>\n",
       "    <tr>\n",
       "      <th>county</th>\n",
       "      <th></th>\n",
       "    </tr>\n",
       "  </thead>\n",
       "  <tbody>\n",
       "    <tr>\n",
       "      <th>2024</th>\n",
       "      <td>1882.370919</td>\n",
       "    </tr>\n",
       "    <tr>\n",
       "      <th>351</th>\n",
       "      <td>1100.540713</td>\n",
       "    </tr>\n",
       "    <tr>\n",
       "      <th>1335</th>\n",
       "      <td>820.974461</td>\n",
       "    </tr>\n",
       "    <tr>\n",
       "      <th>2013</th>\n",
       "      <td>708.481828</td>\n",
       "    </tr>\n",
       "    <tr>\n",
       "      <th>289</th>\n",
       "      <td>691.502526</td>\n",
       "    </tr>\n",
       "    <tr>\n",
       "      <th>1468</th>\n",
       "      <td>690.259506</td>\n",
       "    </tr>\n",
       "    <tr>\n",
       "      <th>1839</th>\n",
       "      <td>670.063939</td>\n",
       "    </tr>\n",
       "    <tr>\n",
       "      <th>3231</th>\n",
       "      <td>651.826340</td>\n",
       "    </tr>\n",
       "    <tr>\n",
       "      <th>3126</th>\n",
       "      <td>559.078751</td>\n",
       "    </tr>\n",
       "    <tr>\n",
       "      <th>1753</th>\n",
       "      <td>525.029313</td>\n",
       "    </tr>\n",
       "  </tbody>\n",
       "</table>\n",
       "</div>"
      ],
      "text/plain": [
       "               area\n",
       "county             \n",
       "2024    1882.370919\n",
       "351     1100.540713\n",
       "1335     820.974461\n",
       "2013     708.481828\n",
       "289      691.502526\n",
       "1468     690.259506\n",
       "1839     670.063939\n",
       "3231     651.826340\n",
       "3126     559.078751\n",
       "1753     525.029313"
      ]
     },
     "execution_count": 35,
     "metadata": {},
     "output_type": "execute_result"
    }
   ],
   "source": [
    "# e85.groupby('State').count().sort_values(by='Fuel Type Code', ascending=False).head(10)\n",
    "\n",
    "e85_viability_index.groupby(['county']).sum().sort_values(by='area',ascending=False).head(10)"
   ]
  },
  {
   "cell_type": "code",
   "execution_count": 9,
   "metadata": {},
   "outputs": [
    {
     "name": "stdout",
     "output_type": "stream",
     "text": [
      "   a  b\n",
      "0  1  2\n",
      "0  1  2\n",
      "0  1  2\n",
      "0  1  2\n",
      "0  1  2\n",
      "0  1  2\n",
      "0  1  2\n",
      "0  1  2\n",
      "0  1  2\n",
      "0  1  2\n",
      "0  1  2\n",
      "0  1  2\n",
      "0  1  2\n",
      "0  1  2\n"
     ]
    }
   ],
   "source": [
    "for i in range(2):\n",
    "    df2 = df2.append(df1)\n",
    "print(df2)"
   ]
  },
  {
   "cell_type": "code",
   "execution_count": 19,
   "metadata": {},
   "outputs": [
    {
     "data": {
      "text/html": [
       "<div>\n",
       "<style scoped>\n",
       "    .dataframe tbody tr th:only-of-type {\n",
       "        vertical-align: middle;\n",
       "    }\n",
       "\n",
       "    .dataframe tbody tr th {\n",
       "        vertical-align: top;\n",
       "    }\n",
       "\n",
       "    .dataframe thead th {\n",
       "        text-align: right;\n",
       "    }\n",
       "</style>\n",
       "<table border=\"1\" class=\"dataframe\">\n",
       "  <thead>\n",
       "    <tr style=\"text-align: right;\">\n",
       "      <th></th>\n",
       "      <th>county</th>\n",
       "      <th>e85 station</th>\n",
       "      <th>area</th>\n",
       "    </tr>\n",
       "  </thead>\n",
       "  <tbody>\n",
       "    <tr>\n",
       "      <th>0</th>\n",
       "      <td>1</td>\n",
       "      <td>2</td>\n",
       "      <td>3</td>\n",
       "    </tr>\n",
       "    <tr>\n",
       "      <th>0</th>\n",
       "      <td>1</td>\n",
       "      <td>2</td>\n",
       "      <td>3</td>\n",
       "    </tr>\n",
       "  </tbody>\n",
       "</table>\n",
       "</div>"
      ],
      "text/plain": [
       "  county e85 station area\n",
       "0      1           2    3\n",
       "0      1           2    3"
      ]
     },
     "execution_count": 19,
     "metadata": {},
     "output_type": "execute_result"
    }
   ],
   "source": [
    "e85_viability_index = pd.DataFrame(columns = ['county','e85 station','area'])\n",
    "for i in range(2):\n",
    "#     df1 = \n",
    "    e85_viability_index = e85_viability_index.append(pd.DataFrame([[1,2,3]],columns = ['county','e85 station','area']))\n",
    "e85_viability_index\n"
   ]
  },
  {
   "cell_type": "code",
   "execution_count": null,
   "metadata": {},
   "outputs": [],
   "source": [
    "import folium"
   ]
  },
  {
   "cell_type": "code",
   "execution_count": null,
   "metadata": {},
   "outputs": [],
   "source": [
    "m = folium.Map()\n",
    "m.choropleth(world, data=world, key_on='feature.properties.name',\n",
    "             columns=['name', 'pop_est'], fill_color='YlOrBr')\n",
    "m"
   ]
  },
  {
   "cell_type": "code",
   "execution_count": null,
   "metadata": {},
   "outputs": [],
   "source": [
    "def county_scanner(circles, x,y):\n",
    "    \n",
    "    point = Point(x,y)\n",
    "    for i in circles:\n",
    "        if i.contains(point):\n",
    "            return i.centroid"
   ]
  },
  {
   "cell_type": "code",
   "execution_count": null,
   "metadata": {},
   "outputs": [],
   "source": [
    "# selected_centre = list(selected_centroids['Points'])\n",
    "# type(selected_centre[1])\n",
    "\n",
    "# for i in selected_centre:\n",
    "#     x = float(i[0])\n",
    "#     y = float(i[1])\n",
    "#     print(county_scanner(circles, x,y))"
   ]
  },
  {
   "cell_type": "code",
   "execution_count": null,
   "metadata": {},
   "outputs": [],
   "source": [
    "from shapely import geometry\n",
    "\n",
    "# create your two points\n",
    "point_1 = geometry.Point(37.774929,-122.419418)\n",
    "point_2 = geometry.Point(37.774929,-122.419418)\n",
    "\n",
    "# create your circle buffer from one of the points\n",
    "distance = 1000\n",
    "circle_buffer = point_1.buffer(distance)\n",
    "\n",
    "# and you can then check if the other point lies within\n",
    "if point_2.within(circle_buffer):\n",
    "    print('point 2 is within the distance buffer of point 1')\n",
    "# or similarly\n",
    "if circle_buffer.contains(point_2):\n",
    "    print('circle buffer contains point 2')\n",
    "\n",
    "# but a simpler method is to simply check the distance\n",
    "if point_1.distance(point_2) < distance:\n",
    "    print('point 1 is within the distance of point 2')"
   ]
  },
  {
   "cell_type": "code",
   "execution_count": null,
   "metadata": {},
   "outputs": [],
   "source": [
    "import fiona\n",
    "shape = fiona.open(\"/Users/saifbhatti/Downloads/c_03mr20/c_03mr20.shp\")\n",
    "print (shape.schema)\n"
   ]
  },
  {
   "cell_type": "code",
   "execution_count": null,
   "metadata": {},
   "outputs": [],
   "source": [
    "import geopandas as gpd\n",
    "shapefile = gpd.read_file(\"/Users/saifbhatti/Downloads/c_03mr20/c_03mr20.shp\")\n",
    "# print(shapefile)\n",
    "shapefile = shapefile[shapefile['STATE'].isin(selected_states)]\n",
    "print(len(shapefile['COUNTYNAME'].unique()))\n",
    "shapefile.shape"
   ]
  },
  {
   "cell_type": "code",
   "execution_count": null,
   "metadata": {},
   "outputs": [],
   "source": [
    "shapefile.drop_duplicates(subset =\"COUNTYNAME\", keep = False, inplace = True) \n",
    "shapefile.shape"
   ]
  },
  {
   "cell_type": "code",
   "execution_count": null,
   "metadata": {},
   "outputs": [],
   "source": [
    "san_fran = Point(37.774929,-122.419418)"
   ]
  },
  {
   "cell_type": "code",
   "execution_count": null,
   "metadata": {},
   "outputs": [],
   "source": [
    "if b.contains(san_fran):\n",
    "    print('yes')\n",
    "else:\n",
    "    print('no :(')"
   ]
  },
  {
   "cell_type": "code",
   "execution_count": null,
   "metadata": {},
   "outputs": [],
   "source": [
    "import pyproj as proj\n",
    "\n",
    "# setup your projections\n",
    "crs_wgs = proj.Proj(init='epsg:4326') # assuming you're using WGS84 geographic\n",
    "\n",
    "# then cast your geographic coordinate pair to the projected system\n",
    "x, y = proj.transform(crs_wgs,crs_wgs,-122.41,37.77)\n",
    "\n"
   ]
  },
  {
   "cell_type": "code",
   "execution_count": null,
   "metadata": {},
   "outputs": [],
   "source": [
    "from shapely import geometry\n",
    "\n",
    "# create your two points\n",
    "point_1 = geometry.Point(37.774929,-122.419418)\n",
    "point_2 = geometry.Point(37.774929,-122.419418)\n",
    "\n",
    "# create your circle buffer from one of the points\n",
    "distance = 1000\n",
    "circle_buffer = point_1.buffer(distance)\n",
    "\n",
    "# and you can then check if the other point lies within\n",
    "if point_2.within(circle_buffer):\n",
    "    print('point 2 is within the distance buffer of point 1')\n",
    "# or similarly\n",
    "if circle_buffer.contains(point_2):\n",
    "    print('circle buffer contains point 2')\n",
    "\n",
    "# but a simpler method is to simply check the distance\n",
    "if point_1.distance(point_2) < distance:\n",
    "    print('point 1 is within the distance of point 2')"
   ]
  },
  {
   "cell_type": "code",
   "execution_count": null,
   "metadata": {},
   "outputs": [],
   "source": [
    "type(circle_buffer)"
   ]
  },
  {
   "cell_type": "code",
   "execution_count": null,
   "metadata": {},
   "outputs": [],
   "source": []
  }
 ],
 "metadata": {
  "kernelspec": {
   "display_name": "Python 3",
   "language": "python",
   "name": "python3"
  },
  "language_info": {
   "codemirror_mode": {
    "name": "ipython",
    "version": 3
   },
   "file_extension": ".py",
   "mimetype": "text/x-python",
   "name": "python",
   "nbconvert_exporter": "python",
   "pygments_lexer": "ipython3",
   "version": "3.6.3"
  }
 },
 "nbformat": 4,
 "nbformat_minor": 4
}
