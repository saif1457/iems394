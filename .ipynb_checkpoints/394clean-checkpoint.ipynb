{
 "cells": [
  {
   "cell_type": "code",
   "execution_count": 49,
   "metadata": {},
   "outputs": [
    {
     "name": "stdout",
     "output_type": "stream",
     "text": [
      "CPU times: user 216 µs, sys: 3.22 ms, total: 3.44 ms\n",
      "Wall time: 7.65 ms\n"
     ]
    }
   ],
   "source": [
    "%%time\n",
    "from scipy.optimize import minimize\n",
    "import matplotlib.pyplot as plt\n",
    "from itertools import product\n",
    "from tqdm import tqdm\n",
    "import pandas as pd\n",
    "from pulp import *\n",
    "import numpy as np"
   ]
  },
  {
   "cell_type": "markdown",
   "metadata": {},
   "source": [
    "#### Sets"
   ]
  },
  {
   "cell_type": "code",
   "execution_count": 2,
   "metadata": {},
   "outputs": [
    {
     "name": "stdout",
     "output_type": "stream",
     "text": [
      "CPU times: user 84.9 ms, sys: 10.1 ms, total: 95 ms\n",
      "Wall time: 1.85 s\n"
     ]
    }
   ],
   "source": [
    "%%time\n",
    "#import files from github\n",
    "V = pd.read_csv('https://raw.githubusercontent.com/saif1457/iems394/master/optimisation_data/V.csv') #vehicle types\n",
    "F = pd.read_csv('https://raw.githubusercontent.com/saif1457/iems394/master/optimisation_data/F.csv') #fuel types\n",
    "E = pd.read_csv('https://raw.githubusercontent.com/saif1457/iems394/master/optimisation_data/E.csv') #driving env\n",
    "R = pd.read_csv('https://raw.githubusercontent.com/saif1457/iems394/master/optimisation_data/R.csv') #counties\n",
    "M = pd.read_csv('https://raw.githubusercontent.com/saif1457/iems394/master/optimisation_data/M.csv') #charging stations\n",
    "S = pd.read_csv('https://raw.githubusercontent.com/saif1457/iems394/master/optimisation_data/S.csv') #states\n",
    "\n",
    "F['fuel_type'] = F['fuel_type'].apply(lambda x: x.replace('electricity','Electricity'))"
   ]
  },
  {
   "cell_type": "code",
   "execution_count": 3,
   "metadata": {},
   "outputs": [],
   "source": [
    "VEHICLE_TYPES = list(V['vehicle_type'])\n",
    "FUEL_TYPES = list(F['fuel_type'])\n",
    "DRIVING_ENV = list(E['driving_environment'])\n",
    "COUNTIES = list(R['county'])\n",
    "CHARGING_STATIONS = list(M['filling_stations'])\n",
    "STATES = list(S['state'])"
   ]
  },
  {
   "cell_type": "markdown",
   "metadata": {},
   "source": [
    "#### Parameters\n",
    "Parameters describe objects statically, and is constant in a single simulation. Parameters are only changed to adjust model behaviour."
   ]
  },
  {
   "cell_type": "code",
   "execution_count": 4,
   "metadata": {},
   "outputs": [
    {
     "name": "stdout",
     "output_type": "stream",
     "text": [
      "CPU times: user 491 ms, sys: 157 ms, total: 647 ms\n",
      "Wall time: 5.8 s\n"
     ]
    }
   ],
   "source": [
    "%%time\n",
    "#EF(f,s): Emission factor for fuel type f in state s, in gallons/mile  \n",
    "EF = pd.read_csv('https://raw.githubusercontent.com/saif1457/iems394/master/optimisation_data/EF(f%2Cs).csv')\n",
    "EF['fuel_type'] = EF['fuel_type'].apply(lambda x: x.replace('electricity','Electricity'))\n",
    "#FE(v,f):Average fuel economy for vehicle type v using fuel f\n",
    "FE = pd.read_csv('https://raw.githubusercontent.com/saif1457/iems394/master/optimisation_data/FE(v%2Cf).csv')\n",
    "FE['fuel_type'] = FE['fuel_type'].apply(lambda x: x.replace('electricity','Electricity'))\n",
    "#C(f): Cost of fuel type f \n",
    "C = pd.read_csv('https://raw.githubusercontent.com/saif1457/iems394/master/optimisation_data/C(F).csv')\n",
    "#CC (v,s): Capital cost of vehicle type v in state s\n",
    "CC = pd.read_csv('https://raw.githubusercontent.com/saif1457/iems394/master/optimisation_data/CC(v%2Cs).csv') \n",
    "CC['yearly_cost']=np.where(CC['vehicle_type']=='BEV', CC['cost_minus_rebate']/8.5, CC['cost_minus_rebate']/5.5)\n",
    "#BEVs are paid off in approx. 8-9 years, SIDI ICE and FFV are paid off in 5-6 years.\n",
    "#CG: cost of fuel/gallon\n",
    "CG = pd.read_csv('https://raw.githubusercontent.com/saif1457/iems394/master/optimisation_data/CG(F).csv')\n",
    "CG['fuel_type'] = CG['fuel_type'].apply(lambda x: x.replace('electricity','Electricity'))\n",
    "#D: Emission decrease goals per year\n",
    "D = 0.25\n",
    "#W(s):Current yearly GHG emissions per state\n",
    "#W = pd.read_csv('https://raw.githubusercontent.com/saif1457/iems394/master/optimisation_data/W(s).csv')\n",
    "#TM (v, f, r): Total miles for vehicle v using fuel f in county r\n",
    "TM = pd.read_csv('https://raw.githubusercontent.com/saif1457/iems394/master/optimisation_data/TM(f%2Cs).csv')\n",
    "# # TM.drop(['household_income_ID'],axis=1,inplace=True)\n",
    "#N(r): Average income per county  \n",
    "N = pd.read_csv('https://raw.githubusercontent.com/saif1457/iems394/master/optimisation_data/N(r).csv')\n",
    "# N.drop(['household_income_ID'],axis=1,inplace=True)\n",
    "#B(r) county + state linking table\n",
    "B = pd.read_csv('https://raw.githubusercontent.com/saif1457/iems394/master/optimisation_data/B(r).csv')\n",
    "#CF(v,f): Fuel consumption for vehicle type v using fuel f (1/fuel economy)\n",
    "CF = FE\n",
    "CF['fuel_consumption'] = (1 / CF['fuel_economy'])\n",
    "T = pd.read_csv('https://raw.githubusercontent.com/saif1457/iems394/master/optimisation_data/T(r).csv')\n",
    "T['total_vehicles_registered'] = T['total_vehicles_registered'].apply(lambda x: x.replace(',',''))\n",
    "T['total_vehicles_registered'] = T['total_vehicles_registered'].apply(pd.to_numeric)\n",
    "W_param = pd.read_csv('https://raw.githubusercontent.com/saif1457/iems394/master/optimisation_data/W_county_param.csv')\n",
    "\n",
    "e85_vi = pd.read_csv('https://raw.githubusercontent.com/saif1457/iems394/master/optimisation_data/e85_vi.csv')\n",
    "efuels_vi = pd.read_csv('https://raw.githubusercontent.com/saif1457/iems394/master/optimisation_data/efuels_vi.csv')"
   ]
  },
  {
   "cell_type": "markdown",
   "metadata": {},
   "source": [
    "# Variables\n",
    "Variables represent a model state and may change during simulation."
   ]
  },
  {
   "cell_type": "code",
   "execution_count": 5,
   "metadata": {},
   "outputs": [],
   "source": [
    "v = V['vehicle_type']\n",
    "f = F['fuel_type']\n",
    "r = R['county']\n",
    "\n",
    "def variable_n():\n",
    "    '''\n",
    "    n(r,v,f) total optimal count of vehicle v using fuel type f in county r\n",
    "    '''\n",
    "    n = pd.DataFrame(list(product(r,v,f)), columns=['county', 'vehicle_type','fuel_type'])\n",
    "    n['count'] = 0\n",
    "    \n",
    "    bev_elec = n[(n['vehicle_type']== 'BEV') & (n['fuel_type']== 'Electricity')]\n",
    "    gas_e10 = n[(n['vehicle_type']== 'SIDI_ICE') & (n['fuel_type']== 'E10')]\n",
    "    ffv_e85 = n[(n['vehicle_type']== 'FFV') & (n['fuel_type']== 'E85')]\n",
    "\n",
    "    result = pd.concat([bev_elec,gas_e10,ffv_e85])\n",
    "    result.sort_values(by=['county','vehicle_type'],inplace=True)\n",
    "    result.reset_index(drop=True, inplace=True)\n",
    "    return result\n",
    "\n",
    "def variable_fc():\n",
    "    '''\n",
    "    fc(r,v,f) Total fuel consumption by vehicle v using fuel type f in county r\n",
    "    '''\n",
    "    fc = pd.DataFrame(list(product(r,v,f)), columns=['county','vehicle_type','fuel_type'])\n",
    "    fc['fuel_consumption'] = 0\n",
    "    \n",
    "    bev_elec = fc[(fc['vehicle_type']== 'BEV') & (fc['fuel_type']== 'Electricity')]\n",
    "    gas_e10 = fc[(fc['vehicle_type']== 'SIDI_ICE') & (fc['fuel_type']== 'E10')]\n",
    "    ffv_e85 = fc[(fc['vehicle_type']== 'FFV') & (fc['fuel_type']== 'E85')]\n",
    "\n",
    "    result = pd.concat([bev_elec,gas_e10,ffv_e85])\n",
    "    result.sort_values(by=['county'],inplace=True)\n",
    "    result.reset_index(drop=True, inplace=True)\n",
    "    return result\n",
    "\n",
    "def variable_oc():\n",
    "    '''\n",
    "    oc(r,v,f) Annual operating cost for vehicle v using fuel type f in county r \n",
    "    '''\n",
    "    oc = pd.DataFrame(list(product(r,v,f)), columns=['county', 'vehicle_type','fuel_type'])\n",
    "    oc['operating_cost'] = 0\n",
    "    \n",
    "    bev_elec = oc[(oc['vehicle_type']== 'BEV') & (oc['fuel_type']== 'Electricity')]\n",
    "    gas_e10 = oc[(oc['vehicle_type']== 'SIDI_ICE') & (oc['fuel_type']== 'E10')]\n",
    "    ffv_e85 = oc[(oc['vehicle_type']== 'FFV') & (oc['fuel_type']== 'E85')]\n",
    "\n",
    "    result = pd.concat([bev_elec,gas_e10,ffv_e85])\n",
    "    result.sort_values(by=['county'],inplace=True)\n",
    "    result.reset_index(drop=True, inplace=True)\n",
    "    return result \n",
    "\n",
    "def variable_tac():\n",
    "    '''\n",
    "    tac(r,v,f) Total annual cost of vehicle v using fuel type f in county r \n",
    "    '''\n",
    "    tac = pd.DataFrame(list(product(r,v,f)), columns=['county', 'vehicle_type','fuel_type'])\n",
    "    tac['total_annual_vehicle_cost'] = 0\n",
    "    \n",
    "    bev_elec = tac[(tac['vehicle_type']== 'BEV') & (tac['fuel_type']== 'Electricity')]\n",
    "    gas_e10 = tac[(tac['vehicle_type']== 'SIDI_ICE') & (tac['fuel_type']== 'E10')]\n",
    "    ffv_e85 = tac[(tac['vehicle_type']== 'FFV') & (tac['fuel_type']== 'E85')]\n",
    "\n",
    "    result = pd.concat([bev_elec,gas_e10,ffv_e85])\n",
    "    result.sort_values(by=['county'],inplace=True)\n",
    "    result.reset_index(drop=True, inplace=True)\n",
    "    return result\n",
    "\n",
    "def variable_ce():\n",
    "    '''\n",
    "    ce(r,v,f)  GHG emission per year of vehicle v using fuel type f in county r \n",
    "    '''\n",
    "    ce = pd.DataFrame(list(product(r,v,f)), columns=['county', 'vehicle_type','fuel_type'])\n",
    "    ce['emission_per_year'] = 0\n",
    "    \n",
    "    bev_elec = ce[(ce['vehicle_type']== 'BEV') & (ce['fuel_type']== 'Electricity')]\n",
    "    gas_e10 = ce[(ce['vehicle_type']== 'SIDI_ICE') & (ce['fuel_type']== 'E10')]\n",
    "    ffv_e85 = ce[(ce['vehicle_type']== 'FFV') & (ce['fuel_type']== 'E85')]\n",
    "\n",
    "    result = pd.concat([bev_elec,gas_e10,ffv_e85])\n",
    "    result.sort_values(by=['county'],inplace=True)\n",
    "    result.reset_index(drop=True, inplace=True)\n",
    "    return result\n",
    "\n",
    "n = variable_n()\n",
    "fc = variable_fc()\n",
    "tac = variable_tac()\n",
    "oc = variable_oc()\n",
    "ce = variable_ce()"
   ]
  },
  {
   "cell_type": "markdown",
   "metadata": {},
   "source": [
    "## IEMS 394 - Biofuels Optimisation Model\n",
    "\n",
    "Running list of assumptions:\n",
    "- Some county name recurr within the set of states we have selected. Such counties have had their respective 2-letter state code appended to their name. They are enumerated below.\n",
    "    1. Orange - CA,TX \n",
    "    2. Cass - MN, TX\n",
    "    3. Lake - CA, MN\n",
    "    4. Trinty - CA, TX\n",
    "    5. Houston - MN, TX\n",
    "    6. Polk - MN,TX\n",
    "    7. Brown - MN,TX\n",
    "    8. Clay - MN, TX\n",
    "    9. Jackson - TX,MN\n",
    "    10. Washington - MN, TX\n",
    "    11. Martin - MN,TX\n",
    "    \n",
    "- future proofing changes:\n",
    "    - Decision variable `n` assumes that vehicle types use a single type of fuel (it's not written in at all)"
   ]
  },
  {
   "cell_type": "code",
   "execution_count": 6,
   "metadata": {},
   "outputs": [],
   "source": [
    "n1 = n.merge(B)\n",
    "n2 = n1.merge(CG)\n",
    "n3 = n2.merge(oc)\n",
    "n4 = n3.merge(ce)\n",
    "n5 = n4.merge(fc)\n",
    "n6 = n5.merge(tac)\n",
    "n6 = n6.sort_values(by=['county','vehicle_type'], ascending=True)\n",
    "n6.reset_index(drop=True, inplace=True)"
   ]
  },
  {
   "cell_type": "code",
   "execution_count": 7,
   "metadata": {},
   "outputs": [],
   "source": [
    "N_B = B.merge(N)\n",
    "number_one = N_B.merge(TM, left_on=['household_income_ID','state'],right_on=['household_income_ID','state'])\n",
    "number_one.drop(['household_income','household_income_ID'],axis=1,inplace=True)\n",
    "n6 = n6.merge(number_one)\n",
    "total_miles_df = n6[['county','vehicle_type','annual_miles_driven']]"
   ]
  },
  {
   "cell_type": "markdown",
   "metadata": {},
   "source": [
    "# Parameters"
   ]
  },
  {
   "cell_type": "code",
   "execution_count": 8,
   "metadata": {},
   "outputs": [],
   "source": [
    "EF_param = {k: f.groupby('fuel_type')['emission_factor'].apply(list).to_dict()\n",
    "     for k, f in EF.groupby('state')}\n",
    "\n",
    "FE_param = {k: f.groupby('fuel_type')['fuel_economy'].apply(list).to_dict()\n",
    "     for k, f in FE.groupby('vehicle_type')}\n",
    "\n",
    "C_param = {k: f.groupby('fuel_type')['fuel_cost_per_mile'].apply(list).to_dict()\n",
    "     for k, f in C.groupby('state')}\n",
    "# CC_param = {k: f.groupby('vehicle_type')['cost_minus_rebate'].apply(list).to_dict()\n",
    "#      for k, f in CC.groupby('state')}\n",
    "improve = CC.merge(B)\n",
    "CC_param = {k: f.groupby('vehicle_type')['yearly_cost'].apply(list).to_dict()\n",
    "     for k, f in improve.groupby('county')}\n",
    "CC_param\n",
    "\n",
    "CG_param = {k: f.groupby('fuel_type')['fuel_cost_per_gal'].apply(list).to_dict()\n",
    "     for k, f in CG.groupby('state')}\n",
    "D_param = 0.80\n",
    "\n",
    "TM_param = {k: f.groupby('vehicle_type')['annual_miles_driven'].apply(list).to_dict()\n",
    "     for k, f in total_miles_df.groupby('county')}\n",
    "# CF_param = {k: f.groupby('fuel_type')['fuel_economy'].apply(list).to_dict()\n",
    "#      for k, f in CF.groupby('vehicle_type')}\n",
    "CFnew = CF.merge(n6,left_on=\"vehicle_type\",right_on=\"vehicle_type\")\n",
    "CFnew.sort_values(by=['county'],inplace=True)\n",
    "CFnew.reset_index(drop=True, inplace=True)\n",
    "CFnew = CFnew[['county','vehicle_type','fuel_consumption_x']]\n",
    "CFnew_param = {k: f.groupby('vehicle_type')['fuel_consumption_x'].apply(list).to_dict()\n",
    "     for k, f in CFnew.groupby('county')}\n",
    "\n",
    "CGnew_param = n6[['county','vehicle_type','fuel_cost_per_gal']]\n",
    "CGnew_param = {k: f.groupby('vehicle_type')['fuel_cost_per_gal'].apply(list).to_dict()\n",
    "     for k, f in CGnew_param.groupby('county')}\n",
    "     \n",
    "\n",
    "T_param = T.groupby('county')['total_vehicles_registered'].apply(list).to_dict()\n",
    "W_param = W_param.groupby('county')['emissions_per_county'].apply(list).to_dict()"
   ]
  },
  {
   "cell_type": "markdown",
   "metadata": {},
   "source": [
    "# Decision Variables"
   ]
  },
  {
   "cell_type": "code",
   "execution_count": 9,
   "metadata": {},
   "outputs": [],
   "source": [
    "#n (v, f, r) \n",
    "#Projected number of vehicles of vehicle type v using fuel type f that should be in county r\n",
    "n = LpVariable.dicts(\"vehicle_count\", (COUNTIES, VEHICLE_TYPES), 0)\n",
    "\n",
    "#fc(r,v,f) \n",
    "#Total fuel consumption by vehicle v using fuel type f in county r\n",
    "fc = LpVariable.dicts(\"total_fuel_use\", (COUNTIES, VEHICLE_TYPES), 0)\n",
    "\n",
    "#oc(r,v,f) \n",
    "#Operating cost per mile for vehicle v using fuel type f in county r \n",
    "oc = LpVariable.dicts(\"annual_operating_cost\", (COUNTIES, VEHICLE_TYPES), 0)\n",
    "\n",
    "#tac(r,v,f) \n",
    "#Total annual cost of vehicle v using fuel type f in county r \n",
    "tac = LpVariable.dicts(\"total_annual_cost\", (COUNTIES, VEHICLE_TYPES), 0)\n",
    "\n",
    "#ce(r,v,f)  \n",
    "#GHG emission per year of vehicle v using fuel type f in county r\n",
    "ce = LpVariable.dicts(\"GHG_emissions_new\", (COUNTIES, VEHICLE_TYPES), 0)"
   ]
  },
  {
   "cell_type": "markdown",
   "metadata": {},
   "source": [
    "# Objective Function"
   ]
  },
  {
   "cell_type": "code",
   "execution_count": 10,
   "metadata": {},
   "outputs": [],
   "source": [
    "#SET PROBLEM VARIABLE\n",
    "prob = LpProblem('Biofuels',LpMinimize)\n",
    "#OBJECTIVE FUNCTION: minimise cost, determine car allocation (mixed integer)\n",
    "prob += lpSum(((CFnew_param[r][f][0] * CGnew_param[r][f][0] * TM_param[r][f][0]) + CC_param[r][f][0]) * n[r][f] for f in VEHICLE_TYPES for r in COUNTIES)"
   ]
  },
  {
   "cell_type": "markdown",
   "metadata": {},
   "source": [
    "#### Cost Commentary:\n",
    "\n",
    "Our model currently says we need to spend 434 billion to change each county's split to an optimal which reduces GHG by 25% for each state. However, this assumes there aren't any vehicles on the ground - in other words, it's a raw cost as if we bought all these vehicles. In reality, there's already some (inefficient/suboptimal) split that exists. Our cost should reflect that change (suboptimal split ---> optimal split)\n",
    "\n",
    "So let's say if Alameda has (2 BEV, 18 FFV, 80 SIDI ICE), and the optimal split is (30 BEV, 28 FFV, 42 SIDI ICE), our cost parameter should account for the changes (+28 BEV, +10 FFV, -38 SIDI ICE)\n",
    "\n",
    "In order to properly compute the split differential, we would need to know the county-level data for vehicle split. Currently, we have total counts, as well as EV registration data. By assuming a percentage (%) for FFVs, we can compute all three values in order to create a rough split.\n",
    "\n",
    "For a client who cares about finances (Dept of Energy, EPA / any govt body) could take one look at this cost vector and trash the whole model. Even if what a viewer cares about is the optimal vehicle split, there is a chicken-and-egg problem with chasing cost reductions. Counties with close-to-optimal splits will spend significantly less, and as a result different optimalities will be found."
   ]
  },
  {
   "cell_type": "markdown",
   "metadata": {},
   "source": [
    "# Constraints"
   ]
  },
  {
   "cell_type": "code",
   "execution_count": 11,
   "metadata": {},
   "outputs": [],
   "source": [
    "v = V['vehicle_type']\n",
    "f = F['fuel_type']\n",
    "r = R['county']\n",
    "CE = variable_ce()\n",
    "ce_update = CE.merge(B)\n",
    "#ce = {k: f.groupby('county')['emission_per_year'].apply(list).to_dict()\n",
    "     #for k, f in ce_update.groupby('state')}"
   ]
  },
  {
   "cell_type": "code",
   "execution_count": 12,
   "metadata": {},
   "outputs": [],
   "source": [
    "#Constraint 0: Non-negative vehicles assigned to each county r \n",
    "for r in COUNTIES:\n",
    "    for f in VEHICLE_TYPES:\n",
    "        prob += n[r][f] >= 0"
   ]
  },
  {
   "cell_type": "code",
   "execution_count": 13,
   "metadata": {},
   "outputs": [],
   "source": [
    "Nnew = N.merge(B)\n",
    "EFnew = pd.merge(TM, Nnew,  how='left', left_on=['state','household_income_ID'], right_on = ['state','household_income_ID']).dropna()\n",
    "EFnew = EFnew.merge(EF).merge(FE)\n",
    "EFnew.sort_values(by=['county'],inplace=True)\n",
    "EFnew.reset_index(drop=True, inplace=True)\n",
    "EFnew['TotalEmission'] = EFnew['annual_miles_driven']*EFnew['emission_factor']\n",
    "EFnew\n",
    "EFnew_param = {k: f.groupby('county')['TotalEmission'].apply(list).to_dict()\n",
    "      for k, f in EFnew.groupby('county')}\n",
    "\n",
    "#Constraint 1: Annual emission by total of vehicle v in county f with a given fuel ce(r,f) equals emission per mile * total miles driven \n",
    "\n",
    "for r in COUNTIES:\n",
    "    j = 0\n",
    "    for f in VEHICLE_TYPES:\n",
    "        prob += ce[r][f] == EFnew_param[r][r][j]*n[r][f]\n",
    "        j += 1\n"
   ]
  },
  {
   "cell_type": "code",
   "execution_count": 14,
   "metadata": {},
   "outputs": [],
   "source": [
    "# #Constraint 2: Decrease total emissions by D(s) for each state \n",
    "# for r in COUNTIES: \n",
    "#     prob += lpSum(ce[r][f] for f in VEHICLE_TYPES) <= W_param[r][0]\n",
    "prob += lpSum(ce[r][f] for f in VEHICLE_TYPES for r in COUNTIES) <= ((1-D) * lpSum(W_param[r][0] for r in COUNTIES))"
   ]
  },
  {
   "cell_type": "markdown",
   "metadata": {},
   "source": [
    "#### Commentary on Constraints 3,4\n",
    "The idea here is that the count of a specific vehicle (FFV, BEV) cannot exceed the respective maximum theoretical count. Maybe we can do something here with the rural/urban debate of a county (e.g. Cook County case). Maybe combine the population density and the cars/person or something - to account for vehicle density. Perhaps something like (urban vs rural counties - e.g. urban has 1.5x more vehicles per capita?). We can actually compute this from county vehicle totals / population and interpolate the results."
   ]
  },
  {
   "cell_type": "code",
   "execution_count": 15,
   "metadata": {},
   "outputs": [],
   "source": [
    "e85_vi = e85_vi[['STATE','NAME','CENSUSAREA','e85_area']]\n",
    "e85_vi = e85_vi.rename(columns={'STATE': 'state', 'NAME': 'county','CENSUSAREA':'census_area'})\n",
    "efuels_vi = efuels_vi[['STATE','NAME','CENSUSAREA','efuels_area']]\n",
    "efuels_vi = efuels_vi.rename(columns={'STATE': 'state', 'NAME': 'county','CENSUSAREA':'census_area'})"
   ]
  },
  {
   "cell_type": "code",
   "execution_count": 16,
   "metadata": {},
   "outputs": [],
   "source": [
    "e85_vi['e85_area'] = e85_vi['e85_area'] / 100\n",
    "efuels_vi['efuels_area'] = efuels_vi['efuels_area'] / 100"
   ]
  },
  {
   "cell_type": "code",
   "execution_count": 17,
   "metadata": {},
   "outputs": [],
   "source": [
    "e85vi_param = e85_vi.groupby('county')['e85_area'].apply(list).to_dict()\n",
    "efuelsvi_param = efuels_vi.groupby('county')['efuels_area'].apply(list).to_dict()"
   ]
  },
  {
   "cell_type": "code",
   "execution_count": 18,
   "metadata": {},
   "outputs": [],
   "source": [
    "# vehicle_count_Aitkin_FFV = 22605.0 -- but should be zero.\n",
    "# e85vi_param['Aitkin'][0] * T_param['Aitkin'][0]"
   ]
  },
  {
   "cell_type": "code",
   "execution_count": 19,
   "metadata": {},
   "outputs": [],
   "source": [
    "#Constraints 3: E85 Viability index\n",
    "for r in COUNTIES:\n",
    "    prob += lpSum(n[r]['FFV']) <= (e85vi_param[r][0] * T_param[r][0]) "
   ]
  },
  {
   "cell_type": "code",
   "execution_count": 20,
   "metadata": {},
   "outputs": [],
   "source": [
    "#Constraint 4: EV Viability index\n",
    "for r in COUNTIES:\n",
    "    prob += lpSum(n[r]['BEV']) <= (efuelsvi_param[r][0] * T_param[r][0]) "
   ]
  },
  {
   "cell_type": "code",
   "execution_count": 21,
   "metadata": {},
   "outputs": [],
   "source": [
    "#Constraint 5: Total annual fuel consumption per county equals fuel consumption of each vehicle in that county\n",
    "for r in COUNTIES:\n",
    "    for f in VEHICLE_TYPES:\n",
    "        prob += fc[r][f]  - (CFnew_param[r][f][0] * n[r][f]* TM_param[r][f][0]) == 0"
   ]
  },
  {
   "cell_type": "code",
   "execution_count": 22,
   "metadata": {},
   "outputs": [],
   "source": [
    "#Constraint 6: Operating cost= cost of fuel * sum of fuel consumption\n",
    "for r in COUNTIES:\n",
    "    for f in VEHICLE_TYPES:\n",
    "        prob += oc[r][f] - (CGnew_param[r][f][0] * fc[r][f]) == 0"
   ]
  },
  {
   "cell_type": "code",
   "execution_count": 23,
   "metadata": {},
   "outputs": [],
   "source": [
    "# Constraint 7: Total number of all vehicle types v should be equal to the total number of vehicles in county r \n",
    "for r in COUNTIES:\n",
    "    prob += lpSum(n[r][f] for f in VEHICLE_TYPES) == T_param[r][0]"
   ]
  },
  {
   "cell_type": "code",
   "execution_count": 24,
   "metadata": {},
   "outputs": [],
   "source": [
    "# Constraint 8: Total annual cost of vehicle v in county r = operating cost + capital cost\n",
    "for r in COUNTIES: \n",
    "    for f in VEHICLE_TYPES:\n",
    "        prob += tac[r][f] == oc[r][f] + (CC_param[r][f][0] * n[r][f])"
   ]
  },
  {
   "cell_type": "code",
   "execution_count": 25,
   "metadata": {},
   "outputs": [],
   "source": [
    "LpSolverDefault.msg=1"
   ]
  },
  {
   "cell_type": "code",
   "execution_count": 26,
   "metadata": {},
   "outputs": [],
   "source": [
    "# prob.writeLP(\"BioFuelsModel.lp\")"
   ]
  },
  {
   "cell_type": "code",
   "execution_count": 27,
   "metadata": {},
   "outputs": [
    {
     "data": {
      "text/plain": [
       "1"
      ]
     },
     "execution_count": 27,
     "metadata": {},
     "output_type": "execute_result"
    }
   ],
   "source": [
    "prob.solve()"
   ]
  },
  {
   "cell_type": "code",
   "execution_count": 28,
   "metadata": {},
   "outputs": [],
   "source": [
    "# print(\"Decision Variable Values\")\n",
    "# for v in prob.variables():\n",
    "#         print(v.name, \"=\", v.varValue)"
   ]
  },
  {
   "cell_type": "code",
   "execution_count": 29,
   "metadata": {},
   "outputs": [
    {
     "name": "stdout",
     "output_type": "stream",
     "text": [
      "The Min Value =  395557790269.8116\n"
     ]
    }
   ],
   "source": [
    "print(\"The Min Value = $\",value(prob.objective))"
   ]
  },
  {
   "cell_type": "code",
   "execution_count": 30,
   "metadata": {},
   "outputs": [],
   "source": [
    "keys, values = [[] for i in range(2)]\n",
    "for v in prob.variables():\n",
    "    keys.append(v.name)\n",
    "    values.append(v.varValue)\n",
    "results = dict(zip(keys, values))"
   ]
  },
  {
   "cell_type": "code",
   "execution_count": 31,
   "metadata": {},
   "outputs": [],
   "source": [
    "for i in COUNTIES:\n",
    "    COUNTIES[COUNTIES.index(i)] = i.replace(\" \", \"_\")"
   ]
  },
  {
   "cell_type": "code",
   "execution_count": 32,
   "metadata": {},
   "outputs": [],
   "source": [
    "ghg_vis, oc_vis, tac_vis, tfu_vis, vc_vis, vc_vis_BEV, vc_vis_FFV, vc_vis_SIDI = [[] for i in range(8)]\n",
    "\n",
    "for r in COUNTIES:\n",
    "    a_subset = {key: value for key, value in results.items() if r in key}\n",
    "    ghg_vis.append(a_subset['GHG_emissions_new_' + r + '_BEV'] + a_subset['GHG_emissions_new_' + r + '_FFV'] + a_subset['GHG_emissions_new_' + r + '_SIDI_ICE'])\n",
    "    oc_vis.append(a_subset['annual_operating_cost_' + r + '_BEV'] + a_subset['annual_operating_cost_' + r + '_FFV'] + a_subset['annual_operating_cost_' + r + '_SIDI_ICE'])\n",
    "    tac_vis.append(a_subset['total_annual_cost_' + r + '_BEV'] + a_subset['total_annual_cost_' + r + '_FFV'] + a_subset['total_annual_cost_' + r + '_SIDI_ICE'])\n",
    "    tfu_vis.append(a_subset['total_fuel_use_' + r + '_BEV'] + a_subset['total_fuel_use_' + r + '_FFV'] + a_subset['total_fuel_use_' + r + '_SIDI_ICE'])\n",
    "    vc_vis.append(a_subset['vehicle_count_' + r + '_BEV'] + a_subset['vehicle_count_' + r + '_FFV'] + a_subset['vehicle_count_' + r + '_SIDI_ICE'])\n",
    "    vc_vis_BEV.append(a_subset['vehicle_count_' + r + '_BEV'])\n",
    "    vc_vis_FFV.append(a_subset['vehicle_count_' + r + '_FFV'])\n",
    "    vc_vis_SIDI.append(a_subset['vehicle_count_' + r + '_SIDI_ICE'])"
   ]
  },
  {
   "cell_type": "code",
   "execution_count": 33,
   "metadata": {},
   "outputs": [
    {
     "data": {
      "text/html": [
       "<div>\n",
       "<style scoped>\n",
       "    .dataframe tbody tr th:only-of-type {\n",
       "        vertical-align: middle;\n",
       "    }\n",
       "\n",
       "    .dataframe tbody tr th {\n",
       "        vertical-align: top;\n",
       "    }\n",
       "\n",
       "    .dataframe thead th {\n",
       "        text-align: right;\n",
       "    }\n",
       "</style>\n",
       "<table border=\"1\" class=\"dataframe\">\n",
       "  <thead>\n",
       "    <tr style=\"text-align: right;\">\n",
       "      <th></th>\n",
       "      <th>County</th>\n",
       "      <th>ghg_vis</th>\n",
       "      <th>oc_vis</th>\n",
       "      <th>tac_vis</th>\n",
       "      <th>tfu_vis</th>\n",
       "      <th>vc_vis</th>\n",
       "      <th>vc_vis_BEV</th>\n",
       "      <th>vc_vis_FFV</th>\n",
       "      <th>vc_vis_SIDI</th>\n",
       "    </tr>\n",
       "  </thead>\n",
       "  <tbody>\n",
       "    <tr>\n",
       "      <th>37</th>\n",
       "      <td>San_Francisco</td>\n",
       "      <td>1.550179e+12</td>\n",
       "      <td>121634010.6</td>\n",
       "      <td>2.695319e+09</td>\n",
       "      <td>52349552.0</td>\n",
       "      <td>454532.9973</td>\n",
       "      <td>446841.06</td>\n",
       "      <td>7691.9373</td>\n",
       "      <td>0.0</td>\n",
       "    </tr>\n",
       "  </tbody>\n",
       "</table>\n",
       "</div>"
      ],
      "text/plain": [
       "           County       ghg_vis       oc_vis       tac_vis     tfu_vis  \\\n",
       "37  San_Francisco  1.550179e+12  121634010.6  2.695319e+09  52349552.0   \n",
       "\n",
       "         vc_vis  vc_vis_BEV  vc_vis_FFV  vc_vis_SIDI  \n",
       "37  454532.9973   446841.06   7691.9373          0.0  "
      ]
     },
     "execution_count": 33,
     "metadata": {},
     "output_type": "execute_result"
    }
   ],
   "source": [
    "Visual = pd.DataFrame(zip(COUNTIES, ghg_vis, oc_vis, tac_vis, tfu_vis, vc_vis, vc_vis_BEV, vc_vis_FFV, vc_vis_SIDI),\n",
    "              columns=['County','ghg_vis','oc_vis', 'tac_vis','tfu_vis','vc_vis','vc_vis_BEV','vc_vis_FFV','vc_vis_SIDI'])\n",
    "Visual[Visual['County'] == 'San_Francisco']"
   ]
  },
  {
   "cell_type": "code",
   "execution_count": 34,
   "metadata": {},
   "outputs": [],
   "source": [
    "column_names = [\"County\", \"annual_ghg_emissions\", \"annual_operating_cost\",\"total_annual_cost\",\"annual_fuel_use\", \"total_vehicle_count\",'vehicle_split_BEV','vehicle_split_FFV','vehicle_split_SIDI']\n",
    "Visual.columns = column_names\n",
    "Visual['vehicle_pc_BEV'] = (Visual['vehicle_split_BEV']/Visual['total_vehicle_count']*100).round(1)\n",
    "Visual['vehicle_pc_FFV'] = (Visual['vehicle_split_FFV']/Visual['total_vehicle_count']*100).round(1)\n",
    "Visual['vehicle_pc_SIDI'] = (Visual['vehicle_split_SIDI']/Visual['total_vehicle_count']*100).round(1)"
   ]
  },
  {
   "cell_type": "code",
   "execution_count": 35,
   "metadata": {},
   "outputs": [
    {
     "data": {
      "text/html": [
       "<div>\n",
       "<style scoped>\n",
       "    .dataframe tbody tr th:only-of-type {\n",
       "        vertical-align: middle;\n",
       "    }\n",
       "\n",
       "    .dataframe tbody tr th {\n",
       "        vertical-align: top;\n",
       "    }\n",
       "\n",
       "    .dataframe thead th {\n",
       "        text-align: right;\n",
       "    }\n",
       "</style>\n",
       "<table border=\"1\" class=\"dataframe\">\n",
       "  <thead>\n",
       "    <tr style=\"text-align: right;\">\n",
       "      <th></th>\n",
       "      <th>County</th>\n",
       "      <th>annual_ghg_emissions</th>\n",
       "      <th>annual_operating_cost</th>\n",
       "      <th>total_annual_cost</th>\n",
       "      <th>annual_fuel_use</th>\n",
       "      <th>total_vehicle_count</th>\n",
       "      <th>vehicle_split_BEV</th>\n",
       "      <th>vehicle_split_FFV</th>\n",
       "      <th>vehicle_split_SIDI</th>\n",
       "      <th>vehicle_pc_BEV</th>\n",
       "      <th>vehicle_pc_FFV</th>\n",
       "      <th>vehicle_pc_SIDI</th>\n",
       "    </tr>\n",
       "  </thead>\n",
       "  <tbody>\n",
       "    <tr>\n",
       "      <th>96</th>\n",
       "      <td>Lake_of_the_Woods</td>\n",
       "      <td>2.330584e+10</td>\n",
       "      <td>3053890.9</td>\n",
       "      <td>39996436.0</td>\n",
       "      <td>1745080.5</td>\n",
       "      <td>5644.0</td>\n",
       "      <td>0.0</td>\n",
       "      <td>0.0</td>\n",
       "      <td>5644.0</td>\n",
       "      <td>0.0</td>\n",
       "      <td>0.0</td>\n",
       "      <td>100.0</td>\n",
       "    </tr>\n",
       "  </tbody>\n",
       "</table>\n",
       "</div>"
      ],
      "text/plain": [
       "               County  annual_ghg_emissions  annual_operating_cost  \\\n",
       "96  Lake_of_the_Woods          2.330584e+10              3053890.9   \n",
       "\n",
       "    total_annual_cost  annual_fuel_use  total_vehicle_count  \\\n",
       "96         39996436.0        1745080.5               5644.0   \n",
       "\n",
       "    vehicle_split_BEV  vehicle_split_FFV  vehicle_split_SIDI  vehicle_pc_BEV  \\\n",
       "96                0.0                0.0              5644.0             0.0   \n",
       "\n",
       "    vehicle_pc_FFV  vehicle_pc_SIDI  \n",
       "96             0.0            100.0  "
      ]
     },
     "execution_count": 35,
     "metadata": {},
     "output_type": "execute_result"
    }
   ],
   "source": [
    "# Visual[Visual['County'] == 'San_Francisco']\n",
    "Visual[Visual['County'] == 'Lake_of_the_Woods']\n"
   ]
  },
  {
   "cell_type": "code",
   "execution_count": 36,
   "metadata": {},
   "outputs": [],
   "source": [
    "# Visual['County'] = Visual['County'].str.split('_').apply(lambda x: x[0])\n",
    "# Visual['County'] = Visual['County'] + '_' + Visual['state']"
   ]
  },
  {
   "cell_type": "code",
   "execution_count": 37,
   "metadata": {},
   "outputs": [
    {
     "data": {
      "text/html": [
       "<div>\n",
       "<style scoped>\n",
       "    .dataframe tbody tr th:only-of-type {\n",
       "        vertical-align: middle;\n",
       "    }\n",
       "\n",
       "    .dataframe tbody tr th {\n",
       "        vertical-align: top;\n",
       "    }\n",
       "\n",
       "    .dataframe thead th {\n",
       "        text-align: right;\n",
       "    }\n",
       "</style>\n",
       "<table border=\"1\" class=\"dataframe\">\n",
       "  <thead>\n",
       "    <tr style=\"text-align: right;\">\n",
       "      <th></th>\n",
       "      <th>County</th>\n",
       "      <th>annual_ghg_emissions</th>\n",
       "      <th>annual_operating_cost</th>\n",
       "      <th>total_annual_cost</th>\n",
       "      <th>annual_fuel_use</th>\n",
       "      <th>total_vehicle_count</th>\n",
       "      <th>vehicle_split_BEV</th>\n",
       "      <th>vehicle_split_FFV</th>\n",
       "      <th>vehicle_split_SIDI</th>\n",
       "      <th>vehicle_pc_BEV</th>\n",
       "      <th>vehicle_pc_FFV</th>\n",
       "      <th>vehicle_pc_SIDI</th>\n",
       "    </tr>\n",
       "  </thead>\n",
       "  <tbody>\n",
       "    <tr>\n",
       "      <th>46</th>\n",
       "      <td>Siskiyou</td>\n",
       "      <td>4.277202e+10</td>\n",
       "      <td>20000915.51</td>\n",
       "      <td>215163035.0</td>\n",
       "      <td>7324357.49</td>\n",
       "      <td>30059.9997</td>\n",
       "      <td>1774.5487</td>\n",
       "      <td>0.0</td>\n",
       "      <td>28285.451</td>\n",
       "      <td>5.9</td>\n",
       "      <td>0.0</td>\n",
       "      <td>94.1</td>\n",
       "    </tr>\n",
       "  </tbody>\n",
       "</table>\n",
       "</div>"
      ],
      "text/plain": [
       "      County  annual_ghg_emissions  annual_operating_cost  total_annual_cost  \\\n",
       "46  Siskiyou          4.277202e+10            20000915.51        215163035.0   \n",
       "\n",
       "    annual_fuel_use  total_vehicle_count  vehicle_split_BEV  \\\n",
       "46       7324357.49           30059.9997          1774.5487   \n",
       "\n",
       "    vehicle_split_FFV  vehicle_split_SIDI  vehicle_pc_BEV  vehicle_pc_FFV  \\\n",
       "46                0.0           28285.451             5.9             0.0   \n",
       "\n",
       "    vehicle_pc_SIDI  \n",
       "46             94.1  "
      ]
     },
     "execution_count": 37,
     "metadata": {},
     "output_type": "execute_result"
    }
   ],
   "source": [
    "Visual[Visual['County'] == 'Siskiyou']\n"
   ]
  },
  {
   "cell_type": "code",
   "execution_count": null,
   "metadata": {},
   "outputs": [],
   "source": []
  },
  {
   "cell_type": "code",
   "execution_count": 38,
   "metadata": {},
   "outputs": [
    {
     "data": {
      "text/html": [
       "<div>\n",
       "<style scoped>\n",
       "    .dataframe tbody tr th:only-of-type {\n",
       "        vertical-align: middle;\n",
       "    }\n",
       "\n",
       "    .dataframe tbody tr th {\n",
       "        vertical-align: top;\n",
       "    }\n",
       "\n",
       "    .dataframe thead th {\n",
       "        text-align: right;\n",
       "    }\n",
       "</style>\n",
       "<table border=\"1\" class=\"dataframe\">\n",
       "  <thead>\n",
       "    <tr style=\"text-align: right;\">\n",
       "      <th></th>\n",
       "      <th>County</th>\n",
       "      <th>State</th>\n",
       "    </tr>\n",
       "  </thead>\n",
       "  <tbody>\n",
       "    <tr>\n",
       "      <th>96</th>\n",
       "      <td>Lake_of_the_Woods</td>\n",
       "      <td>MN</td>\n",
       "    </tr>\n",
       "  </tbody>\n",
       "</table>\n",
       "</div>"
      ],
      "text/plain": [
       "               County State\n",
       "96  Lake_of_the_Woods    MN"
      ]
     },
     "execution_count": 38,
     "metadata": {},
     "output_type": "execute_result"
    }
   ],
   "source": [
    "county_renaming_engine = pd.read_csv('https://raw.githubusercontent.com/saif1457/iems394/master/optimisation_data/county_renaming_engine.csv')\n",
    "county_renaming_engine[county_renaming_engine['County']=='Lake_of_the_Woods']"
   ]
  },
  {
   "cell_type": "code",
   "execution_count": 39,
   "metadata": {},
   "outputs": [
    {
     "data": {
      "text/plain": [
       "(399, 13)"
      ]
     },
     "execution_count": 39,
     "metadata": {},
     "output_type": "execute_result"
    }
   ],
   "source": [
    "Visual = Visual.merge(county_renaming_engine)\n",
    "Visual.shape"
   ]
  },
  {
   "cell_type": "code",
   "execution_count": 40,
   "metadata": {},
   "outputs": [],
   "source": [
    "# Visual.iloc[Visual['County'] == 'Lake_of_the_Woods']\n",
    "Visual['County'] = Visual['County'].str.replace('_',' ')\n",
    "Visual.to_csv('optimisation_data/visual_df.csv')"
   ]
  },
  {
   "cell_type": "code",
   "execution_count": 43,
   "metadata": {},
   "outputs": [
    {
     "data": {
      "text/plain": [
       "-0.7514685882636066"
      ]
     },
     "execution_count": 43,
     "metadata": {},
     "output_type": "execute_result"
    }
   ],
   "source": [
    "(Visual.groupby('State').sum()['annual_ghg_emissions']['CA'] - 361000000000000)/ 361000000000000"
   ]
  },
  {
   "cell_type": "code",
   "execution_count": 44,
   "metadata": {},
   "outputs": [
    {
     "data": {
      "text/plain": [
       "-0.6489636975553382"
      ]
     },
     "execution_count": 44,
     "metadata": {},
     "output_type": "execute_result"
    }
   ],
   "source": [
    "(Visual.groupby('State').sum()['annual_ghg_emissions']['MN'] - 89300000000000) / 89300000000000"
   ]
  },
  {
   "cell_type": "code",
   "execution_count": 45,
   "metadata": {},
   "outputs": [
    {
     "data": {
      "text/plain": [
       "-0.8640777706795348"
      ]
     },
     "execution_count": 45,
     "metadata": {},
     "output_type": "execute_result"
    }
   ],
   "source": [
    "(Visual.groupby('State').sum()['annual_ghg_emissions']['TX'] - 654000000000000) / 654000000000000"
   ]
  },
  {
   "cell_type": "code",
   "execution_count": 50,
   "metadata": {},
   "outputs": [
    {
     "data": {
      "image/png": "[encoded data removed]",
      "text/plain": [
       "<Figure size 432x288 with 1 Axes>"
      ]
     },
     "metadata": {
      "needs_background": "light"
     },
     "output_type": "display_data"
    },
    {
     "data": {
      "image/png": "[encoded data removed]",
      "text/plain": [
       "<Figure size 432x288 with 1 Axes>"
      ]
     },
     "metadata": {
      "needs_background": "light"
     },
     "output_type": "display_data"
    },
    {
     "data": {
      "image/png": "[encoded data removed]",
      "text/plain": [
       "<Figure size 432x288 with 1 Axes>"
      ]
     },
     "metadata": {
      "needs_background": "light"
     },
     "output_type": "display_data"
    }
   ],
   "source": [
    "W_new_emissions = pd.DataFrame(W_param.items(), columns=['County','ghg_emissions'])\n",
    "lst = W_new_emissions['ghg_emissions'].to_list()\n",
    "W_new_emissions['ghg_emissions'] = [item[0] for item in lst]\n",
    "W_new_emissions.sort_values(by=['County'],ascending=True,inplace=True)\n",
    "W_new_emissions\n",
    "\n",
    "Visual.plot(kind='scatter',x='annual_ghg_emissions',y='total_vehicle_count',color='red')\n",
    "plt.show()\n",
    "\n",
    "Visual.plot(kind='scatter',x='annual_ghg_emissions',y='total_vehicle_count',color='red')\n",
    "plt.show()\n",
    "\n",
    "new = pd.merge(W_new_emissions, Visual)\n",
    "new\n",
    "new['difference']= new['ghg_emissions']- new['annual_ghg_emissions']\n",
    "new.plot(kind='scatter', x='vehicle_split_BEV', y='difference', color='red')\n",
    "plt.show()"
   ]
  },
  {
   "cell_type": "code",
   "execution_count": 51,
   "metadata": {},
   "outputs": [
    {
     "data": {
      "image/png": "[encoded data removed]",
      "text/plain": [
       "<Figure size 432x288 with 1 Axes>"
      ]
     },
     "metadata": {
      "needs_background": "light"
     },
     "output_type": "display_data"
    },
    {
     "data": {
      "image/png": "[encoded data removed]",
      "text/plain": [
       "<Figure size 432x288 with 1 Axes>"
      ]
     },
     "metadata": {
      "needs_background": "light"
     },
     "output_type": "display_data"
    },
    {
     "data": {
      "image/png": "[encoded data removed]",
      "text/plain": [
       "<Figure size 432x288 with 1 Axes>"
      ]
     },
     "metadata": {
      "needs_background": "light"
     },
     "output_type": "display_data"
    }
   ],
   "source": [
    "new.plot(kind='scatter', x='vehicle_pc_BEV', y='difference', color='red')\n",
    "plt.show()\n",
    "\n",
    "new.plot(kind='scatter', x='vehicle_pc_FFV', y='difference', color='blue')\n",
    "plt.show()\n",
    "\n",
    "new.plot(kind='scatter', x='vehicle_pc_SIDI', y='difference', color='green')\n",
    "plt.show()"
   ]
  },
  {
   "cell_type": "code",
   "execution_count": null,
   "metadata": {},
   "outputs": [],
   "source": []
  }
 ],
 "metadata": {
  "kernelspec": {
   "display_name": "Python 3",
   "language": "python",
   "name": "python3"
  },
  "language_info": {
   "codemirror_mode": {
    "name": "ipython",
    "version": 3
   },
   "file_extension": ".py",
   "mimetype": "text/x-python",
   "name": "python",
   "nbconvert_exporter": "python",
   "pygments_lexer": "ipython3",
   "version": "3.6.3"
  }
 },
 "nbformat": 4,
 "nbformat_minor": 4
}
