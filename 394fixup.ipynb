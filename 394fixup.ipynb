{
 "cells": [
  {
   "cell_type": "markdown",
   "metadata": {},
   "source": [
    "### IEMS 394 PreProcessing\n",
    "\n",
    "This notebook focuses on organising the preprocessing steps required to ready data for the biofuels optimisation model. For a full description, please refer to *IEMS394: Biofuels Final Report.pdf* which can be found in the corresponding [Biofuels github repo](www.github.com/iems394/blob/master)."
   ]
  },
  {
   "cell_type": "code",
   "execution_count": 1,
   "metadata": {},
   "outputs": [
    {
     "name": "stdout",
     "output_type": "stream",
     "text": [
      "CPU times: user 3.01 s, sys: 269 ms, total: 3.28 s\n",
      "Wall time: 3.1 s\n"
     ]
    }
   ],
   "source": [
    "%%time\n",
    "import matplotlib.pyplot as plt\n",
    "from shapely.geometry import shape, Point, Polygon\n",
    "from shapely.ops import cascaded_union\n",
    "import shapely.geometry\n",
    "import pandas as pd\n",
    "import numpy as np\n",
    "import geopandas as gpd\n",
    "from tqdm import tqdm\n",
    "import os, geojson, multiprocessing, datetime, time, geog, json\n",
    "import concurrent.futures\n",
    "# %matplotlib tk\n",
    "\n",
    "os.chdir('/Users/saifbhatti/Desktop/Northwestern/sy1920/s20/iems394/client-data/cleaned_data')\n",
    "\n",
    "with open('us_counties_2010.json', encoding = \"ISO-8859-1\") as f:\n",
    "    gj = geojson.load(f)\n",
    "selected_states = ['TX','CA','MN'] #for the purposes of this model, only three states were considered."
   ]
  },
  {
   "cell_type": "code",
   "execution_count": 2,
   "metadata": {},
   "outputs": [
    {
     "data": {
      "text/plain": [
       "109.3076923076923"
      ]
     },
     "execution_count": 2,
     "metadata": {},
     "output_type": "execute_result"
    }
   ],
   "source": [
    "EV_ranges_df =  pd.read_csv('EV_ranges.csv')\n",
    "EV_ranges_df['Range'].mean()"
   ]
  },
  {
   "cell_type": "markdown",
   "metadata": {},
   "source": [
    "#### Compiling Electric Fueling Stations by county"
   ]
  },
  {
   "cell_type": "code",
   "execution_count": 3,
   "metadata": {},
   "outputs": [],
   "source": [
    "efuel_stations = pd.read_csv('electric_fuel_stations.csv')\n",
    "efuel_stations['Points'] = list(zip(efuel_stations['Longitude'], efuel_stations['Latitude']))"
   ]
  },
  {
   "cell_type": "code",
   "execution_count": 4,
   "metadata": {},
   "outputs": [],
   "source": [
    "def geo_mapper(x):\n",
    "    '''\n",
    "    geo_mapper takes pandas Series object constructed in the format (longitude, latitude).\n",
    "    Taking this as the point, a geo.json file is imported containing all US counties from the 2010 census as polygons.\n",
    "    It computes whether the point is within a polygon, and returns a list of all matches. \n",
    "    If a point is not matched, it returns None.\n",
    "    '''\n",
    "    point = Point(x)\n",
    "    for i in range(len(gj['features'])):\n",
    "        polygon = shape(gj['features'][i]['geometry'])\n",
    "        if polygon.contains(point):\n",
    "            return gj['features'][i]['properties']['NAME']"
   ]
  },
  {
   "cell_type": "code",
   "execution_count": 5,
   "metadata": {},
   "outputs": [],
   "source": [
    "# counties = []\n",
    "# points_list = list(efuel_stations['Points'])\n",
    "# for i in tqdm(points_list):\n",
    "#     counties.append(geo_mapper(i)) #takes 40 minutes to run\n",
    "# efuel_stations['County'] = counties\n",
    "# electric_fuel_df.to_csv('electric_fuel_stations.csv')"
   ]
  },
  {
   "cell_type": "code",
   "execution_count": 6,
   "metadata": {},
   "outputs": [],
   "source": [
    "efuel_stations = efuel_stations[['Station Name','County','City','State','Points']]"
   ]
  },
  {
   "cell_type": "markdown",
   "metadata": {},
   "source": [
    "#### Converting zipcode-level data to county-level data"
   ]
  },
  {
   "cell_type": "code",
   "execution_count": 7,
   "metadata": {},
   "outputs": [
    {
     "name": "stdout",
     "output_type": "stream",
     "text": [
      "1325\n",
      "74143\n"
     ]
    }
   ],
   "source": [
    "tx_ev_vehicle_registered = pd.read_csv('vehicle_reg/tx_ev_registrations_public.csv')\n",
    "print(len(tx_ev_vehicle_registered['ZIP Code'].unique())) #number of unique zipcodes with registered vehicles\n",
    "print(len(tx_ev_vehicle_registered)) #number of registrations\n",
    "# tx_ev_vehicle_registered.head()"
   ]
  },
  {
   "cell_type": "code",
   "execution_count": 8,
   "metadata": {},
   "outputs": [
    {
     "name": "stdout",
     "output_type": "stream",
     "text": [
      "600\n",
      "29248\n"
     ]
    }
   ],
   "source": [
    "mn_ev_vehicle_registered = pd.read_csv('vehicle_reg/mn_ev_registrations_public.csv')\n",
    "mn_ev_vehicle_registered.drop(['VIN Prefix','VIN Model Year'],inplace=True,axis=1)\n",
    "print(len(mn_ev_vehicle_registered['ZIP Code'].unique())) #number of unique zipcodes with registered vehicles\n",
    "print(len(mn_ev_vehicle_registered)) #number of registrations\n",
    "# mn_ev_vehicle_registered.head()"
   ]
  },
  {
   "cell_type": "code",
   "execution_count": 9,
   "metadata": {},
   "outputs": [
    {
     "name": "stdout",
     "output_type": "stream",
     "text": [
      "1906\n",
      "(103391, 5)\n"
     ]
    }
   ],
   "source": [
    "result = pd.concat([mn_ev_vehicle_registered, tx_ev_vehicle_registered], axis=0)\n",
    "print(len(result['ZIP Code'].unique()))\n",
    "print(result.shape)  #MN + TX registrations\n",
    "# result.head()"
   ]
  },
  {
   "cell_type": "code",
   "execution_count": 10,
   "metadata": {},
   "outputs": [
    {
     "name": "stdout",
     "output_type": "stream",
     "text": [
      "(33099, 18)\n",
      "Index(['zip', 'lat', 'lng', 'city', 'state_id', 'state_name', 'zcta',\n",
      "       'parent_zcta', 'population', 'density', 'county_fips', 'county_name',\n",
      "       'county_weights', 'county_names_all', 'county_fips_all', 'imprecise',\n",
      "       'military', 'timezone'],\n",
      "      dtype='object')\n"
     ]
    }
   ],
   "source": [
    "us_zips = pd.read_csv('uszips.csv')\n",
    "print(us_zips.shape)\n",
    "print(us_zips.columns)\n"
   ]
  },
  {
   "cell_type": "code",
   "execution_count": 11,
   "metadata": {},
   "outputs": [],
   "source": [
    "combo_zip_county = pd.merge(result, us_zips, how='inner', left_on='ZIP Code', right_on='zip')"
   ]
  },
  {
   "cell_type": "code",
   "execution_count": 12,
   "metadata": {},
   "outputs": [
    {
     "name": "stdout",
     "output_type": "stream",
     "text": [
      "97888\n",
      "['MN' 'TX']\n"
     ]
    }
   ],
   "source": [
    "print(len(combo_zip_county[(combo_zip_county['state_id'] == 'TX') | (combo_zip_county['state_id'] == 'MN')])) #how many within MN & TX\n",
    "combo_zip_county = combo_zip_county[(combo_zip_county['state_id'] == 'TX') | (combo_zip_county['state_id'] == 'MN')]\n",
    "print(combo_zip_county['state_id'].unique())\n",
    "# new.to_csv('ev_registration_county.csv')\n"
   ]
  },
  {
   "cell_type": "code",
   "execution_count": 13,
   "metadata": {},
   "outputs": [
    {
     "name": "stderr",
     "output_type": "stream",
     "text": [
      "/Users/saifbhatti/anaconda3/lib/python3.6/site-packages/IPython/core/interactiveshell.py:3063: DtypeWarning: Columns (1) have mixed types.Specify dtype option on import or set low_memory=False.\n",
      "  interactivity=interactivity, compiler=compiler, result=result)\n"
     ]
    },
    {
     "name": "stdout",
     "output_type": "stream",
     "text": [
      "Index(['Date', 'Zip Code', 'Model Year', 'Fuel', 'Make', 'Duty', 'Vehicles'], dtype='object')\n"
     ]
    }
   ],
   "source": [
    "cali = pd.read_csv('california_car_data.csv')\n",
    "print(cali.columns)\n",
    "cali_vehicle_data = us_zips.merge(cali,right_on='Zip Code',left_on='zip').groupby('county_name').sum()\n",
    "cali_vehicle_data.reset_index(inplace=True)\n",
    "cali_vehicle_data = cali_vehicle_data[['county_name','population','Vehicles']]\n",
    "cali_vehicle_data.to_csv('2018cali_vehicle_data.csv')"
   ]
  },
  {
   "cell_type": "markdown",
   "metadata": {},
   "source": [
    "#### IRS / Median income data [source]??"
   ]
  },
  {
   "cell_type": "markdown",
   "metadata": {},
   "source": [
    "##### Repeated county names"
   ]
  },
  {
   "cell_type": "code",
   "execution_count": 14,
   "metadata": {},
   "outputs": [],
   "source": [
    "repeated_list = ['Orange','Cass','Lake','Trinity','Houston','Polk','Brown','Clay','Jackson','Washington','Martin']"
   ]
  },
  {
   "cell_type": "code",
   "execution_count": 15,
   "metadata": {},
   "outputs": [],
   "source": [
    "tester = pd.read_csv('https://raw.githubusercontent.com/saif1457/iems394/master/data/testing%20county_renaming_engine.csv')\n",
    "tester.loc[tester['County'].isin(repeated_list), 'County'] = tester['County'] + '_' + tester['State']\n",
    "# tester"
   ]
  },
  {
   "cell_type": "markdown",
   "metadata": {},
   "source": [
    "#### E85 Fueling Stations and Viability Index Computations"
   ]
  },
  {
   "cell_type": "code",
   "execution_count": 16,
   "metadata": {},
   "outputs": [
    {
     "data": {
      "text/html": [
       "<div>\n",
       "<style scoped>\n",
       "    .dataframe tbody tr th:only-of-type {\n",
       "        vertical-align: middle;\n",
       "    }\n",
       "\n",
       "    .dataframe tbody tr th {\n",
       "        vertical-align: top;\n",
       "    }\n",
       "\n",
       "    .dataframe thead th {\n",
       "        text-align: right;\n",
       "    }\n",
       "</style>\n",
       "<table border=\"1\" class=\"dataframe\">\n",
       "  <thead>\n",
       "    <tr style=\"text-align: right;\">\n",
       "      <th></th>\n",
       "      <th>Station Name</th>\n",
       "      <th>City</th>\n",
       "      <th>State</th>\n",
       "      <th>ZIP</th>\n",
       "      <th>Points</th>\n",
       "    </tr>\n",
       "    <tr>\n",
       "      <th>County</th>\n",
       "      <th></th>\n",
       "      <th></th>\n",
       "      <th></th>\n",
       "      <th></th>\n",
       "      <th></th>\n",
       "    </tr>\n",
       "  </thead>\n",
       "  <tbody>\n",
       "    <tr>\n",
       "      <th>Montgomery</th>\n",
       "      <td>56</td>\n",
       "      <td>56</td>\n",
       "      <td>56</td>\n",
       "      <td>56</td>\n",
       "      <td>56</td>\n",
       "    </tr>\n",
       "    <tr>\n",
       "      <th>Hennepin</th>\n",
       "      <td>54</td>\n",
       "      <td>54</td>\n",
       "      <td>54</td>\n",
       "      <td>54</td>\n",
       "      <td>54</td>\n",
       "    </tr>\n",
       "    <tr>\n",
       "      <th>Polk</th>\n",
       "      <td>47</td>\n",
       "      <td>47</td>\n",
       "      <td>47</td>\n",
       "      <td>47</td>\n",
       "      <td>47</td>\n",
       "    </tr>\n",
       "    <tr>\n",
       "      <th>Harris</th>\n",
       "      <td>47</td>\n",
       "      <td>47</td>\n",
       "      <td>47</td>\n",
       "      <td>47</td>\n",
       "      <td>47</td>\n",
       "    </tr>\n",
       "    <tr>\n",
       "      <th>Cook</th>\n",
       "      <td>45</td>\n",
       "      <td>45</td>\n",
       "      <td>45</td>\n",
       "      <td>45</td>\n",
       "      <td>45</td>\n",
       "    </tr>\n",
       "  </tbody>\n",
       "</table>\n",
       "</div>"
      ],
      "text/plain": [
       "            Station Name  City  State  ZIP  Points\n",
       "County                                            \n",
       "Montgomery            56    56     56   56      56\n",
       "Hennepin              54    54     54   54      54\n",
       "Polk                  47    47     47   47      47\n",
       "Harris                47    47     47   47      47\n",
       "Cook                  45    45     45   45      45"
      ]
     },
     "execution_count": 16,
     "metadata": {},
     "output_type": "execute_result"
    }
   ],
   "source": [
    "e85 = pd.read_csv('e85_fuel_stations.csv')\n",
    "e85['Points'] = list(zip(e85['Longitude'], e85['Latitude']))\n",
    "e85 = e85[['Station Name','City','County', 'State','ZIP','Points']]\n",
    "e85.groupby('County').count().sort_values(by='City', ascending=False).head(5)"
   ]
  },
  {
   "cell_type": "code",
   "execution_count": 17,
   "metadata": {},
   "outputs": [],
   "source": [
    "# counties = []\n",
    "# points_list = list(e85['Points'])\n",
    "# for i in tqdm(points_list): \n",
    "#     counties.append(geo_mapper(i))\n",
    "# e85['County'] = counties\n",
    "# e85.to_csv('e85_fuel_stations.csv')"
   ]
  },
  {
   "cell_type": "code",
   "execution_count": 18,
   "metadata": {},
   "outputs": [],
   "source": [
    "centroids = pd.read_csv('county_centroids.csv')\n",
    "#cleaning\n",
    "centroids['Latitude'] = centroids['Latitude'].apply(lambda x: x.strip('°'))\n",
    "centroids['Longitude'] = centroids['Longitude'].apply(lambda x: x.strip('°'))\n",
    "centroids['Longitude'] = centroids['Longitude'].apply(lambda x: x.replace('–','-'))\n",
    "centroids['Latitude'] = centroids['Latitude'].apply(lambda x: x.replace('+',''))"
   ]
  },
  {
   "cell_type": "code",
   "execution_count": 19,
   "metadata": {},
   "outputs": [],
   "source": [
    "centroids['Points'] = list(zip(centroids['Longitude'], centroids['Latitude']))\n",
    "selected_centroids = centroids[centroids['State'].isin(selected_states)]"
   ]
  },
  {
   "cell_type": "code",
   "execution_count": 20,
   "metadata": {},
   "outputs": [],
   "source": [
    "def create_circles(x,rad):\n",
    "    '''\n",
    "    county_scanner takes pandas Series object constructed in the format (longitude, latitude).\n",
    "    Taking a point (which is the fuelling station) and constructs a circle of radius 'rad'.\n",
    "    This is stored to a geojson file.???\n",
    "    '''\n",
    "    point = Point(x)\n",
    "    return point.buffer(rad)    "
   ]
  },
  {
   "cell_type": "code",
   "execution_count": 21,
   "metadata": {},
   "outputs": [
    {
     "name": "stderr",
     "output_type": "stream",
     "text": [
      "100%|██████████| 3561/3561 [00:00<00:00, 7792.57it/s]\n"
     ]
    }
   ],
   "source": [
    "e85_points = e85['Points']\n",
    "circles = []\n",
    "for i in tqdm(e85_points):\n",
    "    circles.append(create_circles(i,10000))"
   ]
  },
  {
   "cell_type": "code",
   "execution_count": 22,
   "metadata": {},
   "outputs": [
    {
     "name": "stderr",
     "output_type": "stream",
     "text": [
      "100%|██████████| 3561/3561 [00:00<00:00, 5441.88it/s]\n"
     ]
    }
   ],
   "source": [
    "geo_df = pd.DataFrame()\n",
    "geo_df['points'] = e85_points\n",
    "geometry_string = []\n",
    "\n",
    "for i,j in tqdm(list(enumerate(e85_points))):\n",
    "    p = Point(j)\n",
    "    n_points = 20\n",
    "    d = 10 * 1000 # meters\n",
    "    angles = np.linspace(0, 360, n_points)\n",
    "    polygon = geog.propagate(p, angles, d)\n",
    "#     print(json.dumps(shapely.geometry.mapping(shapely.geometry.Polygon(polygon))) + '\\n')\n",
    "#     geometry_list.append(json.dumps(shapely.geometry.mapping(shapely.geometry.Polygon(polygon))))\n",
    "    geometry_string.append(shapely.geometry.Polygon(polygon))\n",
    "\n",
    "geo_df['coordinates'] = geometry_string\n",
    "geo_df['name'] = e85['County']\n",
    "desc = []\n",
    "for i in range(geo_df.shape[0]): desc.append('e85 station')\n",
    "geo_df['description'] = desc"
   ]
  },
  {
   "cell_type": "code",
   "execution_count": 23,
   "metadata": {},
   "outputs": [
    {
     "data": {
      "text/plain": [
       "points                                   (-97.130798, 44.904113)\n",
       "coordinates    POLYGON ((-97.00382713595083 44.90404265658519...\n",
       "name                                                   Codington\n",
       "description                                          e85 station\n",
       "Name: 0, dtype: object"
      ]
     },
     "execution_count": 23,
     "metadata": {},
     "output_type": "execute_result"
    }
   ],
   "source": [
    "geo_df.iloc[0]"
   ]
  },
  {
   "cell_type": "code",
   "execution_count": 24,
   "metadata": {},
   "outputs": [
    {
     "data": {
      "image/svg+xml": [
       "<svg xmlns=\"http://www.w3.org/2000/svg\" xmlns:xlink=\"http://www.w3.org/1999/xlink\" width=\"100.0\" height=\"100.0\" viewBox=\"-97.26615909900869 44.80439783374495 0.2724216539447042 0.19942937311293463\" preserveAspectRatio=\"xMinYMin meet\"><g transform=\"matrix(1,0,0,-1,0,89.80822504060284)\"><path fill-rule=\"evenodd\" fill=\"#66cc99\" stroke=\"#555555\" stroke-width=\"0.005448433078894084\" opacity=\"0.6\" d=\"M -97.00382713595083,44.90404265658519 L -97.01064571572502,44.93325095495965 L -97.03050371770513,44.959306614167275 L -97.06126037113242,44.97938010989203 L -97.09958110724547,44.99128901267485 L -97.14129956009505,44.99373751597104 L -97.18187485820636,44.986459101555994 L -97.21689219195231,44.970245923949165 L -97.24254878815287,44.94686151441082 L -97.25606940812185,44.918846885866756 L -97.25600491350818,44.88924223868567 L -97.24238250267064,44.861255667852255 L -97.21669424098185,44.83791554137777 L -97.18172872149464,44.82174419723432 L -97.14126686666319,44.814487524631794 L -97.09967564466325,44.816928509058144 L -97.06144227084373,44.82880380317632 L -97.03069626885674,44.84883177396828 L -97.01076771603053,44.874849190722244 L -97.00382713595083,44.90404265658519 z\" /></g></svg>"
      ],
      "text/plain": [
       "<shapely.geometry.polygon.Polygon at 0x1312a1160>"
      ]
     },
     "execution_count": 24,
     "metadata": {},
     "output_type": "execute_result"
    }
   ],
   "source": [
    "geo_df.iloc[0][1]"
   ]
  },
  {
   "cell_type": "code",
   "execution_count": 26,
   "metadata": {},
   "outputs": [
    {
     "data": {
      "image/png": "[encoded data removed]",
      "text/plain": [
       "<Figure size 432x288 with 1 Axes>"
      ]
     },
     "metadata": {
      "needs_background": "light"
     },
     "output_type": "display_data"
    }
   ],
   "source": [
    "boundary = gpd.GeoSeries(cascaded_union(geometry_string))\n",
    "boundary.plot()\n",
    "plt.show()"
   ]
  },
  {
   "cell_type": "code",
   "execution_count": 50,
   "metadata": {},
   "outputs": [
    {
     "data": {
      "text/plain": [
       "geopandas.geoseries.GeoSeries"
      ]
     },
     "execution_count": 50,
     "metadata": {},
     "output_type": "execute_result"
    }
   ],
   "source": [
    "type(boundary)"
   ]
  },
  {
   "cell_type": "markdown",
   "metadata": {},
   "source": [
    "Ok let's not reinvent the wheel here. The basic steps I have taken towards an Fueling Viability Index (FVI) is to take points of the fueling station, convert it into a multiPolygon (many sided polygon - or in other words, a circle with a specified radius), and then created a union of these. The entire union is called a `GeoSeries` (denoted as `boundary`) and now I want to run one final operation: compute the area overlap between `boundary` and any given county."
   ]
  },
  {
   "cell_type": "code",
   "execution_count": null,
   "metadata": {},
   "outputs": [],
   "source": []
  }
 ],
 "metadata": {
  "kernelspec": {
   "display_name": "Python 3",
   "language": "python",
   "name": "python3"
  },
  "language_info": {
   "codemirror_mode": {
    "name": "ipython",
    "version": 3
   },
   "file_extension": ".py",
   "mimetype": "text/x-python",
   "name": "python",
   "nbconvert_exporter": "python",
   "pygments_lexer": "ipython3",
   "version": "3.6.3"
  }
 },
 "nbformat": 4,
 "nbformat_minor": 4
}
