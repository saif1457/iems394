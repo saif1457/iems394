{
 "cells": [
  {
   "cell_type": "markdown",
   "metadata": {},
   "source": [
    "### IEMS 394\n",
    "\n",
    "#### Complete Data Pipeline\n",
    "\n",
    "The order of operations is as follows:\n",
    "- 394pre.py takes all csv data that needs to be cleaned, and stores it locally in `preprocessed_data`. Specifically for the Viability Indices, it uses a precomputed value unless the user enters a new value. Runtimes for preprocessed values (6 miles, 10 miles) are near instantaneous, whereas runtimes for new values can be up to `4 minutes`.\n",
    "    - Compiling Electric Fueling Stations by county.\n",
    "    - Converting zipcode-level data to county-level data.\n",
    "    - E85 Fueling Stations and Viability Index Computations.\n",
    "\n",
    "- 394opt.py is the optimisation model which takes in all preprocessed data, and produces an optimised result.\n",
    "- 394post.py takes all optimised output and combines it together into post-processing, producing a `state_output.js` file which updates the `iems394.html` visualisation. Running this notebook in its entirety will automatically open this webpage in a new tab."
   ]
  },
  {
   "cell_type": "code",
   "execution_count": 22,
   "metadata": {},
   "outputs": [],
   "source": [
    "import ipywidgets as widgets\n",
    "import webbrowser\n",
    "import os"
   ]
  },
  {
   "cell_type": "code",
   "execution_count": 23,
   "metadata": {},
   "outputs": [
    {
     "data": {
      "application/vnd.jupyter.widget-view+json": {
       "model_id": "1cae4749bb4841d9bb836c432cf91919",
       "version_major": 2,
       "version_minor": 0
      },
      "text/html": [
       "<p>Failed to display Jupyter Widget of type <code>IntSlider</code>.</p>\n",
       "<p>\n",
       "  If you're reading this message in Jupyter Notebook or JupyterLab, it may mean\n",
       "  that the widgets JavaScript is still loading. If this message persists, it\n",
       "  likely means that the widgets JavaScript library is either not installed or\n",
       "  not enabled. See the <a href=\"https://ipywidgets.readthedocs.io/en/stable/user_install.html\">Jupyter\n",
       "  Widgets Documentation</a> for setup instructions.\n",
       "</p>\n",
       "<p>\n",
       "  If you're reading this message in another notebook frontend (for example, a static\n",
       "  rendering on GitHub or <a href=\"https://nbviewer.jupyter.org/\">NBViewer</a>),\n",
       "  it may mean that your frontend doesn't currently support widgets.\n",
       "</p>\n"
      ],
      "text/plain": [
       "IntSlider(value=25, description='GHG Goal:')"
      ]
     },
     "metadata": {},
     "output_type": "display_data"
    }
   ],
   "source": [
    "ghg_reductions = widgets.IntSlider(min=0, max=100, step=1,description='GHG Goal:', value=25)\n",
    "display(ghg_reductions)"
   ]
  },
  {
   "cell_type": "code",
   "execution_count": 24,
   "metadata": {},
   "outputs": [
    {
     "data": {
      "application/vnd.jupyter.widget-view+json": {
       "model_id": "aa2e3746c41345b991deb7166a588663",
       "version_major": 2,
       "version_minor": 0
      },
      "text/html": [
       "<p>Failed to display Jupyter Widget of type <code>IntSlider</code>.</p>\n",
       "<p>\n",
       "  If you're reading this message in Jupyter Notebook or JupyterLab, it may mean\n",
       "  that the widgets JavaScript is still loading. If this message persists, it\n",
       "  likely means that the widgets JavaScript library is either not installed or\n",
       "  not enabled. See the <a href=\"https://ipywidgets.readthedocs.io/en/stable/user_install.html\">Jupyter\n",
       "  Widgets Documentation</a> for setup instructions.\n",
       "</p>\n",
       "<p>\n",
       "  If you're reading this message in another notebook frontend (for example, a static\n",
       "  rendering on GitHub or <a href=\"https://nbviewer.jupyter.org/\">NBViewer</a>),\n",
       "  it may mean that your frontend doesn't currently support widgets.\n",
       "</p>\n"
      ],
      "text/plain": [
       "IntSlider(value=6, description='Radius:', max=20)"
      ]
     },
     "metadata": {},
     "output_type": "display_data"
    }
   ],
   "source": [
    "radius = widgets.IntSlider(min=0, max=20, step=1, description='Radius:',value=6)\n",
    "display(radius)"
   ]
  },
  {
   "cell_type": "code",
   "execution_count": 25,
   "metadata": {},
   "outputs": [
    {
     "name": "stdout",
     "output_type": "stream",
     "text": [
      "GHG Emission Reduction Goal (%): 0.25\n",
      "E85/EV Station Driving Radius (miles): 6\n"
     ]
    }
   ],
   "source": [
    "D = (ghg_reductions.value/100)\n",
    "distance_KM = (radius.value*1.609)\n",
    "print('GHG Emission Reduction Goal (%): {}'.format(D))\n",
    "print('E85/EV Station Driving Radius (miles): {}'.format(radius.value))\n"
   ]
  },
  {
   "cell_type": "code",
   "execution_count": 26,
   "metadata": {},
   "outputs": [
    {
     "name": "stdout",
     "output_type": "stream",
     "text": [
      "10\n",
      "/Users/saifbhatti/Desktop/Northwestern/sy1920/s20/iems394/client-data/iems394\n",
      "e85_vi_6.pkl\n",
      "CPU times: user 2.76 s, sys: 180 ms, total: 2.94 s\n",
      "Wall time: 3.7 s\n"
     ]
    }
   ],
   "source": [
    "%%time\n",
    "%run -i '394quick.py'"
   ]
  },
  {
   "cell_type": "code",
   "execution_count": 27,
   "metadata": {},
   "outputs": [
    {
     "name": "stdout",
     "output_type": "stream",
     "text": [
      "The Min Value = $ 396364813738.7345\n",
      "-0.7513762575801718\n",
      "-0.6495751307335722\n",
      "-0.8641249164855941\n",
      "CPU times: user 21.5 s, sys: 970 ms, total: 22.4 s\n",
      "Wall time: 33.4 s\n"
     ]
    }
   ],
   "source": [
    "%%time\n",
    "%run -i '394opt.py'"
   ]
  },
  {
   "cell_type": "code",
   "execution_count": null,
   "metadata": {},
   "outputs": [],
   "source": [
    "%%time\n",
    "%run -i '394refresh.py'\n",
    "#Change path to reflect file location\n",
    "filename = 'file:///'+os.getcwd()+'/' + 'iems394.html'\n",
    "webbrowser.open_new_tab(filename)"
   ]
  },
  {
   "cell_type": "code",
   "execution_count": 35,
   "metadata": {},
   "outputs": [],
   "source": []
  },
  {
   "cell_type": "code",
   "execution_count": null,
   "metadata": {},
   "outputs": [],
   "source": []
  }
 ],
 "metadata": {
  "kernelspec": {
   "display_name": "Python 3",
   "language": "python",
   "name": "python3"
  },
  "language_info": {
   "codemirror_mode": {
    "name": "ipython",
    "version": 3
   },
   "file_extension": ".py",
   "mimetype": "text/x-python",
   "name": "python",
   "nbconvert_exporter": "python",
   "pygments_lexer": "ipython3",
   "version": "3.6.3"
  }
 },
 "nbformat": 4,
 "nbformat_minor": 4
}
