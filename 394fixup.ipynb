{
 "cells": [
  {
   "cell_type": "markdown",
   "metadata": {},
   "source": [
    "### IEMS 394 PreProcessing\n",
    "\n",
    "This notebook focuses on organising the preprocessing steps required to ready data for the biofuels optimisation model. For a full description, please refer to *IEMS394: Biofuels Final Report.pdf* which can be found in the corresponding [Biofuels github repo](www.github.com/iems394/blob/master)."
   ]
  },
  {
   "cell_type": "code",
   "execution_count": 1,
   "metadata": {},
   "outputs": [
    {
     "name": "stdout",
     "output_type": "stream",
     "text": [
      "CPU times: user 3.02 s, sys: 310 ms, total: 3.33 s\n",
      "Wall time: 3.34 s\n"
     ]
    }
   ],
   "source": [
    "%%time\n",
    "import matplotlib.pyplot as plt\n",
    "from shapely.geometry import shape, Point, Polygon\n",
    "from shapely.ops import cascaded_union\n",
    "import shapely.geometry\n",
    "import pandas as pd\n",
    "import numpy as np\n",
    "import geopandas as gpd\n",
    "from tqdm import tqdm\n",
    "import os, geojson, multiprocessing, datetime, time, geog, json, folium\n",
    "import concurrent.futures\n",
    "import branca.colormap as cm\n",
    "# %matplotlib tk\n",
    "\n",
    "os.chdir('/Users/saifbhatti/Desktop/Northwestern/sy1920/s20/iems394/client-data/cleaned_data')\n",
    "\n",
    "with open('us_counties_2010.json', encoding = \"ISO-8859-1\") as f:\n",
    "    gj = geojson.load(f)\n",
    "selected_states = ['CA','MN','TX'] #for the purposes of this model, only three states were considered.\n",
    "selected_states_fips = ['06','27','48'] #corresponding state FIPS codes\n",
    "selected_states_dict = {'06':'CA','27':'MN','48':'TX'}"
   ]
  },
  {
   "cell_type": "code",
   "execution_count": 2,
   "metadata": {},
   "outputs": [
    {
     "data": {
      "text/plain": [
       "109.3076923076923"
      ]
     },
     "execution_count": 2,
     "metadata": {},
     "output_type": "execute_result"
    }
   ],
   "source": [
    "EV_ranges_df =  pd.read_csv('EV_ranges.csv')\n",
    "EV_ranges_df['Range'].mean()"
   ]
  },
  {
   "cell_type": "markdown",
   "metadata": {},
   "source": [
    "#### Compiling Electric Fueling Stations by county"
   ]
  },
  {
   "cell_type": "code",
   "execution_count": 3,
   "metadata": {},
   "outputs": [],
   "source": [
    "efuel_stations = pd.read_csv('electric_fuel_stations.csv')\n",
    "efuel_stations['Points'] = list(zip(efuel_stations['Longitude'], efuel_stations['Latitude']))"
   ]
  },
  {
   "cell_type": "code",
   "execution_count": 4,
   "metadata": {},
   "outputs": [],
   "source": [
    "def geo_mapper(x):\n",
    "    '''\n",
    "    geo_mapper takes pandas Series object constructed in the format (longitude, latitude).\n",
    "    Taking this as the point, a geo.json file is imported containing all US counties from the 2010 census as polygons.\n",
    "    It computes whether the point is within a polygon, and returns a list of all matches. \n",
    "    If a point is not matched, it returns None.\n",
    "    '''\n",
    "    point = Point(x)\n",
    "    for i in range(len(gj['features'])):\n",
    "        polygon = shape(gj['features'][i]['geometry'])\n",
    "        if polygon.contains(point):\n",
    "            return gj['features'][i]['properties']['NAME']"
   ]
  },
  {
   "cell_type": "code",
   "execution_count": 5,
   "metadata": {},
   "outputs": [],
   "source": [
    "# counties = []\n",
    "# points_list = list(efuel_stations['Points'])\n",
    "# for i in tqdm(points_list):\n",
    "#     counties.append(geo_mapper(i)) #takes 40 minutes to run\n",
    "# efuel_stations['County'] = counties\n",
    "# electric_fuel_df.to_csv('electric_fuel_stations.csv')"
   ]
  },
  {
   "cell_type": "code",
   "execution_count": 6,
   "metadata": {},
   "outputs": [],
   "source": [
    "efuel_stations = efuel_stations[['Station Name','County','City','State','Points']]"
   ]
  },
  {
   "cell_type": "markdown",
   "metadata": {},
   "source": [
    "#### Converting zipcode-level data to county-level data"
   ]
  },
  {
   "cell_type": "code",
   "execution_count": 7,
   "metadata": {},
   "outputs": [
    {
     "name": "stdout",
     "output_type": "stream",
     "text": [
      "1325\n",
      "74143\n"
     ]
    }
   ],
   "source": [
    "tx_ev_vehicle_registered = pd.read_csv('vehicle_reg/tx_ev_registrations_public.csv')\n",
    "print(len(tx_ev_vehicle_registered['ZIP Code'].unique())) #number of unique zipcodes with registered vehicles\n",
    "print(len(tx_ev_vehicle_registered)) #number of registrations\n",
    "# tx_ev_vehicle_registered.head()"
   ]
  },
  {
   "cell_type": "code",
   "execution_count": 8,
   "metadata": {},
   "outputs": [
    {
     "name": "stdout",
     "output_type": "stream",
     "text": [
      "600\n",
      "29248\n"
     ]
    }
   ],
   "source": [
    "mn_ev_vehicle_registered = pd.read_csv('vehicle_reg/mn_ev_registrations_public.csv')\n",
    "mn_ev_vehicle_registered.drop(['VIN Prefix','VIN Model Year'],inplace=True,axis=1)\n",
    "print(len(mn_ev_vehicle_registered['ZIP Code'].unique())) #number of unique zipcodes with registered vehicles\n",
    "print(len(mn_ev_vehicle_registered)) #number of registrations\n",
    "# mn_ev_vehicle_registered.head()"
   ]
  },
  {
   "cell_type": "code",
   "execution_count": 9,
   "metadata": {},
   "outputs": [
    {
     "name": "stdout",
     "output_type": "stream",
     "text": [
      "1906\n",
      "(103391, 5)\n"
     ]
    },
    {
     "data": {
      "text/html": [
       "<div>\n",
       "<style scoped>\n",
       "    .dataframe tbody tr th:only-of-type {\n",
       "        vertical-align: middle;\n",
       "    }\n",
       "\n",
       "    .dataframe tbody tr th {\n",
       "        vertical-align: top;\n",
       "    }\n",
       "\n",
       "    .dataframe thead th {\n",
       "        text-align: right;\n",
       "    }\n",
       "</style>\n",
       "<table border=\"1\" class=\"dataframe\">\n",
       "  <thead>\n",
       "    <tr style=\"text-align: right;\">\n",
       "      <th></th>\n",
       "      <th>DMV ID</th>\n",
       "      <th>ZIP Code</th>\n",
       "      <th>Registration Expiration Date</th>\n",
       "      <th>Registration Valid Date</th>\n",
       "      <th>Vehicle Name</th>\n",
       "    </tr>\n",
       "  </thead>\n",
       "  <tbody>\n",
       "    <tr>\n",
       "      <th>0</th>\n",
       "      <td>6</td>\n",
       "      <td>55347.0</td>\n",
       "      <td>01/12/2020</td>\n",
       "      <td>30/01/2020</td>\n",
       "      <td>NaN</td>\n",
       "    </tr>\n",
       "    <tr>\n",
       "      <th>1</th>\n",
       "      <td>6</td>\n",
       "      <td>55432.0</td>\n",
       "      <td>01/12/2020</td>\n",
       "      <td>30/01/2020</td>\n",
       "      <td>NaN</td>\n",
       "    </tr>\n",
       "    <tr>\n",
       "      <th>2</th>\n",
       "      <td>6</td>\n",
       "      <td>55330.0</td>\n",
       "      <td>01/07/2020</td>\n",
       "      <td>30/01/2020</td>\n",
       "      <td>NaN</td>\n",
       "    </tr>\n",
       "    <tr>\n",
       "      <th>3</th>\n",
       "      <td>6</td>\n",
       "      <td>56377.0</td>\n",
       "      <td>01/04/2020</td>\n",
       "      <td>30/01/2020</td>\n",
       "      <td>NaN</td>\n",
       "    </tr>\n",
       "    <tr>\n",
       "      <th>4</th>\n",
       "      <td>6</td>\n",
       "      <td>55109.0</td>\n",
       "      <td>01/12/2020</td>\n",
       "      <td>30/01/2020</td>\n",
       "      <td>NaN</td>\n",
       "    </tr>\n",
       "  </tbody>\n",
       "</table>\n",
       "</div>"
      ],
      "text/plain": [
       "   DMV ID  ZIP Code Registration Expiration Date Registration Valid Date  \\\n",
       "0       6   55347.0                   01/12/2020              30/01/2020   \n",
       "1       6   55432.0                   01/12/2020              30/01/2020   \n",
       "2       6   55330.0                   01/07/2020              30/01/2020   \n",
       "3       6   56377.0                   01/04/2020              30/01/2020   \n",
       "4       6   55109.0                   01/12/2020              30/01/2020   \n",
       "\n",
       "  Vehicle Name  \n",
       "0          NaN  \n",
       "1          NaN  \n",
       "2          NaN  \n",
       "3          NaN  \n",
       "4          NaN  "
      ]
     },
     "execution_count": 9,
     "metadata": {},
     "output_type": "execute_result"
    }
   ],
   "source": [
    "result = pd.concat([mn_ev_vehicle_registered, tx_ev_vehicle_registered], axis=0)\n",
    "print(len(result['ZIP Code'].unique()))\n",
    "print(result.shape)  #MN + TX registrations\n",
    "result.head()"
   ]
  },
  {
   "cell_type": "code",
   "execution_count": 10,
   "metadata": {},
   "outputs": [
    {
     "name": "stdout",
     "output_type": "stream",
     "text": [
      "(33099, 18)\n",
      "Index(['zip', 'lat', 'lng', 'city', 'state_id', 'state_name', 'zcta',\n",
      "       'parent_zcta', 'population', 'density', 'county_fips', 'county_name',\n",
      "       'county_weights', 'county_names_all', 'county_fips_all', 'imprecise',\n",
      "       'military', 'timezone'],\n",
      "      dtype='object')\n"
     ]
    }
   ],
   "source": [
    "us_zips = pd.read_csv('uszips.csv')\n",
    "print(us_zips.shape)\n",
    "print(us_zips.columns)\n"
   ]
  },
  {
   "cell_type": "code",
   "execution_count": 11,
   "metadata": {},
   "outputs": [],
   "source": [
    "combo_zip_county = pd.merge(result, us_zips, how='inner', left_on='ZIP Code', right_on='zip')"
   ]
  },
  {
   "cell_type": "code",
   "execution_count": 12,
   "metadata": {},
   "outputs": [
    {
     "name": "stdout",
     "output_type": "stream",
     "text": [
      "97888\n",
      "['MN' 'TX']\n"
     ]
    }
   ],
   "source": [
    "print(len(combo_zip_county[(combo_zip_county['state_id'] == 'TX') | (combo_zip_county['state_id'] == 'MN')])) #how many within MN & TX\n",
    "combo_zip_county = combo_zip_county[(combo_zip_county['state_id'] == 'TX') | (combo_zip_county['state_id'] == 'MN')]\n",
    "print(combo_zip_county['state_id'].unique())\n",
    "# new.to_csv('ev_registration_county.csv')\n"
   ]
  },
  {
   "cell_type": "code",
   "execution_count": 13,
   "metadata": {},
   "outputs": [
    {
     "name": "stdout",
     "output_type": "stream",
     "text": [
      "Index(['Date', 'Zip Code', 'Model Year', 'Fuel', 'Make', 'Duty', 'Vehicles'], dtype='object')\n"
     ]
    },
    {
     "name": "stderr",
     "output_type": "stream",
     "text": [
      "/Users/saifbhatti/anaconda3/lib/python3.6/site-packages/IPython/core/interactiveshell.py:3063: DtypeWarning: Columns (1) have mixed types.Specify dtype option on import or set low_memory=False.\n",
      "  interactivity=interactivity, compiler=compiler, result=result)\n"
     ]
    },
    {
     "data": {
      "text/html": [
       "<div>\n",
       "<style scoped>\n",
       "    .dataframe tbody tr th:only-of-type {\n",
       "        vertical-align: middle;\n",
       "    }\n",
       "\n",
       "    .dataframe tbody tr th {\n",
       "        vertical-align: top;\n",
       "    }\n",
       "\n",
       "    .dataframe thead th {\n",
       "        text-align: right;\n",
       "    }\n",
       "</style>\n",
       "<table border=\"1\" class=\"dataframe\">\n",
       "  <thead>\n",
       "    <tr style=\"text-align: right;\">\n",
       "      <th></th>\n",
       "      <th>Date</th>\n",
       "      <th>Zip Code</th>\n",
       "      <th>Model Year</th>\n",
       "      <th>Fuel</th>\n",
       "      <th>Make</th>\n",
       "      <th>Duty</th>\n",
       "      <th>Vehicles</th>\n",
       "    </tr>\n",
       "  </thead>\n",
       "  <tbody>\n",
       "    <tr>\n",
       "      <th>7</th>\n",
       "      <td>10/1/2018</td>\n",
       "      <td>90000</td>\n",
       "      <td>&lt;2006</td>\n",
       "      <td>Battery Electric</td>\n",
       "      <td>OTHER/UNK</td>\n",
       "      <td>Heavy</td>\n",
       "      <td>4</td>\n",
       "    </tr>\n",
       "    <tr>\n",
       "      <th>19</th>\n",
       "      <td>10/1/2018</td>\n",
       "      <td>90001</td>\n",
       "      <td>2006</td>\n",
       "      <td>Battery Electric</td>\n",
       "      <td>OTHER/UNK</td>\n",
       "      <td>Light</td>\n",
       "      <td>1</td>\n",
       "    </tr>\n",
       "    <tr>\n",
       "      <th>81</th>\n",
       "      <td>10/1/2018</td>\n",
       "      <td>90001</td>\n",
       "      <td>2008</td>\n",
       "      <td>Battery Electric</td>\n",
       "      <td>OTHER/UNK</td>\n",
       "      <td>Light</td>\n",
       "      <td>1</td>\n",
       "    </tr>\n",
       "    <tr>\n",
       "      <th>208</th>\n",
       "      <td>10/1/2018</td>\n",
       "      <td>90001</td>\n",
       "      <td>2013</td>\n",
       "      <td>Battery Electric</td>\n",
       "      <td>OTHER/UNK</td>\n",
       "      <td>Light</td>\n",
       "      <td>1</td>\n",
       "    </tr>\n",
       "    <tr>\n",
       "      <th>236</th>\n",
       "      <td>10/1/2018</td>\n",
       "      <td>90001</td>\n",
       "      <td>2014</td>\n",
       "      <td>Battery Electric</td>\n",
       "      <td>OTHER/UNK</td>\n",
       "      <td>Light</td>\n",
       "      <td>1</td>\n",
       "    </tr>\n",
       "    <tr>\n",
       "      <th>...</th>\n",
       "      <td>...</td>\n",
       "      <td>...</td>\n",
       "      <td>...</td>\n",
       "      <td>...</td>\n",
       "      <td>...</td>\n",
       "      <td>...</td>\n",
       "      <td>...</td>\n",
       "    </tr>\n",
       "    <tr>\n",
       "      <th>586078</th>\n",
       "      <td>10/1/2018</td>\n",
       "      <td>Other</td>\n",
       "      <td>2017</td>\n",
       "      <td>Battery Electric</td>\n",
       "      <td>OTHER/UNK</td>\n",
       "      <td>Light</td>\n",
       "      <td>20</td>\n",
       "    </tr>\n",
       "    <tr>\n",
       "      <th>586119</th>\n",
       "      <td>10/1/2018</td>\n",
       "      <td>Other</td>\n",
       "      <td>2018</td>\n",
       "      <td>Battery Electric</td>\n",
       "      <td>OTHER/UNK</td>\n",
       "      <td>Light</td>\n",
       "      <td>16</td>\n",
       "    </tr>\n",
       "    <tr>\n",
       "      <th>586170</th>\n",
       "      <td>10/1/2018</td>\n",
       "      <td>Other</td>\n",
       "      <td>&lt;2006</td>\n",
       "      <td>Battery Electric</td>\n",
       "      <td>GEM</td>\n",
       "      <td>Light</td>\n",
       "      <td>11</td>\n",
       "    </tr>\n",
       "    <tr>\n",
       "      <th>586171</th>\n",
       "      <td>10/1/2018</td>\n",
       "      <td>Other</td>\n",
       "      <td>&lt;2006</td>\n",
       "      <td>Battery Electric</td>\n",
       "      <td>OTHER/UNK</td>\n",
       "      <td>Heavy</td>\n",
       "      <td>1</td>\n",
       "    </tr>\n",
       "    <tr>\n",
       "      <th>586172</th>\n",
       "      <td>10/1/2018</td>\n",
       "      <td>Other</td>\n",
       "      <td>&lt;2006</td>\n",
       "      <td>Battery Electric</td>\n",
       "      <td>OTHER/UNK</td>\n",
       "      <td>Light</td>\n",
       "      <td>10</td>\n",
       "    </tr>\n",
       "  </tbody>\n",
       "</table>\n",
       "<p>17073 rows × 7 columns</p>\n",
       "</div>"
      ],
      "text/plain": [
       "             Date Zip Code Model Year              Fuel       Make   Duty  \\\n",
       "7       10/1/2018    90000      <2006  Battery Electric  OTHER/UNK  Heavy   \n",
       "19      10/1/2018    90001       2006  Battery Electric  OTHER/UNK  Light   \n",
       "81      10/1/2018    90001       2008  Battery Electric  OTHER/UNK  Light   \n",
       "208     10/1/2018    90001       2013  Battery Electric  OTHER/UNK  Light   \n",
       "236     10/1/2018    90001       2014  Battery Electric  OTHER/UNK  Light   \n",
       "...           ...      ...        ...               ...        ...    ...   \n",
       "586078  10/1/2018    Other       2017  Battery Electric  OTHER/UNK  Light   \n",
       "586119  10/1/2018    Other       2018  Battery Electric  OTHER/UNK  Light   \n",
       "586170  10/1/2018    Other      <2006  Battery Electric        GEM  Light   \n",
       "586171  10/1/2018    Other      <2006  Battery Electric  OTHER/UNK  Heavy   \n",
       "586172  10/1/2018    Other      <2006  Battery Electric  OTHER/UNK  Light   \n",
       "\n",
       "        Vehicles  \n",
       "7              4  \n",
       "19             1  \n",
       "81             1  \n",
       "208            1  \n",
       "236            1  \n",
       "...          ...  \n",
       "586078        20  \n",
       "586119        16  \n",
       "586170        11  \n",
       "586171         1  \n",
       "586172        10  \n",
       "\n",
       "[17073 rows x 7 columns]"
      ]
     },
     "execution_count": 13,
     "metadata": {},
     "output_type": "execute_result"
    }
   ],
   "source": [
    "cali = pd.read_csv('california_car_data.csv')\n",
    "print(cali.columns)\n",
    "# cali_vehicle_data = us_zips.merge(cali,right_on='Zip Code',left_on='zip').groupby('county_name').sum()\n",
    "# cali_vehicle_data.reset_index(inplace=True)\n",
    "# cali_vehicle_data = cali_vehicle_data[['county_name','population','Vehicles']]\n",
    "# cali_vehicle_data.to_csv('2018cali_vehicle_data.csv')\n",
    "\n",
    "# cali.Fuel.unique()\n",
    "cali[cali['Fuel']=='Battery Electric']\n"
   ]
  },
  {
   "cell_type": "markdown",
   "metadata": {},
   "source": [
    "#### IRS / Median income data [source]??"
   ]
  },
  {
   "cell_type": "markdown",
   "metadata": {},
   "source": [
    "##### Repeated county names"
   ]
  },
  {
   "cell_type": "code",
   "execution_count": 14,
   "metadata": {},
   "outputs": [],
   "source": [
    "repeated_list = ['Orange','Cass','Lake','Trinity','Houston','Polk','Brown','Clay','Jackson','Washington','Martin']"
   ]
  },
  {
   "cell_type": "code",
   "execution_count": 15,
   "metadata": {},
   "outputs": [],
   "source": [
    "tester = pd.read_csv('https://raw.githubusercontent.com/saif1457/iems394/master/data/testing%20county_renaming_engine.csv')\n",
    "tester.loc[tester['County'].isin(repeated_list), 'County'] = tester['County'] + '_' + tester['State']\n",
    "repeat_fixed = list(tester['County'])"
   ]
  },
  {
   "cell_type": "markdown",
   "metadata": {},
   "source": [
    "#### E85 Fueling Stations and Viability Index Computations"
   ]
  },
  {
   "cell_type": "code",
   "execution_count": 16,
   "metadata": {},
   "outputs": [
    {
     "data": {
      "text/html": [
       "<div>\n",
       "<style scoped>\n",
       "    .dataframe tbody tr th:only-of-type {\n",
       "        vertical-align: middle;\n",
       "    }\n",
       "\n",
       "    .dataframe tbody tr th {\n",
       "        vertical-align: top;\n",
       "    }\n",
       "\n",
       "    .dataframe thead th {\n",
       "        text-align: right;\n",
       "    }\n",
       "</style>\n",
       "<table border=\"1\" class=\"dataframe\">\n",
       "  <thead>\n",
       "    <tr style=\"text-align: right;\">\n",
       "      <th></th>\n",
       "      <th>Station Name</th>\n",
       "      <th>City</th>\n",
       "      <th>State</th>\n",
       "      <th>ZIP</th>\n",
       "      <th>Points</th>\n",
       "    </tr>\n",
       "    <tr>\n",
       "      <th>County</th>\n",
       "      <th></th>\n",
       "      <th></th>\n",
       "      <th></th>\n",
       "      <th></th>\n",
       "      <th></th>\n",
       "    </tr>\n",
       "  </thead>\n",
       "  <tbody>\n",
       "    <tr>\n",
       "      <th>Montgomery</th>\n",
       "      <td>56</td>\n",
       "      <td>56</td>\n",
       "      <td>56</td>\n",
       "      <td>56</td>\n",
       "      <td>56</td>\n",
       "    </tr>\n",
       "    <tr>\n",
       "      <th>Hennepin</th>\n",
       "      <td>54</td>\n",
       "      <td>54</td>\n",
       "      <td>54</td>\n",
       "      <td>54</td>\n",
       "      <td>54</td>\n",
       "    </tr>\n",
       "    <tr>\n",
       "      <th>Polk</th>\n",
       "      <td>47</td>\n",
       "      <td>47</td>\n",
       "      <td>47</td>\n",
       "      <td>47</td>\n",
       "      <td>47</td>\n",
       "    </tr>\n",
       "    <tr>\n",
       "      <th>Harris</th>\n",
       "      <td>47</td>\n",
       "      <td>47</td>\n",
       "      <td>47</td>\n",
       "      <td>47</td>\n",
       "      <td>47</td>\n",
       "    </tr>\n",
       "    <tr>\n",
       "      <th>Cook</th>\n",
       "      <td>45</td>\n",
       "      <td>45</td>\n",
       "      <td>45</td>\n",
       "      <td>45</td>\n",
       "      <td>45</td>\n",
       "    </tr>\n",
       "  </tbody>\n",
       "</table>\n",
       "</div>"
      ],
      "text/plain": [
       "            Station Name  City  State  ZIP  Points\n",
       "County                                            \n",
       "Montgomery            56    56     56   56      56\n",
       "Hennepin              54    54     54   54      54\n",
       "Polk                  47    47     47   47      47\n",
       "Harris                47    47     47   47      47\n",
       "Cook                  45    45     45   45      45"
      ]
     },
     "execution_count": 16,
     "metadata": {},
     "output_type": "execute_result"
    }
   ],
   "source": [
    "e85 = pd.read_csv('e85_fuel_stations.csv')\n",
    "e85['Points'] = list(zip(e85['Longitude'], e85['Latitude']))\n",
    "e85 = e85[['Station Name','City','County', 'State','ZIP','Points']]\n",
    "e85.groupby('County').count().sort_values(by='City', ascending=False).head(5)"
   ]
  },
  {
   "cell_type": "code",
   "execution_count": 17,
   "metadata": {},
   "outputs": [],
   "source": [
    "# counties = []\n",
    "# points_list = list(e85['Points'])\n",
    "# for i in tqdm(points_list): \n",
    "#     counties.append(geo_mapper(i))\n",
    "# e85['County'] = counties\n",
    "# e85.to_csv('e85_fuel_stations.csv')"
   ]
  },
  {
   "cell_type": "code",
   "execution_count": 18,
   "metadata": {},
   "outputs": [],
   "source": [
    "e85_points = e85['Points']"
   ]
  },
  {
   "cell_type": "code",
   "execution_count": 19,
   "metadata": {},
   "outputs": [
    {
     "name": "stderr",
     "output_type": "stream",
     "text": [
      "100%|██████████| 3561/3561 [00:00<00:00, 5873.57it/s]\n"
     ]
    }
   ],
   "source": [
    "geo_df = pd.DataFrame()\n",
    "geo_df['points'] = e85_points\n",
    "geometry_string = []\n",
    "\n",
    "for i,j in tqdm(list(enumerate(e85_points))):\n",
    "    p = Point(j)\n",
    "    n_points = 20\n",
    "    d = 10 * 1000 # meters --- 10km\n",
    "    angles = np.linspace(0, 360, n_points)\n",
    "    polygon = geog.propagate(p, angles, d)\n",
    "#     print(json.dumps(shapely.geometry.mapping(shapely.geometry.Polygon(polygon))) + '\\n')\n",
    "#     geometry_list.append(json.dumps(shapely.geometry.mapping(shapely.geometry.Polygon(polygon))))\n",
    "    geometry_string.append(shapely.geometry.Polygon(polygon))\n",
    "\n",
    "geo_df['coordinates'] = geometry_string\n",
    "geo_df['name'] = e85['County']\n",
    "desc = []\n",
    "for i in range(geo_df.shape[0]): desc.append('e85 station')\n",
    "geo_df['description'] = desc"
   ]
  },
  {
   "cell_type": "code",
   "execution_count": 20,
   "metadata": {},
   "outputs": [
    {
     "data": {
      "image/png": "[encoded data removed]",
      "text/plain": [
       "<Figure size 432x288 with 1 Axes>"
      ]
     },
     "metadata": {
      "needs_background": "light"
     },
     "output_type": "display_data"
    }
   ],
   "source": [
    "boundary = gpd.GeoSeries(cascaded_union(geometry_string))\n",
    "boundary.plot()\n",
    "boundary = boundary.to_frame()\n",
    "plt.show()"
   ]
  },
  {
   "cell_type": "code",
   "execution_count": 21,
   "metadata": {},
   "outputs": [
    {
     "data": {
      "text/html": [
       "<div>\n",
       "<style scoped>\n",
       "    .dataframe tbody tr th:only-of-type {\n",
       "        vertical-align: middle;\n",
       "    }\n",
       "\n",
       "    .dataframe tbody tr th {\n",
       "        vertical-align: top;\n",
       "    }\n",
       "\n",
       "    .dataframe thead th {\n",
       "        text-align: right;\n",
       "    }\n",
       "</style>\n",
       "<table border=\"1\" class=\"dataframe\">\n",
       "  <thead>\n",
       "    <tr style=\"text-align: right;\">\n",
       "      <th></th>\n",
       "      <th>geometry</th>\n",
       "      <th>name</th>\n",
       "    </tr>\n",
       "  </thead>\n",
       "  <tbody>\n",
       "    <tr>\n",
       "      <th>0</th>\n",
       "      <td>(POLYGON ((-98.08867913743886 26.1813911433433...</td>\n",
       "      <td>e85_stations</td>\n",
       "    </tr>\n",
       "  </tbody>\n",
       "</table>\n",
       "</div>"
      ],
      "text/plain": [
       "                                            geometry          name\n",
       "0  (POLYGON ((-98.08867913743886 26.1813911433433...  e85_stations"
      ]
     },
     "execution_count": 21,
     "metadata": {},
     "output_type": "execute_result"
    }
   ],
   "source": [
    "type(boundary)\n",
    "boundary\n",
    "from geopandas import GeoDataFrame\n",
    "gdf = GeoDataFrame(geometry=boundary[0])\n",
    "gdf['name'] = 'e85_stations'\n",
    "gdf"
   ]
  },
  {
   "cell_type": "markdown",
   "metadata": {},
   "source": [
    "Ok let's not reinvent the wheel here. The basic steps I have taken towards an Fueling Viability Index (FVI) is to take points of the fueling station, convert it into a multiPolygon (many sided polygon - or in other words, a circle with a specified radius), and then created a union of these. The entire union is called a `GeoSeries` (denoted as `boundary`) and now I want to run one final operation: compute the area overlap between `boundary` and any given county."
   ]
  },
  {
   "cell_type": "code",
   "execution_count": 22,
   "metadata": {},
   "outputs": [
    {
     "name": "stdout",
     "output_type": "stream",
     "text": [
      "Index(['GEO_ID', 'STATE', 'COUNTY', 'NAME', 'LSAD', 'CENSUSAREA', 'geometry'], dtype='object')\n"
     ]
    },
    {
     "data": {
      "text/html": [
       "<div>\n",
       "<style scoped>\n",
       "    .dataframe tbody tr th:only-of-type {\n",
       "        vertical-align: middle;\n",
       "    }\n",
       "\n",
       "    .dataframe tbody tr th {\n",
       "        vertical-align: top;\n",
       "    }\n",
       "\n",
       "    .dataframe thead th {\n",
       "        text-align: right;\n",
       "    }\n",
       "</style>\n",
       "<table border=\"1\" class=\"dataframe\">\n",
       "  <thead>\n",
       "    <tr style=\"text-align: right;\">\n",
       "      <th></th>\n",
       "      <th>GEO_ID</th>\n",
       "      <th>STATE</th>\n",
       "      <th>COUNTY</th>\n",
       "      <th>NAME</th>\n",
       "      <th>LSAD</th>\n",
       "      <th>CENSUSAREA</th>\n",
       "      <th>geometry</th>\n",
       "    </tr>\n",
       "  </thead>\n",
       "  <tbody>\n",
       "    <tr>\n",
       "      <th>0</th>\n",
       "      <td>0500000US06035</td>\n",
       "      <td>CA</td>\n",
       "      <td>035</td>\n",
       "      <td>Lassen</td>\n",
       "      <td>County</td>\n",
       "      <td>4541.184</td>\n",
       "      <td>POLYGON ((-119.9986710353 40.77952146652979, -...</td>\n",
       "    </tr>\n",
       "    <tr>\n",
       "      <th>1</th>\n",
       "      <td>0500000US06049</td>\n",
       "      <td>CA</td>\n",
       "      <td>049</td>\n",
       "      <td>Modoc</td>\n",
       "      <td>County</td>\n",
       "      <td>3917.770</td>\n",
       "      <td>POLYGON ((-120.488221960818 41.9937363458679, ...</td>\n",
       "    </tr>\n",
       "    <tr>\n",
       "      <th>2</th>\n",
       "      <td>0500000US06075</td>\n",
       "      <td>CA</td>\n",
       "      <td>075</td>\n",
       "      <td>San Francisco</td>\n",
       "      <td>County</td>\n",
       "      <td>46.873</td>\n",
       "      <td>(POLYGON ((-123.013915661213 37.7003546200356,...</td>\n",
       "    </tr>\n",
       "    <tr>\n",
       "      <th>3</th>\n",
       "      <td>0500000US06083</td>\n",
       "      <td>CA</td>\n",
       "      <td>083</td>\n",
       "      <td>Santa Barbara</td>\n",
       "      <td>County</td>\n",
       "      <td>2735.085</td>\n",
       "      <td>(POLYGON ((-119.789798 34.05726, -119.770729 3...</td>\n",
       "    </tr>\n",
       "    <tr>\n",
       "      <th>4</th>\n",
       "      <td>0500000US06091</td>\n",
       "      <td>CA</td>\n",
       "      <td>091</td>\n",
       "      <td>Sierra</td>\n",
       "      <td>County</td>\n",
       "      <td>953.214</td>\n",
       "      <td>POLYGON ((-120.003117296548 39.4450437274505, ...</td>\n",
       "    </tr>\n",
       "  </tbody>\n",
       "</table>\n",
       "</div>"
      ],
      "text/plain": [
       "           GEO_ID STATE COUNTY           NAME    LSAD  CENSUSAREA  \\\n",
       "0  0500000US06035    CA    035         Lassen  County    4541.184   \n",
       "1  0500000US06049    CA    049          Modoc  County    3917.770   \n",
       "2  0500000US06075    CA    075  San Francisco  County      46.873   \n",
       "3  0500000US06083    CA    083  Santa Barbara  County    2735.085   \n",
       "4  0500000US06091    CA    091         Sierra  County     953.214   \n",
       "\n",
       "                                            geometry  \n",
       "0  POLYGON ((-119.9986710353 40.77952146652979, -...  \n",
       "1  POLYGON ((-120.488221960818 41.9937363458679, ...  \n",
       "2  (POLYGON ((-123.013915661213 37.7003546200356,...  \n",
       "3  (POLYGON ((-119.789798 34.05726, -119.770729 3...  \n",
       "4  POLYGON ((-120.003117296548 39.4450437274505, ...  "
      ]
     },
     "execution_count": 22,
     "metadata": {},
     "output_type": "execute_result"
    }
   ],
   "source": [
    "uscs = gpd.read_file('/Users/saifbhatti/Downloads/gz_2010_us_050_00_500k/gz_2010_us_050_00_500k.shp')\n",
    "print(uscs.columns)\n",
    "# us_county_shapefile['STATEFP'].unique()\n",
    "# uscs[(uscs['STATE']=='06') | (uscs['STATE']=='27') | (uscs['STATE']=='48')]\n",
    "uscs = uscs[uscs['STATE'].isin(selected_states_fips)]\n",
    "#tester.loc[tester['County'].isin(repeated_list), 'County'] = tester['County'] + '_' + tester['State']\n",
    "uscs.reset_index(drop=True,inplace=True)\n",
    "uscs = uscs.replace({'STATE':selected_states_dict})\n",
    "uscs.loc[uscs['NAME'].isin(repeated_list), 'NAME'] = uscs['NAME'] + '_' + uscs['STATE']\n",
    "uscs.head(5)"
   ]
  },
  {
   "cell_type": "code",
   "execution_count": 23,
   "metadata": {},
   "outputs": [],
   "source": [
    "e85_vi = pd.DataFrame(columns = ['county','e85 station','e85_area'])"
   ]
  },
  {
   "cell_type": "code",
   "execution_count": 24,
   "metadata": {},
   "outputs": [],
   "source": [
    "geom_p1 = list(uscs['geometry'])\n",
    "geom_p8 = list(gdf['geometry'])"
   ]
  },
  {
   "cell_type": "code",
   "execution_count": 25,
   "metadata": {},
   "outputs": [
    {
     "name": "stderr",
     "output_type": "stream",
     "text": [
      "399it [00:52,  7.62it/s]\n"
     ]
    }
   ],
   "source": [
    "for i,g1 in tqdm(enumerate(geom_p1)):\n",
    "    for j, g8 in enumerate(geom_p8):\n",
    "        if g1.intersects(g8):\n",
    "            df1 = pd.DataFrame([[i,j,(g1.intersection(g8).area/g1.area)*100]],columns = ['county','e85 station','e85_area'])\n",
    "            e85_vi = e85_vi.append(df1)"
   ]
  },
  {
   "cell_type": "code",
   "execution_count": 26,
   "metadata": {},
   "outputs": [],
   "source": [
    "inplaced = e85_vi.set_index('county')"
   ]
  },
  {
   "cell_type": "code",
   "execution_count": 27,
   "metadata": {},
   "outputs": [
    {
     "data": {
      "text/html": [
       "<div>\n",
       "<style scoped>\n",
       "    .dataframe tbody tr th:only-of-type {\n",
       "        vertical-align: middle;\n",
       "    }\n",
       "\n",
       "    .dataframe tbody tr th {\n",
       "        vertical-align: top;\n",
       "    }\n",
       "\n",
       "    .dataframe thead th {\n",
       "        text-align: right;\n",
       "    }\n",
       "</style>\n",
       "<table border=\"1\" class=\"dataframe\">\n",
       "  <thead>\n",
       "    <tr style=\"text-align: right;\">\n",
       "      <th></th>\n",
       "      <th>CENSUSAREA</th>\n",
       "      <th>e85 station</th>\n",
       "      <th>e85_area</th>\n",
       "    </tr>\n",
       "    <tr>\n",
       "      <th>NAME</th>\n",
       "      <th></th>\n",
       "      <th></th>\n",
       "      <th></th>\n",
       "    </tr>\n",
       "  </thead>\n",
       "  <tbody>\n",
       "    <tr>\n",
       "      <th>Ramsey</th>\n",
       "      <td>152.212</td>\n",
       "      <td>0</td>\n",
       "      <td>100.000000</td>\n",
       "    </tr>\n",
       "    <tr>\n",
       "      <th>Hennepin</th>\n",
       "      <td>553.591</td>\n",
       "      <td>0</td>\n",
       "      <td>97.992623</td>\n",
       "    </tr>\n",
       "    <tr>\n",
       "      <th>San Francisco</th>\n",
       "      <td>46.873</td>\n",
       "      <td>0</td>\n",
       "      <td>97.863084</td>\n",
       "    </tr>\n",
       "    <tr>\n",
       "      <th>Carver</th>\n",
       "      <td>354.325</td>\n",
       "      <td>0</td>\n",
       "      <td>94.161980</td>\n",
       "    </tr>\n",
       "    <tr>\n",
       "      <th>Dakota</th>\n",
       "      <td>562.168</td>\n",
       "      <td>0</td>\n",
       "      <td>88.115877</td>\n",
       "    </tr>\n",
       "    <tr>\n",
       "      <th>Harris</th>\n",
       "      <td>1703.478</td>\n",
       "      <td>0</td>\n",
       "      <td>87.520125</td>\n",
       "    </tr>\n",
       "    <tr>\n",
       "      <th>Anoka</th>\n",
       "      <td>423.010</td>\n",
       "      <td>0</td>\n",
       "      <td>87.060826</td>\n",
       "    </tr>\n",
       "    <tr>\n",
       "      <th>Chisago</th>\n",
       "      <td>414.862</td>\n",
       "      <td>0</td>\n",
       "      <td>86.179595</td>\n",
       "    </tr>\n",
       "    <tr>\n",
       "      <th>Olmsted</th>\n",
       "      <td>653.349</td>\n",
       "      <td>0</td>\n",
       "      <td>83.730790</td>\n",
       "    </tr>\n",
       "    <tr>\n",
       "      <th>Scott</th>\n",
       "      <td>356.476</td>\n",
       "      <td>0</td>\n",
       "      <td>83.470216</td>\n",
       "    </tr>\n",
       "  </tbody>\n",
       "</table>\n",
       "</div>"
      ],
      "text/plain": [
       "               CENSUSAREA  e85 station    e85_area\n",
       "NAME                                              \n",
       "Ramsey            152.212            0  100.000000\n",
       "Hennepin          553.591            0   97.992623\n",
       "San Francisco      46.873            0   97.863084\n",
       "Carver            354.325            0   94.161980\n",
       "Dakota            562.168            0   88.115877\n",
       "Harris           1703.478            0   87.520125\n",
       "Anoka             423.010            0   87.060826\n",
       "Chisago           414.862            0   86.179595\n",
       "Olmsted           653.349            0   83.730790\n",
       "Scott             356.476            0   83.470216"
      ]
     },
     "execution_count": 27,
     "metadata": {},
     "output_type": "execute_result"
    }
   ],
   "source": [
    "e85_vi = pd.merge(uscs,inplaced,how='outer',left_index=True,right_index=True).fillna(0)\n",
    "e85_vi.groupby('NAME').sum().sort_values(by='e85_area',ascending=False).head(10)"
   ]
  },
  {
   "cell_type": "code",
   "execution_count": 28,
   "metadata": {},
   "outputs": [
    {
     "data": {
      "text/html": [
       "<div>\n",
       "<style scoped>\n",
       "    .dataframe tbody tr th:only-of-type {\n",
       "        vertical-align: middle;\n",
       "    }\n",
       "\n",
       "    .dataframe tbody tr th {\n",
       "        vertical-align: top;\n",
       "    }\n",
       "\n",
       "    .dataframe thead th {\n",
       "        text-align: right;\n",
       "    }\n",
       "</style>\n",
       "<table border=\"1\" class=\"dataframe\">\n",
       "  <thead>\n",
       "    <tr style=\"text-align: right;\">\n",
       "      <th></th>\n",
       "      <th>Station Name</th>\n",
       "      <th>County</th>\n",
       "      <th>City</th>\n",
       "      <th>State</th>\n",
       "      <th>Points</th>\n",
       "    </tr>\n",
       "  </thead>\n",
       "  <tbody>\n",
       "    <tr>\n",
       "      <th>0</th>\n",
       "      <td>City of Sacramento - Capitol Parking Garage</td>\n",
       "      <td>Sacramento</td>\n",
       "      <td>Sacramento</td>\n",
       "      <td>CA</td>\n",
       "      <td>(-121.4926, 38.578380200000005)</td>\n",
       "    </tr>\n",
       "    <tr>\n",
       "      <th>1</th>\n",
       "      <td>LADWP - Truesdale Center</td>\n",
       "      <td>Los Angeles</td>\n",
       "      <td>Sun Valley</td>\n",
       "      <td>CA</td>\n",
       "      <td>(-118.38797140000001, 34.24831915)</td>\n",
       "    </tr>\n",
       "    <tr>\n",
       "      <th>2</th>\n",
       "      <td>Southern California Edison - Rosemead Office B...</td>\n",
       "      <td>Los Angeles</td>\n",
       "      <td>Rosemead</td>\n",
       "      <td>CA</td>\n",
       "      <td>(-118.081014, 34.050745)</td>\n",
       "    </tr>\n",
       "    <tr>\n",
       "      <th>3</th>\n",
       "      <td>Los Angeles Convention Center</td>\n",
       "      <td>Los Angeles</td>\n",
       "      <td>Los Angeles</td>\n",
       "      <td>CA</td>\n",
       "      <td>(-118.26876200000001, 34.04057)</td>\n",
       "    </tr>\n",
       "    <tr>\n",
       "      <th>4</th>\n",
       "      <td>LADWP - John Ferraro Building</td>\n",
       "      <td>Los Angeles</td>\n",
       "      <td>Los Angeles</td>\n",
       "      <td>CA</td>\n",
       "      <td>(-118.24819, 34.058476)</td>\n",
       "    </tr>\n",
       "  </tbody>\n",
       "</table>\n",
       "</div>"
      ],
      "text/plain": [
       "                                        Station Name       County  \\\n",
       "0        City of Sacramento - Capitol Parking Garage   Sacramento   \n",
       "1                           LADWP - Truesdale Center  Los Angeles   \n",
       "2  Southern California Edison - Rosemead Office B...  Los Angeles   \n",
       "3                      Los Angeles Convention Center  Los Angeles   \n",
       "4                      LADWP - John Ferraro Building  Los Angeles   \n",
       "\n",
       "          City State                              Points  \n",
       "0   Sacramento    CA     (-121.4926, 38.578380200000005)  \n",
       "1   Sun Valley    CA  (-118.38797140000001, 34.24831915)  \n",
       "2     Rosemead    CA            (-118.081014, 34.050745)  \n",
       "3  Los Angeles    CA     (-118.26876200000001, 34.04057)  \n",
       "4  Los Angeles    CA             (-118.24819, 34.058476)  "
      ]
     },
     "execution_count": 28,
     "metadata": {},
     "output_type": "execute_result"
    }
   ],
   "source": [
    "efuel_stations.head(5)"
   ]
  },
  {
   "cell_type": "code",
   "execution_count": 29,
   "metadata": {},
   "outputs": [
    {
     "name": "stderr",
     "output_type": "stream",
     "text": [
      "100%|██████████| 27822/27822 [00:05<00:00, 5473.36it/s]\n"
     ]
    }
   ],
   "source": [
    "efuel_points = efuel_stations['Points']\n",
    "geo_df = pd.DataFrame()\n",
    "geo_df['points'] = efuel_points\n",
    "geometry_string = []\n",
    "\n",
    "for i,j in tqdm(list(enumerate(efuel_points))):\n",
    "    p = Point(j)\n",
    "    n_points = 20\n",
    "    d = 10 * 1000 # meters --- 10km\n",
    "    angles = np.linspace(0, 360, n_points)\n",
    "    polygon = geog.propagate(p, angles, d)\n",
    "    geometry_string.append(shapely.geometry.Polygon(polygon))\n",
    "\n",
    "geo_df['coordinates'] = geometry_string\n",
    "geo_df['name'] = efuel_stations['County']\n",
    "desc = []\n",
    "for i in range(geo_df.shape[0]): desc.append('efuel station')\n",
    "geo_df['description'] = desc"
   ]
  },
  {
   "cell_type": "code",
   "execution_count": 30,
   "metadata": {},
   "outputs": [
    {
     "data": {
      "image/png": "[encoded data removed]",
      "text/plain": [
       "<Figure size 432x288 with 1 Axes>"
      ]
     },
     "metadata": {
      "needs_background": "light"
     },
     "output_type": "display_data"
    }
   ],
   "source": [
    "boundary = gpd.GeoSeries(cascaded_union(geometry_string))\n",
    "boundary.plot()\n",
    "boundary = boundary.to_frame()\n",
    "plt.show()"
   ]
  },
  {
   "cell_type": "code",
   "execution_count": 31,
   "metadata": {},
   "outputs": [
    {
     "data": {
      "text/html": [
       "<div>\n",
       "<style scoped>\n",
       "    .dataframe tbody tr th:only-of-type {\n",
       "        vertical-align: middle;\n",
       "    }\n",
       "\n",
       "    .dataframe tbody tr th {\n",
       "        vertical-align: top;\n",
       "    }\n",
       "\n",
       "    .dataframe thead th {\n",
       "        text-align: right;\n",
       "    }\n",
       "</style>\n",
       "<table border=\"1\" class=\"dataframe\">\n",
       "  <thead>\n",
       "    <tr style=\"text-align: right;\">\n",
       "      <th></th>\n",
       "      <th>geometry</th>\n",
       "      <th>name</th>\n",
       "    </tr>\n",
       "  </thead>\n",
       "  <tbody>\n",
       "    <tr>\n",
       "      <th>0</th>\n",
       "      <td>(POLYGON ((-66.01348310250545 18.3698500626044...</td>\n",
       "      <td>efuel_stations</td>\n",
       "    </tr>\n",
       "  </tbody>\n",
       "</table>\n",
       "</div>"
      ],
      "text/plain": [
       "                                            geometry            name\n",
       "0  (POLYGON ((-66.01348310250545 18.3698500626044...  efuel_stations"
      ]
     },
     "execution_count": 31,
     "metadata": {},
     "output_type": "execute_result"
    }
   ],
   "source": [
    "type(boundary)\n",
    "boundary\n",
    "from geopandas import GeoDataFrame\n",
    "gdf = GeoDataFrame(geometry=boundary[0])\n",
    "gdf['name'] = 'efuel_stations'\n",
    "gdf"
   ]
  },
  {
   "cell_type": "code",
   "execution_count": 32,
   "metadata": {},
   "outputs": [],
   "source": [
    "geom_p1 = list(uscs['geometry'])\n",
    "geom_p8 = list(gdf['geometry'])"
   ]
  },
  {
   "cell_type": "code",
   "execution_count": 33,
   "metadata": {},
   "outputs": [],
   "source": [
    "efuels_vi = pd.DataFrame(columns = ['county','electric fuel station','efuels_area'])"
   ]
  },
  {
   "cell_type": "code",
   "execution_count": 34,
   "metadata": {},
   "outputs": [
    {
     "name": "stderr",
     "output_type": "stream",
     "text": [
      "399it [02:12,  3.00it/s]\n"
     ]
    }
   ],
   "source": [
    "for i,g1 in tqdm(enumerate(geom_p1)):\n",
    "    for j, g8 in enumerate(geom_p8):\n",
    "        if g1.intersects(g8):\n",
    "            df1 = pd.DataFrame([[i,j,(g1.intersection(g8).area/g1.area)*100]],columns = ['county','electric fuel station','efuels_area'])\n",
    "            efuels_vi = efuels_vi.append(df1)"
   ]
  },
  {
   "cell_type": "code",
   "execution_count": 35,
   "metadata": {},
   "outputs": [],
   "source": [
    "inplaced = efuels_vi.set_index('county')"
   ]
  },
  {
   "cell_type": "code",
   "execution_count": 36,
   "metadata": {},
   "outputs": [
    {
     "data": {
      "text/html": [
       "<div>\n",
       "<style scoped>\n",
       "    .dataframe tbody tr th:only-of-type {\n",
       "        vertical-align: middle;\n",
       "    }\n",
       "\n",
       "    .dataframe tbody tr th {\n",
       "        vertical-align: top;\n",
       "    }\n",
       "\n",
       "    .dataframe thead th {\n",
       "        text-align: right;\n",
       "    }\n",
       "</style>\n",
       "<table border=\"1\" class=\"dataframe\">\n",
       "  <thead>\n",
       "    <tr style=\"text-align: right;\">\n",
       "      <th></th>\n",
       "      <th>CENSUSAREA</th>\n",
       "      <th>electric fuel station</th>\n",
       "      <th>efuels_area</th>\n",
       "    </tr>\n",
       "    <tr>\n",
       "      <th>NAME</th>\n",
       "      <th></th>\n",
       "      <th></th>\n",
       "      <th></th>\n",
       "    </tr>\n",
       "  </thead>\n",
       "  <tbody>\n",
       "    <tr>\n",
       "      <th>Ramsey</th>\n",
       "      <td>152.212</td>\n",
       "      <td>0</td>\n",
       "      <td>100.000000</td>\n",
       "    </tr>\n",
       "    <tr>\n",
       "      <th>Dallas</th>\n",
       "      <td>871.279</td>\n",
       "      <td>0</td>\n",
       "      <td>98.564965</td>\n",
       "    </tr>\n",
       "    <tr>\n",
       "      <th>San Francisco</th>\n",
       "      <td>46.873</td>\n",
       "      <td>0</td>\n",
       "      <td>98.307727</td>\n",
       "    </tr>\n",
       "    <tr>\n",
       "      <th>Orange_CA</th>\n",
       "      <td>790.568</td>\n",
       "      <td>0</td>\n",
       "      <td>96.638386</td>\n",
       "    </tr>\n",
       "    <tr>\n",
       "      <th>Contra Costa</th>\n",
       "      <td>715.937</td>\n",
       "      <td>0</td>\n",
       "      <td>95.394906</td>\n",
       "    </tr>\n",
       "    <tr>\n",
       "      <th>Hennepin</th>\n",
       "      <td>553.591</td>\n",
       "      <td>0</td>\n",
       "      <td>92.361867</td>\n",
       "    </tr>\n",
       "    <tr>\n",
       "      <th>Harris</th>\n",
       "      <td>1703.478</td>\n",
       "      <td>0</td>\n",
       "      <td>90.571560</td>\n",
       "    </tr>\n",
       "    <tr>\n",
       "      <th>Tarrant</th>\n",
       "      <td>863.608</td>\n",
       "      <td>0</td>\n",
       "      <td>88.031170</td>\n",
       "    </tr>\n",
       "    <tr>\n",
       "      <th>Rockwall</th>\n",
       "      <td>127.036</td>\n",
       "      <td>0</td>\n",
       "      <td>86.352167</td>\n",
       "    </tr>\n",
       "    <tr>\n",
       "      <th>Alameda</th>\n",
       "      <td>739.017</td>\n",
       "      <td>0</td>\n",
       "      <td>84.637507</td>\n",
       "    </tr>\n",
       "  </tbody>\n",
       "</table>\n",
       "</div>"
      ],
      "text/plain": [
       "               CENSUSAREA  electric fuel station  efuels_area\n",
       "NAME                                                         \n",
       "Ramsey            152.212                      0   100.000000\n",
       "Dallas            871.279                      0    98.564965\n",
       "San Francisco      46.873                      0    98.307727\n",
       "Orange_CA         790.568                      0    96.638386\n",
       "Contra Costa      715.937                      0    95.394906\n",
       "Hennepin          553.591                      0    92.361867\n",
       "Harris           1703.478                      0    90.571560\n",
       "Tarrant           863.608                      0    88.031170\n",
       "Rockwall          127.036                      0    86.352167\n",
       "Alameda           739.017                      0    84.637507"
      ]
     },
     "execution_count": 36,
     "metadata": {},
     "output_type": "execute_result"
    }
   ],
   "source": [
    "efuels_vi = pd.merge(uscs,inplaced,how='outer',left_index=True,right_index=True).fillna(0)\n",
    "efuels_vi.groupby('NAME').sum().sort_values(by='efuels_area',ascending=False).head(10)"
   ]
  },
  {
   "cell_type": "code",
   "execution_count": 37,
   "metadata": {},
   "outputs": [],
   "source": [
    "# efuels_vi[efuels_vi['NAME'].isin(repeat_fixed)]\n",
    "efuels_vi[efuels_vi['NAME'] == 'Orange_CA']\n",
    "efuels_vi.to_csv('efuels_vi.csv')"
   ]
  },
  {
   "cell_type": "code",
   "execution_count": 38,
   "metadata": {},
   "outputs": [],
   "source": [
    "e85_vi[e85_vi['NAME'] == 'Orange_CA']\n",
    "e85_vi.to_csv('e85_vi.csv')"
   ]
  },
  {
   "cell_type": "code",
   "execution_count": 39,
   "metadata": {},
   "outputs": [],
   "source": [
    "visual_df = pd.read_csv('https://raw.githubusercontent.com/saif1457/iems394/master/data/visual_df.csv')\n",
    "visual_df.drop(visual_df.columns[0], axis=1,inplace=True)\n",
    "visual_df['county'] = visual_df['County'].str.split('_').apply(lambda x: x[0])"
   ]
  },
  {
   "cell_type": "code",
   "execution_count": 40,
   "metadata": {},
   "outputs": [],
   "source": [
    "with open('us_counties_2010.json', encoding = \"ISO-8859-1\") as f:\n",
    "    gj = geojson.load(f)"
   ]
  },
  {
   "cell_type": "code",
   "execution_count": 41,
   "metadata": {},
   "outputs": [
    {
     "name": "stderr",
     "output_type": "stream",
     "text": [
      "100%|██████████| 3221/3221 [00:00<00:00, 4798.37it/s]\n"
     ]
    }
   ],
   "source": [
    "cookie = gpd.GeoDataFrame(gj['features'])\n",
    "for i in tqdm(range(cookie.shape[0])):\n",
    "    cookie['properties'][i]['NAME'] = cookie['properties'][i]['NAME'].replace('_',' ')\n",
    "    cookie['properties'][i]['STATE'] = cookie['properties'][i]['STATE'].replace('06','CA')\n",
    "    cookie['properties'][i]['STATE'] = cookie['properties'][i]['STATE'].replace('27','MN')\n",
    "    cookie['properties'][i]['STATE'] = cookie['properties'][i]['STATE'].replace('48','TX')\n",
    "    if cookie['properties'][i]['STATE'] in selected_states:\n",
    "        cookie['properties'][i]['NAME'] = cookie['properties'][i]['NAME'] + '_' + cookie['properties'][i]['STATE']"
   ]
  },
  {
   "cell_type": "code",
   "execution_count": 57,
   "metadata": {},
   "outputs": [
    {
     "data": {
      "text/html": [
       "<div>\n",
       "<style scoped>\n",
       "    .dataframe tbody tr th:only-of-type {\n",
       "        vertical-align: middle;\n",
       "    }\n",
       "\n",
       "    .dataframe tbody tr th {\n",
       "        vertical-align: top;\n",
       "    }\n",
       "\n",
       "    .dataframe thead th {\n",
       "        text-align: right;\n",
       "    }\n",
       "</style>\n",
       "<table border=\"1\" class=\"dataframe\">\n",
       "  <thead>\n",
       "    <tr style=\"text-align: right;\">\n",
       "      <th></th>\n",
       "      <th>County</th>\n",
       "      <th>annual_ghg_emissions</th>\n",
       "      <th>annual_operating_cost</th>\n",
       "      <th>total_annual_cost</th>\n",
       "      <th>annual_fuel_use</th>\n",
       "      <th>total_vehicle_count</th>\n",
       "      <th>vehicle_split_bev</th>\n",
       "      <th>vehicle_split_ffv</th>\n",
       "      <th>vehicle_split_sidi</th>\n",
       "      <th>county</th>\n",
       "      <th>state</th>\n",
       "    </tr>\n",
       "  </thead>\n",
       "  <tbody>\n",
       "    <tr>\n",
       "      <th>283</th>\n",
       "      <td>Ramsey_MN</td>\n",
       "      <td>2.138466e+11</td>\n",
       "      <td>16908158.0</td>\n",
       "      <td>359955430.0</td>\n",
       "      <td>12906991.0</td>\n",
       "      <td>52410.0</td>\n",
       "      <td>0.0</td>\n",
       "      <td>0.0</td>\n",
       "      <td>100.0</td>\n",
       "      <td>Ramsey</td>\n",
       "      <td>MN</td>\n",
       "    </tr>\n",
       "  </tbody>\n",
       "</table>\n",
       "</div>"
      ],
      "text/plain": [
       "        County  annual_ghg_emissions  annual_operating_cost  \\\n",
       "283  Ramsey_MN          2.138466e+11             16908158.0   \n",
       "\n",
       "     total_annual_cost  annual_fuel_use  total_vehicle_count  \\\n",
       "283        359955430.0       12906991.0              52410.0   \n",
       "\n",
       "     vehicle_split_bev  vehicle_split_ffv  vehicle_split_sidi  county state  \n",
       "283                0.0                0.0               100.0  Ramsey    MN  "
      ]
     },
     "execution_count": 57,
     "metadata": {},
     "output_type": "execute_result"
    }
   ],
   "source": [
    "# visual_df[visual_df['county'] == 'Orange']\n",
    "visual_df[visual_df['County']=='Ramsey_MN']"
   ]
  },
  {
   "cell_type": "code",
   "execution_count": 43,
   "metadata": {},
   "outputs": [],
   "source": [
    "visual_dict = visual_df.drop(['county','state'],axis=1).set_index('County').T.to_dict()"
   ]
  },
  {
   "cell_type": "code",
   "execution_count": 44,
   "metadata": {},
   "outputs": [
    {
     "data": {
      "text/plain": [
       "{'annual_ghg_emissions': 2330480570000.0,\n",
       " 'annual_operating_cost': 380490050.0,\n",
       " 'total_annual_cost': 7422482300.0,\n",
       " 'annual_fuel_use': 171742756.0,\n",
       " 'total_vehicle_count': 1217268.96,\n",
       " 'vehicle_split_bev': 84.6,\n",
       " 'vehicle_split_ffv': 15.4,\n",
       " 'vehicle_split_sidi': 0.0}"
      ]
     },
     "execution_count": 44,
     "metadata": {},
     "output_type": "execute_result"
    }
   ],
   "source": [
    "visual_dict['Aitkin_MN']"
   ]
  },
  {
   "cell_type": "code",
   "execution_count": 45,
   "metadata": {},
   "outputs": [],
   "source": [
    "counties_list = list(visual_df['County'])"
   ]
  },
  {
   "cell_type": "code",
   "execution_count": 46,
   "metadata": {},
   "outputs": [
    {
     "data": {
      "text/plain": [
       "{'STATE': '06'}"
      ]
     },
     "execution_count": 46,
     "metadata": {},
     "output_type": "execute_result"
    }
   ],
   "source": [
    "dictionary1 = {'STATE': '06'}\n",
    "dictionary1"
   ]
  },
  {
   "cell_type": "code",
   "execution_count": 47,
   "metadata": {},
   "outputs": [
    {
     "data": {
      "text/plain": [
       "{'06': 'CA', '27': 'MN', '48': 'TX'}"
      ]
     },
     "execution_count": 47,
     "metadata": {},
     "output_type": "execute_result"
    }
   ],
   "source": [
    "selected_states_dict"
   ]
  },
  {
   "cell_type": "code",
   "execution_count": 48,
   "metadata": {},
   "outputs": [
    {
     "data": {
      "text/plain": [
       "{'STATE': 'CA'}"
      ]
     },
     "execution_count": 48,
     "metadata": {},
     "output_type": "execute_result"
    }
   ],
   "source": [
    "{k: selected_states_dict.get(v, v) for k, v in dictionary1.items()}"
   ]
  },
  {
   "cell_type": "code",
   "execution_count": 49,
   "metadata": {},
   "outputs": [
    {
     "data": {
      "text/plain": [
       "{1: 1, 2: 'ha!', 3: 3}"
      ]
     },
     "execution_count": 49,
     "metadata": {},
     "output_type": "execute_result"
    }
   ],
   "source": [
    "d1 = {1: 1, 2: 2}\n",
    "d2 = {2: 'ha!', 3: 3}\n",
    "d1.update(d2)\n",
    "d1"
   ]
  },
  {
   "cell_type": "code",
   "execution_count": 50,
   "metadata": {},
   "outputs": [],
   "source": [
    "counter = []\n",
    "for i,j in enumerate(gj['features']):\n",
    "#     dictionary1 = \n",
    "    \n",
    "#     gj['features'][i]['properties'] = {k: selected_states_dict.get(v, v) for k, v in dictionary1.items()}\n",
    "    if gj['features'][i]['properties']['NAME'] in counties_list:\n",
    "        counter.append(1)\n",
    "        gj['features'][i]['properties'].update(visual_dict[gj['features'][i]['properties']['NAME']])"
   ]
  },
  {
   "cell_type": "code",
   "execution_count": 51,
   "metadata": {},
   "outputs": [
    {
     "data": {
      "text/plain": [
       "399"
      ]
     },
     "execution_count": 51,
     "metadata": {},
     "output_type": "execute_result"
    }
   ],
   "source": [
    "len(counter)"
   ]
  },
  {
   "cell_type": "code",
   "execution_count": 52,
   "metadata": {},
   "outputs": [
    {
     "data": {
      "text/plain": [
       "{'GEO_ID': '0500000US06003',\n",
       " 'STATE': 'CA',\n",
       " 'COUNTY': '003',\n",
       " 'NAME': 'Alpine_CA',\n",
       " 'LSAD': 'County',\n",
       " 'CENSUSAREA': 738.332,\n",
       " 'annual_ghg_emissions': 4144050400.0,\n",
       " 'annual_operating_cost': 881119.3500000002,\n",
       " 'total_annual_cost': 11305466.8,\n",
       " 'annual_fuel_use': 334471.05199999997,\n",
       " 'total_vehicle_count': 1697.0,\n",
       " 'vehicle_split_bev': 44.8,\n",
       " 'vehicle_split_ffv': 0.0,\n",
       " 'vehicle_split_sidi': 55.2}"
      ]
     },
     "execution_count": 52,
     "metadata": {},
     "output_type": "execute_result"
    }
   ],
   "source": [
    "# for i,j in enumerate(gj['features']):\n",
    "#     print(gj['features'][i]['properties'])\n",
    "gj['features'][200]['properties']"
   ]
  },
  {
   "cell_type": "code",
   "execution_count": 53,
   "metadata": {},
   "outputs": [],
   "source": [
    "from geojson import dump\n",
    "# with open('us_counties_2010.json', encoding = \"ISO-8859-1\") as f:\n",
    "#     gj = geojson.load(f)\n",
    "\n",
    "with open('myfile.geojson', 'w') as f:\n",
    "    dump(gj, f)"
   ]
  },
  {
   "cell_type": "code",
   "execution_count": 54,
   "metadata": {},
   "outputs": [
    {
     "name": "stdout",
     "output_type": "stream",
     "text": [
      "229084984.0\n",
      "30012953800.000008\n",
      "69309903600.0\n",
      "143996466102.4\n",
      "219972622399.99988\n",
      "369871720600.00037\n",
      "1058990873599.9991\n"
     ]
    }
   ],
   "source": [
    "print(visual_df.annual_ghg_emissions.quantile(0))\n",
    "print(visual_df.annual_ghg_emissions.quantile(0.2))\n",
    "print(visual_df.annual_ghg_emissions.quantile(0.4))\n",
    "print(visual_df.annual_ghg_emissions.quantile(0.6))\n",
    "print(visual_df.annual_ghg_emissions.quantile(0.7))\n",
    "print(visual_df.annual_ghg_emissions.quantile(0.8))\n",
    "print(visual_df.annual_ghg_emissions.quantile(0.9))"
   ]
  },
  {
   "cell_type": "code",
   "execution_count": 55,
   "metadata": {},
   "outputs": [],
   "source": [
    "# gj"
   ]
  },
  {
   "cell_type": "code",
   "execution_count": null,
   "metadata": {},
   "outputs": [],
   "source": []
  },
  {
   "cell_type": "code",
   "execution_count": null,
   "metadata": {},
   "outputs": [],
   "source": []
  },
  {
   "cell_type": "code",
   "execution_count": 56,
   "metadata": {},
   "outputs": [],
   "source": [
    "# m = folium.Map(location=[39.8333333, -98.585522], zoom_start=5)\n",
    "# folium.Choropleth(geo_data = gj,\n",
    "#                  name='choropleth',\n",
    "#                  data=visual_df,\n",
    "#                  columns = ['County','vehicle_count_ffv'],\n",
    "#                  key_on = 'feature.properties.NAME',\n",
    "#                  nan_fill_opacity='D3D3D3',\n",
    "#                  fill_colour = 'Y1Gn',\n",
    "#                  fill_color='YlGn',\n",
    "#                  fill_opacity=0.7,\n",
    "#                  line_opacity=0.2,\n",
    "#                   bins=[0,10,20,30,40,50,60,70,90,100],\n",
    "#                  legend_name='Vehicle Count)',\n",
    "#                 highlight=True).add_to(m)\n",
    "# folium.LayerControl().add_to(m)\n",
    "# m"
   ]
  },
  {
   "cell_type": "markdown",
   "metadata": {},
   "source": [
    "[possible solution](https://stackoverflow.com/questions/38014480/python-folium-choropleth-map-keyerror-none)\n",
    "\n",
    "[optimal](https://leafletjs.com/examples/choropleth/example.html)"
   ]
  },
  {
   "cell_type": "code",
   "execution_count": null,
   "metadata": {},
   "outputs": [],
   "source": []
  },
  {
   "cell_type": "code",
   "execution_count": null,
   "metadata": {},
   "outputs": [],
   "source": []
  }
 ],
 "metadata": {
  "kernelspec": {
   "display_name": "Python 3",
   "language": "python",
   "name": "python3"
  },
  "language_info": {
   "codemirror_mode": {
    "name": "ipython",
    "version": 3
   },
   "file_extension": ".py",
   "mimetype": "text/x-python",
   "name": "python",
   "nbconvert_exporter": "python",
   "pygments_lexer": "ipython3",
   "version": "3.6.3"
  }
 },
 "nbformat": 4,
 "nbformat_minor": 4
}
