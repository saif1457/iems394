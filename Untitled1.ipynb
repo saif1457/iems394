{
 "cells": [
  {
   "cell_type": "code",
   "execution_count": 1,
   "metadata": {},
   "outputs": [],
   "source": [
    "from pulp import *\n",
    "PRODUCTS = ['P','Q','R']\n",
    "MACHINES = ['A','B','C','D']\n",
    "\n",
    "profit = {'P':45,\n",
    "         'Q':60,\n",
    "         'R':50}\n",
    "time = {'P':{'A':20,'B':12,'C':15,'D':10},\n",
    "       'Q':{'A':10,'B':28,'C':6,'D':15},\n",
    "       'R':{'A':10,'B':16,'C':16,'D':0}}\n",
    "\n",
    "market = {'P':100,\n",
    "         'Q':40,\n",
    "         'R':60}\n",
    "\n",
    "prob = LpProblem('Manufacturing',LpMaximize)\n",
    "unit_variables = LpVariable.dicts('Units',PRODUCTS,0)\n",
    "\n",
    "prob += lpSum(profit[j] * unit_variables[j] for j in PRODUCTS)"
   ]
  },
  {
   "cell_type": "code",
   "execution_count": 2,
   "metadata": {},
   "outputs": [
    {
     "data": {
      "text/plain": [
       "{'P': Units_P, 'Q': Units_Q, 'R': Units_R}"
      ]
     },
     "execution_count": 2,
     "metadata": {},
     "output_type": "execute_result"
    }
   ],
   "source": [
    "unit_variables"
   ]
  },
  {
   "cell_type": "code",
   "execution_count": null,
   "metadata": {},
   "outputs": [],
   "source": []
  }
 ],
 "metadata": {
  "kernelspec": {
   "display_name": "Python 3",
   "language": "python",
   "name": "python3"
  },
  "language_info": {
   "codemirror_mode": {
    "name": "ipython",
    "version": 3
   },
   "file_extension": ".py",
   "mimetype": "text/x-python",
   "name": "python",
   "nbconvert_exporter": "python",
   "pygments_lexer": "ipython3",
   "version": "3.6.3"
  }
 },
 "nbformat": 4,
 "nbformat_minor": 4
}
