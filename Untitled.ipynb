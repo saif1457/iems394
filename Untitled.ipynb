{
 "cells": [
  {
   "cell_type": "markdown",
   "metadata": {},
   "source": [
    "### IEMS 394\n",
    "\n",
    "Objective: Load pickled data and deploy AMPL model.\n",
    "\n",
    "<img src=\"proposal.png\" alt=\"drawing\" heigh=\"500\" width=\"600\"/>"
   ]
  },
  {
   "cell_type": "code",
   "execution_count": 12,
   "metadata": {},
   "outputs": [],
   "source": [
    "import geopandas as gp\n",
    "from itertools import product\n",
    "import numpy as np\n",
    "import pandas as pd\n",
    "from scipy.optimize import minimize\n",
    "from tqdm import tqdm"
   ]
  },
  {
   "cell_type": "code",
   "execution_count": null,
   "metadata": {},
   "outputs": [],
   "source": [
    "def objective(x):\n",
    "    x1 = x[0] #variables\n",
    "    x2 = x[1] #variables\n",
    "    x3 = x[2]\n",
    "    x4 = x[3]\n",
    "    return x1*x4*(x1+x2+x3)+x3"
   ]
  },
  {
   "cell_type": "markdown",
   "metadata": {},
   "source": [
    "$s.t. x_1x_2x_3x_4 \\geq 25$"
   ]
  },
  {
   "cell_type": "code",
   "execution_count": null,
   "metadata": {},
   "outputs": [],
   "source": [
    "def constraint1(x):\n",
    "    return x[0]*x[1]*x[2]*x[3] - 25.0"
   ]
  },
  {
   "cell_type": "markdown",
   "metadata": {},
   "source": [
    "$x_1^2 + x_2^2 + x_3^2 + x_4^2 = 40$"
   ]
  },
  {
   "cell_type": "code",
   "execution_count": null,
   "metadata": {},
   "outputs": [],
   "source": [
    "def constraint2(x):\n",
    "    sum_sq = 40\n",
    "    for i in range(4):\n",
    "        sum_sq = sum_sq - x[i]**2\n",
    "    return sum_sq"
   ]
  },
  {
   "cell_type": "code",
   "execution_count": null,
   "metadata": {},
   "outputs": [],
   "source": [
    "x0 = [1,5,20,1]\n",
    "print(objective(x0))"
   ]
  },
  {
   "cell_type": "markdown",
   "metadata": {},
   "source": [
    "Set up bounds..."
   ]
  },
  {
   "cell_type": "code",
   "execution_count": null,
   "metadata": {},
   "outputs": [],
   "source": [
    "b = (0.3,8.0)\n",
    "bounds = (b,b,b,b)\n",
    "con1 = {'type': 'ineq', 'fun': constraint1}\n",
    "con2 = {'type': 'ineq', 'fun': constraint2}\n",
    "cons = [con1, con2]"
   ]
  },
  {
   "cell_type": "code",
   "execution_count": null,
   "metadata": {},
   "outputs": [],
   "source": [
    "sol = minimize(objective, x0, method = 'SLSQP',bounds = bounds, constraints = cons)\n",
    "print(sol)"
   ]
  },
  {
   "cell_type": "code",
   "execution_count": null,
   "metadata": {},
   "outputs": [],
   "source": [
    "print(sol.fun,sol.x)"
   ]
  },
  {
   "cell_type": "markdown",
   "metadata": {},
   "source": [
    "modelling frameworks:\n",
    "- SciPy\n",
    "- PyOMO\n",
    "- PuLP\n",
    "\n",
    "solvers:\n",
    "- COIN\n",
    "- CPLEX\n",
    "- GUROBI\n",
    "- Revised simplex model\n",
    "- Interior Point methods\n",
    "- GLPK (GNU for Programming Kit)\n",
    "\n"
   ]
  },
  {
   "cell_type": "markdown",
   "metadata": {},
   "source": [
    "Pulp first attempt:"
   ]
  },
  {
   "cell_type": "code",
   "execution_count": null,
   "metadata": {},
   "outputs": [],
   "source": [
    "!pip install pulp"
   ]
  },
  {
   "cell_type": "code",
   "execution_count": null,
   "metadata": {},
   "outputs": [],
   "source": []
  },
  {
   "cell_type": "code",
   "execution_count": 57,
   "metadata": {},
   "outputs": [],
   "source": [
    "#SETS\n",
    "CUSTOMERS = [1,2,3,4,5]\n",
    "FACILITY = ['FAC 1', 'FAC 2', 'FAC 3']\n",
    "\n",
    "#PARAMETERS\n",
    "demand = {1: 80,\n",
    "         2: 270,\n",
    "         3: 250,\n",
    "         4: 160,\n",
    "         5: 180}\n",
    "\n",
    "activation_cost = {'FAC 1': 1000,\n",
    "                  'FAC 2': 1000,\n",
    "                  'FAC 3': 1000}\n",
    "\n",
    "max_amp = {'FAC 1': 500,\n",
    "          'FAC 2': 500,\n",
    "          'FAC 3': 500}\n",
    "\n",
    "transportation = {'FAC 1':{1:4, 2:5, 3:6, 4:8, 5:10},\n",
    "                 'FAC 2': {1:6, 2:4, 3:3, 4:5, 5:8},\n",
    "                 'FAC 3': {1:9, 2:7, 3:4, 4:3, 5:4}}\n",
    "\n",
    "#SET PROBLEM VARIABLE\n",
    "prob = LpProblem('FacilityLocation',LpMinimize)\n",
    "\n",
    "#DECISION VARIABLES\n",
    "serv_vars = LpVariable.dicts('Service',[(i,j) for i in CUSTOMERS for j in FACILITY],0)\n",
    "use_vars = LpVariable.dicts('UseLocation', FACILITY, 0,1, LpBinary)\n",
    "\n",
    "#OBJECTIVE FUNCTION: minimise cost, determine facilities (mixed integer)\n",
    "prob += lpSum(activation_cost[j]*use_vars[j] for j in FACILITY) \\\n",
    "        + lpSum(transportation[j][i] * serv_vars[(i,j)] for j in FACILITY for i in CUSTOMERS)\n",
    "\n",
    "for i in CUSTOMERS:\n",
    "    prob += lpSum(serv_vars[(i,j)] for j in FACILITY) == demand[i]"
   ]
  },
  {
   "cell_type": "code",
   "execution_count": 59,
   "metadata": {},
   "outputs": [],
   "source": [
    "# prob"
   ]
  },
  {
   "cell_type": "code",
   "execution_count": 56,
   "metadata": {},
   "outputs": [
    {
     "name": "stdout",
     "output_type": "stream",
     "text": [
      "Service_(1,_'FAC_1')\n",
      "Service_(2,_'FAC_1')\n",
      "Service_(3,_'FAC_1')\n",
      "Service_(4,_'FAC_1')\n",
      "Service_(5,_'FAC_1')\n",
      "Service_(1,_'FAC_2')\n",
      "Service_(2,_'FAC_2')\n",
      "Service_(3,_'FAC_2')\n",
      "Service_(4,_'FAC_2')\n",
      "Service_(5,_'FAC_2')\n",
      "Service_(1,_'FAC_3')\n",
      "Service_(2,_'FAC_3')\n",
      "Service_(3,_'FAC_3')\n",
      "Service_(4,_'FAC_3')\n",
      "Service_(5,_'FAC_3')\n"
     ]
    }
   ],
   "source": [
    "for j in FACILITY:\n",
    "    for i in CUSTOMERS:\n",
    "        print(serv_vars[(i,j)])"
   ]
  },
  {
   "cell_type": "code",
   "execution_count": 41,
   "metadata": {},
   "outputs": [
    {
     "name": "stdout",
     "output_type": "stream",
     "text": [
      "Status :  Optimal\n",
      "The Max Value =  22.5\n",
      "user_vars: \n",
      "[0. 0. 0. 0. 1.]\n"
     ]
    }
   ],
   "source": [
    "from pulp import  *\n",
    "import numpy as np\n",
    "\n",
    "INTEREST = [5,10,15,20,25]\n",
    "POPULARITY = [4,8,12,16,20]\n",
    "COST = [2,4,6,8,10]\n",
    "N = len(COST)\n",
    "set_user = range(N)\n",
    "\n",
    "e=0.5    \n",
    "budget=10\n",
    "\n",
    "#PROBLEM VARIABLE\n",
    "prob = LpProblem(\"MaxValue\", LpMaximize)\n",
    "\n",
    "# DECISION VARIABLE\n",
    "x = LpVariable.dicts(\"user_selected\", set_user, 0, 1, LpBinary)\n",
    "\n",
    "# OBJECTIVE fUNCTION\n",
    "prob += lpSum([x[i]*(INTEREST[i]*e + POPULARITY[i]*(1-e)) for i in set_user])\n",
    "\n",
    "# CONSTRAINTS\n",
    "prob += lpSum([x[i]*COST[i] for i in set_user]) <= budget\n",
    "\n",
    "#SOLVE\n",
    "prob.solve()\n",
    "print(\"Status : \",LpStatus[prob.status])\n",
    "\n",
    "# PRINT OPTIMAL SOLUTION\n",
    "print(\"The Max Value = \",value(prob.objective))\n",
    "\n",
    "# Show which users selected\n",
    "x_soln = np.array([x[i].varValue for i in set_user])\n",
    "print(\"user_vars: \")\n",
    "print(x_soln)"
   ]
  },
  {
   "cell_type": "code",
   "execution_count": 60,
   "metadata": {},
   "outputs": [
    {
     "name": "stdout",
     "output_type": "stream",
     "text": [
      "Units_P = 81.818182\n",
      "Units_Q = 16.363636\n",
      "Units_R = 60.0\n",
      "Total Profit: 1663.6363499999998\n"
     ]
    }
   ],
   "source": [
    "from pulp import *\n",
    "PRODUCTS = ['P','Q','R']\n",
    "MACHINES = ['A','B','C','D']\n",
    "\n",
    "profit = {'P':45,\n",
    "         'Q':60,\n",
    "         'R':50}\n",
    "time = {'P':{'A':20,'B':12,'C':15,'D':10},\n",
    "       'Q':{'A':10,'B':28,'C':6,'D':15},\n",
    "       'R':{'A':10,'B':16,'C':16,'D':0}}\n",
    "\n",
    "market = {'P':100,\n",
    "         'Q':40,\n",
    "         'R':60}\n",
    "\n",
    "prob = LpProblem('Manufacturing',LpMaximize)\n",
    "unit_variables = LpVariable.dicts('Units',PRODUCTS,0)\n",
    "\n",
    "prob += lpSum(profit[j] * unit_variables[j] for j in PRODUCTS)\n",
    " \n",
    "for i in MACHINES:\n",
    "    prob += lpSum(unit_variables[j] *  time[j][i] for j in PRODUCTS) <= 2400\n",
    "    \n",
    "for j in PRODUCTS:\n",
    "    prob += unit_variables[j] <= market[j]\n",
    "\n",
    "prob.solve()\n",
    "\n",
    "\n",
    "for v in prob.variables():\n",
    "    print(v.name, '=',v.varValue)\n",
    "    \n",
    "print(\"Total Profit:\",value(prob.objective)-6000)"
   ]
  },
  {
   "cell_type": "code",
   "execution_count": 61,
   "metadata": {},
   "outputs": [
    {
     "data": {
      "text/plain": [
       "{'P': Units_P, 'Q': Units_Q, 'R': Units_R}"
      ]
     },
     "execution_count": 61,
     "metadata": {},
     "output_type": "execute_result"
    }
   ],
   "source": [
    "unit_variables"
   ]
  },
  {
   "cell_type": "code",
   "execution_count": 52,
   "metadata": {},
   "outputs": [
    {
     "name": "stdout",
     "output_type": "stream",
     "text": [
      "Units_P\n",
      "45\n",
      "Units_Q\n",
      "60\n",
      "Units_R\n",
      "50\n"
     ]
    }
   ],
   "source": [
    "for j in PRODUCTS:\n",
    "    print(unit_variables[j])\n",
    "    print(profit[j])"
   ]
  },
  {
   "cell_type": "markdown",
   "metadata": {},
   "source": [
    "Ok so making parallelst our project, we can import all the sets here"
   ]
  },
  {
   "cell_type": "code",
   "execution_count": 3,
   "metadata": {},
   "outputs": [],
   "source": [
    "import pandas as pd\n",
    "\n",
    "V = pd.read_csv('https://raw.githubusercontent.com/saif1457/iems394/master/data/V.csv') #vehicle types\n",
    "F = pd.read_csv('https://raw.githubusercontent.com/saif1457/iems394/master/data/F.csv') #fuel types\n",
    "E = pd.read_csv('https://raw.githubusercontent.com/saif1457/iems394/master/data/E.csv') #driving env\n",
    "R = pd.read_csv('https://raw.githubusercontent.com/saif1457/iems394/master/data/R.csv') #counties\n",
    "M = pd.read_csv('https://raw.githubusercontent.com/saif1457/iems394/master/data/M.csv') #charging stations\n",
    "S = pd.read_csv('https://raw.githubusercontent.com/saif1457/iems394/master/data/S.csv') #states\n",
    "\n",
    "F['fuel_type'] = F['fuel_type'].apply(lambda x: x.replace('electricity','Electricity'))"
   ]
  },
  {
   "cell_type": "code",
   "execution_count": 4,
   "metadata": {},
   "outputs": [],
   "source": [
    "VEHICLE_TYPES = list(V['vehicle_type'])\n",
    "FUEL_TYPES = list(F['fuel_type'])\n",
    "DRIVING_ENV = list(E['driving_environment'])\n",
    "COUNTIES = list(R['county'])\n",
    "CHARGING_STATIONS = list(M['filling_stations'])\n",
    "STATES = list(S['state'])"
   ]
  },
  {
   "cell_type": "code",
   "execution_count": 5,
   "metadata": {},
   "outputs": [
    {
     "name": "stdout",
     "output_type": "stream",
     "text": [
      "CPU times: user 343 ms, sys: 133 ms, total: 475 ms\n",
      "Wall time: 2.52 s\n"
     ]
    }
   ],
   "source": [
    "%%time\n",
    "#EF(f,s): Emission factor for fuel type f in state s, in gallons/mile  \n",
    "EF = pd.read_csv('https://raw.githubusercontent.com/saif1457/iems394/master/data/EF(f%2Cs).csv')\n",
    "EF['fuel_type'] = EF['fuel_type'].apply(lambda x: x.replace('electricity','Electricity'))\n",
    "#FE(v,f):Average fuel economy for vehicle type v using fuel f\n",
    "FE = pd.read_csv('https://raw.githubusercontent.com/saif1457/iems394/master/data/FE(v%2Cf).csv')\n",
    "FE['fuel_type'] = FE['fuel_type'].apply(lambda x: x.replace('electricity','Electricity'))\n",
    "#C(f): Cost of fuel type f \n",
    "C = pd.read_csv('https://raw.githubusercontent.com/saif1457/iems394/master/data/C(F).csv')\n",
    "#CC (v,s): Capital cost of vehicle type v in state s\n",
    "CC = pd.read_csv('https://raw.githubusercontent.com/saif1457/iems394/master/data/CC(v%2Cs).csv') \n",
    "#CG: cost of fuel/gallon\n",
    "CG = pd.read_csv('https://raw.githubusercontent.com/saif1457/iems394/master/data/CG(F).csv')\n",
    "CG['fuel_type'] = CG['fuel_type'].apply(lambda x: x.replace('electricity','Electricity'))\n",
    "#D: Emission decrease goals per year\n",
    "D = 0.25\n",
    "#W(s):Current yearly GHG emissions per state\n",
    "W = pd.read_csv('https://raw.githubusercontent.com/saif1457/iems394/master/data/W(s).csv')\n",
    "#TM (v, f, r): Total miles for vehicle v using fuel f in county r\n",
    "TM = pd.read_csv('https://raw.githubusercontent.com/saif1457/iems394/master/data/TM(f%2Cs).csv')\n",
    "# # TM.drop(['household_income_ID'],axis=1,inplace=True)\n",
    "#N(r): Average income per county  \n",
    "N = pd.read_csv('https://raw.githubusercontent.com/saif1457/iems394/master/data/N(r).csv')\n",
    "# N.drop(['household_income_ID'],axis=1,inplace=True)\n",
    "#B(r) county + state linking table\n",
    "B = pd.read_csv('https://raw.githubusercontent.com/saif1457/iems394/master/data/B(r).csv')\n",
    "#CF(v,f): Fuel consumption for vehicle type v using fuel f (1/fuel economy)\n",
    "CF = FE\n",
    "CF['fuel_economy'] = (1 / CF['fuel_economy'])"
   ]
  },
  {
   "cell_type": "code",
   "execution_count": 6,
   "metadata": {},
   "outputs": [],
   "source": [
    "\n",
    "profit = {'P':45,\n",
    "         'Q':60,\n",
    "         'R':50}\n",
    "time = {'P':{'A':20,'B':12,'C':15,'D':10},\n",
    "       'Q':{'A':10,'B':28,'C':6,'D':15},\n",
    "       'R':{'A':10,'B':16,'C':16,'D':0}}\n",
    "\n",
    "market = {'P':100,\n",
    "         'Q':40,\n",
    "         'R':60}"
   ]
  },
  {
   "cell_type": "code",
   "execution_count": 31,
   "metadata": {},
   "outputs": [
    {
     "data": {
      "text/html": [
       "<div>\n",
       "<style scoped>\n",
       "    .dataframe tbody tr th:only-of-type {\n",
       "        vertical-align: middle;\n",
       "    }\n",
       "\n",
       "    .dataframe tbody tr th {\n",
       "        vertical-align: top;\n",
       "    }\n",
       "\n",
       "    .dataframe thead th {\n",
       "        text-align: right;\n",
       "    }\n",
       "</style>\n",
       "<table border=\"1\" class=\"dataframe\">\n",
       "  <thead>\n",
       "    <tr style=\"text-align: right;\">\n",
       "      <th></th>\n",
       "      <th>maingroup</th>\n",
       "      <th>subgroup</th>\n",
       "      <th>selectedCol</th>\n",
       "    </tr>\n",
       "  </thead>\n",
       "  <tbody>\n",
       "    <tr>\n",
       "      <th>0</th>\n",
       "      <td>A</td>\n",
       "      <td>123</td>\n",
       "      <td>1</td>\n",
       "    </tr>\n",
       "    <tr>\n",
       "      <th>1</th>\n",
       "      <td>B</td>\n",
       "      <td>345</td>\n",
       "      <td>5</td>\n",
       "    </tr>\n",
       "    <tr>\n",
       "      <th>2</th>\n",
       "      <td>C</td>\n",
       "      <td>712</td>\n",
       "      <td>4</td>\n",
       "    </tr>\n",
       "    <tr>\n",
       "      <th>3</th>\n",
       "      <td>B</td>\n",
       "      <td>768</td>\n",
       "      <td>2</td>\n",
       "    </tr>\n",
       "    <tr>\n",
       "      <th>4</th>\n",
       "      <td>B</td>\n",
       "      <td>768</td>\n",
       "      <td>3</td>\n",
       "    </tr>\n",
       "    <tr>\n",
       "      <th>5</th>\n",
       "      <td>A</td>\n",
       "      <td>123</td>\n",
       "      <td>9</td>\n",
       "    </tr>\n",
       "    <tr>\n",
       "      <th>6</th>\n",
       "      <td>C</td>\n",
       "      <td>178</td>\n",
       "      <td>6</td>\n",
       "    </tr>\n",
       "    <tr>\n",
       "      <th>7</th>\n",
       "      <td>C</td>\n",
       "      <td>178</td>\n",
       "      <td>5</td>\n",
       "    </tr>\n",
       "    <tr>\n",
       "      <th>8</th>\n",
       "      <td>A</td>\n",
       "      <td>321</td>\n",
       "      <td>3</td>\n",
       "    </tr>\n",
       "  </tbody>\n",
       "</table>\n",
       "</div>"
      ],
      "text/plain": [
       "  maingroup  subgroup  selectedCol\n",
       "0         A       123            1\n",
       "1         B       345            5\n",
       "2         C       712            4\n",
       "3         B       768            2\n",
       "4         B       768            3\n",
       "5         A       123            9\n",
       "6         C       178            6\n",
       "7         C       178            5\n",
       "8         A       321            3"
      ]
     },
     "execution_count": 31,
     "metadata": {},
     "output_type": "execute_result"
    }
   ],
   "source": [
    "df = pd.DataFrame([\n",
    "           ['A', 123, 1], \n",
    "           ['B', 345, 5], \n",
    "           ['C', 712, 4],\n",
    "           ['B', 768, 2], \n",
    "           ['B', 768, 3], \n",
    "           ['A', 123, 9], \n",
    "           ['C', 178, 6], \n",
    "           ['C', 178, 5],  \n",
    "           ['A', 321, 3]], \n",
    "           columns=['maingroup', 'subgroup', 'selectedCol'])\n",
    "df"
   ]
  },
  {
   "cell_type": "code",
   "execution_count": 37,
   "metadata": {},
   "outputs": [
    {
     "data": {
      "text/plain": [
       "{'CA': {'E10': [410], 'E85': [282], 'electricity': [120]},\n",
       " 'MN': {'E10': [415], 'E85': [293], 'electricity': [209]},\n",
       " 'TX': {'E10': [414], 'E85': [291], 'electricity': [189]}}"
      ]
     },
     "execution_count": 37,
     "metadata": {},
     "output_type": "execute_result"
    }
   ],
   "source": [
    "d = {k: f.groupby('fuel_type')['emission_factor'].apply(list).to_dict()\n",
    "     for k, f in EF.groupby('state')}\n",
    "d"
   ]
  },
  {
   "cell_type": "code",
   "execution_count": null,
   "metadata": {},
   "outputs": [],
   "source": [
    "constraint2(ce)"
   ]
  },
  {
   "cell_type": "code",
   "execution_count": null,
   "metadata": {},
   "outputs": [],
   "source": [
    "# FE = {'BEV':{'electricity':0.009168},\n",
    "# 'SIDI_ICE': {'E10':0.024988},\n",
    "# 'FFV':{'E85':0.024691}}"
   ]
  },
  {
   "cell_type": "code",
   "execution_count": 38,
   "metadata": {},
   "outputs": [
    {
     "data": {
      "text/html": [
       "<div>\n",
       "<style scoped>\n",
       "    .dataframe tbody tr th:only-of-type {\n",
       "        vertical-align: middle;\n",
       "    }\n",
       "\n",
       "    .dataframe tbody tr th {\n",
       "        vertical-align: top;\n",
       "    }\n",
       "\n",
       "    .dataframe thead th {\n",
       "        text-align: right;\n",
       "    }\n",
       "</style>\n",
       "<table border=\"1\" class=\"dataframe\">\n",
       "  <thead>\n",
       "    <tr style=\"text-align: right;\">\n",
       "      <th></th>\n",
       "      <th>vehicle_type</th>\n",
       "      <th>fuel_type</th>\n",
       "      <th>fuel_economy</th>\n",
       "    </tr>\n",
       "  </thead>\n",
       "  <tbody>\n",
       "    <tr>\n",
       "      <th>0</th>\n",
       "      <td>BEV</td>\n",
       "      <td>electricity</td>\n",
       "      <td>0.009168</td>\n",
       "    </tr>\n",
       "    <tr>\n",
       "      <th>1</th>\n",
       "      <td>SIDI_ICE</td>\n",
       "      <td>E10</td>\n",
       "      <td>0.024988</td>\n",
       "    </tr>\n",
       "    <tr>\n",
       "      <th>2</th>\n",
       "      <td>FFV</td>\n",
       "      <td>E85</td>\n",
       "      <td>0.024691</td>\n",
       "    </tr>\n",
       "  </tbody>\n",
       "</table>\n",
       "</div>"
      ],
      "text/plain": [
       "  vehicle_type    fuel_type  fuel_economy\n",
       "0          BEV  electricity      0.009168\n",
       "1     SIDI_ICE          E10      0.024988\n",
       "2          FFV          E85      0.024691"
      ]
     },
     "execution_count": 38,
     "metadata": {},
     "output_type": "execute_result"
    }
   ],
   "source": [
    "FE"
   ]
  },
  {
   "cell_type": "code",
   "execution_count": 39,
   "metadata": {},
   "outputs": [
    {
     "data": {
      "text/plain": [
       "{'BEV': {'electricity': [0.009167863554173324]},\n",
       " 'FFV': {'E85': [0.024691358024691357]},\n",
       " 'SIDI_ICE': {'E10': [0.02498750624687656]}}"
      ]
     },
     "execution_count": 39,
     "metadata": {},
     "output_type": "execute_result"
    }
   ],
   "source": [
    "d = {k: f.groupby('fuel_type')['fuel_economy'].apply(list).to_dict()\n",
    "     for k, f in FE.groupby('vehicle_type')}\n",
    "d"
   ]
  },
  {
   "cell_type": "code",
   "execution_count": null,
   "metadata": {},
   "outputs": [],
   "source": []
  }
 ],
 "metadata": {
  "kernelspec": {
   "display_name": "Python 3",
   "language": "python",
   "name": "python3"
  },
  "language_info": {
   "codemirror_mode": {
    "name": "ipython",
    "version": 3
   },
   "file_extension": ".py",
   "mimetype": "text/x-python",
   "name": "python",
   "nbconvert_exporter": "python",
   "pygments_lexer": "ipython3",
   "version": "3.6.3"
  }
 },
 "nbformat": 4,
 "nbformat_minor": 4
}
